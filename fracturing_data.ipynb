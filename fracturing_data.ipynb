{
  "nbformat": 4,
  "nbformat_minor": 0,
  "metadata": {
    "colab": {
      "provenance": [],
      "authorship_tag": "ABX9TyNwkwgRkwHuB8IfW8AuiD+M",
      "include_colab_link": true
    },
    "kernelspec": {
      "name": "python3",
      "display_name": "Python 3"
    },
    "language_info": {
      "name": "python"
    }
  },
  "cells": [
    {
      "cell_type": "markdown",
      "metadata": {
        "id": "view-in-github",
        "colab_type": "text"
      },
      "source": [
        "<a href=\"https://colab.research.google.com/github/Coralain10/ML_Archaeological-Objects-Reconstruction/blob/main/fracturing_data.ipynb\" target=\"_parent\"><img src=\"https://colab.research.google.com/assets/colab-badge.svg\" alt=\"Open In Colab\"/></a>"
      ]
    },
    {
      "cell_type": "code",
      "source": [
        "import math\n",
        "import numpy as np"
      ],
      "metadata": {
        "id": "oysDWsfp7K8u"
      },
      "execution_count": 1,
      "outputs": []
    },
    {
      "cell_type": "markdown",
      "source": [
        "## Fracturar"
      ],
      "metadata": {
        "id": "7Wpr0aJN7GfA"
      }
    },
    {
      "cell_type": "code",
      "execution_count": 2,
      "metadata": {
        "id": "AvvS7QJF7FMD"
      },
      "outputs": [],
      "source": [
        "def get_fractured(source, min_points=1, max_points=4, min_radius=3, max_radius=6, sphere_chance=0.75):\n",
        "    fractured = source.copy()\n",
        "    points = np.random.randint(min_points, max_points+1)\n",
        "    idxs = np.argwhere(fractured == 1)\n",
        "    centers = idxs[np.random.choice(len(idxs), points, False)]\n",
        "    \n",
        "    for x,y,z in centers:\n",
        "        r = np.random.randint(min_radius, max_radius+1)\n",
        "        xmin, xmax = max(0, x-r), x+r\n",
        "        ymin, ymax = max(0, y-r), y+r\n",
        "        zmin, zmax = max(0, z-r), z+r\n",
        "        sphere = np.ones_like(fractured)\n",
        "        sphere[xmin:xmax, ymin:ymax, zmin:zmax] = 0\n",
        "        # sphere or cube\n",
        "        if np.random.rand() < sphere_chance:\n",
        "            idxs = np.argwhere(sphere == 0)\n",
        "            idxs_remove = np.sqrt((idxs[:,0] - x)**2 + (idxs[:,1] - y)**2 + (idxs[:,2] - z)**2)\n",
        "            idxs_remove = idxs[idxs_remove > r]\n",
        "            sphere[idxs_remove[:,0], idxs_remove[:,1], idxs_remove[:,2]] = 1\n",
        "            \n",
        "        fractured *= sphere\n",
        "    \n",
        "    return fractured"
      ]
    },
    {
      "cell_type": "markdown",
      "source": [
        "## Gráfico"
      ],
      "metadata": {
        "id": "f0pBGF9s7Veq"
      }
    },
    {
      "cell_type": "code",
      "source": [
        "def read_points(file):\n",
        "\twith open(file) as f:\n",
        "\t\td = [l.strip().split(' ') for l in f.readlines()]\n",
        "\t\td = [[float(n) for n in l[1:]] for l in d if l[0] == 'v']\n",
        "\t\td = np.asarray(d, dtype=np.float32)\n",
        "\t\n",
        "\treturn d\n",
        "\n",
        "def read_point_files(files):\n",
        "\tout = []\n",
        "\tfor file in files:\n",
        "\t\tout.append(read_points(file))\n",
        "\t\n",
        "\treturn out\n",
        "\n",
        "def point_cloud_to_volume(points, vsize, radius=1.0):\n",
        "    \"\"\" input is Nx3 points.\n",
        "        output is vsize*vsize*vsize\n",
        "        assumes points are in range [-radius, radius]\n",
        "    \"\"\"\n",
        "    vol = np.zeros((vsize,vsize,vsize), dtype=np.bool)\n",
        "    voxel = 2*radius/float(vsize)\n",
        "    locations = (points + radius)/voxel\n",
        "    locations = locations.astype(int)\n",
        "    vol[locations[:,0],locations[:,1],locations[:,2]] = 1.0\n",
        "    \n",
        "    return vol\n",
        "\n",
        "def volume_to_point_cloud(vol):\n",
        "    \"\"\" vol is occupancy grid (value = 0 or 1) of size vsize*vsize*vsize\n",
        "        return Nx3 numpy array.\n",
        "    \"\"\"\n",
        "    vsize = vol.shape[0]\n",
        "    assert(vol.shape[1] == vsize and vol.shape[1] == vsize)\n",
        "    points = []\n",
        "    for a in range(vsize):\n",
        "        for b in range(vsize):\n",
        "            for c in range(vsize):\n",
        "                if vol[a,b,c] == 1:\n",
        "                    points.append(np.array([a,b,c]))\n",
        "    if len(points) == 0:\n",
        "        return np.zeros((0,3))\n",
        "    points = np.vstack(points)\n",
        "    \n",
        "    return points\n",
        "\n",
        "def auto_pcl_to_volume(points, vsize):\n",
        "\tdata_min = np.min(points)\n",
        "\tdata_max = np.max(points)\n",
        "\tradius = max(abs(data_min), data_max)\n",
        "\tradius = math.ceil(radius*100) / 100\n",
        "\tvol = point_cloud_to_volume(points, vsize, radius)\n",
        "\n",
        "\treturn vol"
      ],
      "metadata": {
        "id": "9f17Qby17XRF"
      },
      "execution_count": 3,
      "outputs": []
    },
    {
      "cell_type": "markdown",
      "source": [
        "# Implementación de la data"
      ],
      "metadata": {
        "id": "PjYuIMOM7hX9"
      }
    },
    {
      "cell_type": "code",
      "source": [
        "!wget https://github.com/Coralain10/ML_Archaeological-Objects-Reconstruction/blob/main/data/Full.zip"
      ],
      "metadata": {
        "colab": {
          "base_uri": "https://localhost:8080/"
        },
        "id": "Wsn5N2XV-f44",
        "outputId": "f1ce903a-6c69-4884-84e8-295f9d121b9b"
      },
      "execution_count": 71,
      "outputs": [
        {
          "output_type": "stream",
          "name": "stdout",
          "text": [
            "--2022-10-24 04:01:28--  https://github.com/Coralain10/ML_Archaeological-Objects-Reconstruction/blob/main/data/Full.zip\n",
            "Resolving github.com (github.com)... 192.30.255.112\n",
            "Connecting to github.com (github.com)|192.30.255.112|:443... connected.\n",
            "HTTP request sent, awaiting response... 200 OK\n",
            "Length: unspecified [text/html]\n",
            "Saving to: ‘Full.zip’\n",
            "\n",
            "Full.zip                [ <=>                ] 137.76K  --.-KB/s    in 0.02s   \n",
            "\n",
            "2022-10-24 04:01:29 (6.09 MB/s) - ‘Full.zip’ saved [141070]\n",
            "\n"
          ]
        }
      ]
    },
    {
      "cell_type": "code",
      "source": [
        "from zipfile import ZipFile, ZIP_DEFLATED"
      ],
      "metadata": {
        "id": "BstkiYz0AkHj"
      },
      "execution_count": 72,
      "outputs": []
    },
    {
      "cell_type": "code",
      "source": [
        "zip_name = \"/content/Full.zip\""
      ],
      "metadata": {
        "id": "mh-I4IViB6BQ"
      },
      "execution_count": 73,
      "outputs": []
    },
    {
      "cell_type": "code",
      "source": [
        "with ZipFile(zip_name, 'r') as zip:\n",
        "  zip.printdir()\n",
        "  zip.extractall()"
      ],
      "metadata": {
        "colab": {
          "base_uri": "https://localhost:8080/"
        },
        "id": "DQUvm12Y7gqN",
        "outputId": "9b3c41e6-e3e5-45f5-93a3-ee4c467d7c04"
      },
      "execution_count": 75,
      "outputs": [
        {
          "output_type": "stream",
          "name": "stdout",
          "text": [
            "File Name                                             Modified             Size\n",
            "Full.npy                                       2022-10-24 03:06:12     29184594\n"
          ]
        }
      ]
    },
    {
      "cell_type": "code",
      "source": [
        "filedir = \"/content/Full.npy\""
      ],
      "metadata": {
        "id": "5IZv2pvMEVPc"
      },
      "execution_count": 76,
      "outputs": []
    },
    {
      "cell_type": "code",
      "source": [
        "data = np.load(filedir, allow_pickle=True)"
      ],
      "metadata": {
        "id": "gpAFsIcvEBeN"
      },
      "execution_count": 77,
      "outputs": []
    },
    {
      "cell_type": "code",
      "source": [
        "nrepets = 8\n",
        "dc = np.array([ data.copy() for _ in range(nrepets) ])\n",
        "print(dc.shape)"
      ],
      "metadata": {
        "colab": {
          "base_uri": "https://localhost:8080/"
        },
        "id": "xhdpjlBKEcLs",
        "outputId": "14982c8d-bfad-4829-8073-758fe329d38f"
      },
      "execution_count": 78,
      "outputs": [
        {
          "output_type": "stream",
          "name": "stdout",
          "text": [
            "(8, 889)\n"
          ]
        }
      ]
    },
    {
      "cell_type": "code",
      "source": [
        "ds = []\n",
        "for i in range(nrepets):\n",
        "  for j in range(dc.shape[1]):\n",
        "    ds += [ dc[i][j] ]\n",
        "ds = np.array(ds)\n",
        "ds.shape"
      ],
      "metadata": {
        "colab": {
          "base_uri": "https://localhost:8080/"
        },
        "id": "59mbyjPIH_-l",
        "outputId": "f1452f0e-92eb-4157-abfb-fd87ef3cba64"
      },
      "execution_count": 79,
      "outputs": [
        {
          "output_type": "execute_result",
          "data": {
            "text/plain": [
              "(7112, 32, 32, 32)"
            ]
          },
          "metadata": {},
          "execution_count": 79
        }
      ]
    },
    {
      "cell_type": "code",
      "source": [
        "fc = []\n",
        "for f in ds:\n",
        "  fc += [get_fractured(f)]\n",
        "fc = np.array(fc)"
      ],
      "metadata": {
        "id": "82OIMbShGk0g"
      },
      "execution_count": 80,
      "outputs": []
    },
    {
      "cell_type": "code",
      "source": [
        "dataset = np.array([ ds, fc ]) #completo | fracturado"
      ],
      "metadata": {
        "id": "_Bqw2vBPJDMr"
      },
      "execution_count": 81,
      "outputs": []
    },
    {
      "cell_type": "code",
      "source": [
        "file_name = 'FullAndFracture.npy'\n",
        "np.save(file_name,dataset)"
      ],
      "metadata": {
        "id": "gLH5sRhNJNqq"
      },
      "execution_count": 82,
      "outputs": []
    },
    {
      "cell_type": "code",
      "source": [
        "from zipfile import ZipFile, ZIP_DEFLATED"
      ],
      "metadata": {
        "id": "ytNXVQDK7Y0d"
      },
      "execution_count": 83,
      "outputs": []
    },
    {
      "cell_type": "code",
      "source": [
        "with ZipFile('FullAndFracture.zip','w') as zip: zip.write(file_name, compress_type=ZIP_DEFLATED)"
      ],
      "metadata": {
        "id": "qrIDXX00Jeix"
      },
      "execution_count": 84,
      "outputs": []
    }
  ]
}