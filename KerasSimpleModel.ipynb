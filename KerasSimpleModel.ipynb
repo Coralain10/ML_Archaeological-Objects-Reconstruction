{
  "nbformat": 4,
  "nbformat_minor": 0,
  "metadata": {
    "colab": {
      "provenance": [],
      "authorship_tag": "ABX9TyPr5w3ysaDcpYLQk1rEWPGc",
      "include_colab_link": true
    },
    "kernelspec": {
      "name": "python3",
      "display_name": "Python 3"
    },
    "language_info": {
      "name": "python"
    }
  },
  "cells": [
    {
      "cell_type": "markdown",
      "metadata": {
        "id": "view-in-github",
        "colab_type": "text"
      },
      "source": [
        "<a href=\"https://colab.research.google.com/github/Coralain10/ML_Archaeological-Objects-Reconstruction/blob/main/KerasSimpleModel.ipynb\" target=\"_parent\"><img src=\"https://colab.research.google.com/assets/colab-badge.svg\" alt=\"Open In Colab\"/></a>"
      ]
    },
    {
      "cell_type": "code",
      "execution_count": 1,
      "metadata": {
        "id": "Fm7okTdwCH1j"
      },
      "outputs": [],
      "source": [
        "import numpy as np\n",
        "from tensorflow import keras\n",
        "from tensorflow.keras import regularizers\n",
        "from tensorflow.keras import Sequential\n",
        "from tensorflow.keras.layers import Flatten, Dense, Dropout, LSTM\n",
        "from sklearn.model_selection import train_test_split\n",
        "import tensorflow as tf\n",
        "from tensorflow.keras import layers\n",
        "import plotly.graph_objs as go\n",
        "from plotly.offline import init_notebook_mode, iplot\n",
        "import math"
      ]
    },
    {
      "cell_type": "code",
      "source": [
        "!gdown 1AIQPe2G6ZHPwZLmo19-ewbqCNT7TDfYE"
      ],
      "metadata": {
        "colab": {
          "base_uri": "https://localhost:8080/"
        },
        "id": "cqRi_uQMa7yq",
        "outputId": "65306397-b76d-444c-9e2a-eca97dac8fbe"
      },
      "execution_count": 2,
      "outputs": [
        {
          "output_type": "stream",
          "name": "stdout",
          "text": [
            "Downloading...\n",
            "From: https://drive.google.com/uc?id=1AIQPe2G6ZHPwZLmo19-ewbqCNT7TDfYE\n",
            "To: /content/FullAndFracture.npy\n",
            "100% 466M/466M [00:02<00:00, 189MB/s]\n"
          ]
        }
      ]
    },
    {
      "cell_type": "code",
      "source": [
        "data = np.load('FullAndFracture.npy', allow_pickle=True)"
      ],
      "metadata": {
        "id": "FOS1_5gGa8z9"
      },
      "execution_count": 3,
      "outputs": []
    },
    {
      "cell_type": "code",
      "source": [
        "data = np.array(data, dtype = np.int32)"
      ],
      "metadata": {
        "id": "qoICYp9Kk68q"
      },
      "execution_count": 4,
      "outputs": []
    },
    {
      "cell_type": "code",
      "source": [
        "X = data[1]\n",
        "Y = data[0]"
      ],
      "metadata": {
        "id": "E7Sf7KJ0bL3I"
      },
      "execution_count": 5,
      "outputs": []
    },
    {
      "cell_type": "code",
      "source": [
        "lx = X.shape[0]\n",
        "ly = Y.shape[0]"
      ],
      "metadata": {
        "id": "4DGJTwPMeCJ3"
      },
      "execution_count": 6,
      "outputs": []
    },
    {
      "cell_type": "code",
      "source": [
        "X = list(X)\n",
        "Y = list(Y)"
      ],
      "metadata": {
        "id": "q1DG_stUek3X"
      },
      "execution_count": 7,
      "outputs": []
    },
    {
      "cell_type": "code",
      "source": [
        "for i in range(lx):\n",
        "  X[i] = X[i].flatten()\n",
        "for i in range(ly):\n",
        "  Y[i] = Y[i].flatten()"
      ],
      "metadata": {
        "id": "hU3-lPj2eMo7"
      },
      "execution_count": 8,
      "outputs": []
    },
    {
      "cell_type": "code",
      "source": [
        "X, Y = np.array(X), np.array(Y)"
      ],
      "metadata": {
        "id": "VkMxMHoLfCjL"
      },
      "execution_count": 9,
      "outputs": []
    },
    {
      "cell_type": "code",
      "source": [
        "x_train, x_val, y_train, y_val = train_test_split(X, Y, train_size=0.7)"
      ],
      "metadata": {
        "id": "mtGa_9NUbOn3"
      },
      "execution_count": 10,
      "outputs": []
    },
    {
      "cell_type": "code",
      "source": [
        "print(x_train.shape, y_train.shape)\n",
        "print(x_val.shape, y_val.shape)"
      ],
      "metadata": {
        "colab": {
          "base_uri": "https://localhost:8080/"
        },
        "id": "YZLroTS_d7o1",
        "outputId": "22ba1f6a-47d1-4036-d6a7-d8babb48c413"
      },
      "execution_count": 11,
      "outputs": [
        {
          "output_type": "stream",
          "name": "stdout",
          "text": [
            "(4978, 32768) (4978, 32768)\n",
            "(2134, 32768) (2134, 32768)\n"
          ]
        }
      ]
    },
    {
      "cell_type": "code",
      "source": [
        "model = tf.keras.models.Sequential()\n",
        "model.add(tf.keras.layers.Flatten(input_shape=(32768,)))\n",
        "model.add(tf.keras.layers.Dense(768, activation=tf.nn.relu))\n",
        "model.add(tf.keras.layers.Dense(768, activation=tf.nn.relu))\n",
        "model.add(tf.keras.layers.Dense(32768))\n",
        "\n",
        "model.compile(optimizer = 'adam',\n",
        "         loss = 'mean_squared_error',\n",
        "         metrics = ['mse'])\n",
        "\n",
        "model.fit(x_train, y_train, epochs = 200)"
      ],
      "metadata": {
        "colab": {
          "base_uri": "https://localhost:8080/"
        },
        "id": "8UTjrcUKwzqg",
        "outputId": "dad50bf6-1e48-49ec-fcb2-626099364c36"
      },
      "execution_count": 12,
      "outputs": [
        {
          "output_type": "stream",
          "name": "stdout",
          "text": [
            "Epoch 1/200\n",
            "156/156 [==============================] - 92s 587ms/step - loss: 0.0351 - mse: 0.0351\n",
            "Epoch 2/200\n",
            "156/156 [==============================] - 91s 580ms/step - loss: 0.0214 - mse: 0.0214\n",
            "Epoch 3/200\n",
            "156/156 [==============================] - 92s 587ms/step - loss: 0.0152 - mse: 0.0152\n",
            "Epoch 4/200\n",
            "156/156 [==============================] - 92s 586ms/step - loss: 0.0117 - mse: 0.0117\n",
            "Epoch 5/200\n",
            "156/156 [==============================] - 92s 587ms/step - loss: 0.0099 - mse: 0.0099\n",
            "Epoch 6/200\n",
            "156/156 [==============================] - 90s 578ms/step - loss: 0.0090 - mse: 0.0090\n",
            "Epoch 7/200\n",
            "156/156 [==============================] - 89s 568ms/step - loss: 0.0080 - mse: 0.0080\n",
            "Epoch 8/200\n",
            "156/156 [==============================] - 88s 564ms/step - loss: 0.0071 - mse: 0.0071\n",
            "Epoch 9/200\n",
            "156/156 [==============================] - 89s 572ms/step - loss: 0.0066 - mse: 0.0066\n",
            "Epoch 10/200\n",
            "156/156 [==============================] - 89s 570ms/step - loss: 0.0067 - mse: 0.0067\n",
            "Epoch 11/200\n",
            "156/156 [==============================] - 90s 578ms/step - loss: 0.0060 - mse: 0.0060\n",
            "Epoch 12/200\n",
            "156/156 [==============================] - 89s 571ms/step - loss: 0.0058 - mse: 0.0058\n",
            "Epoch 13/200\n",
            "156/156 [==============================] - 89s 570ms/step - loss: 0.0057 - mse: 0.0057\n",
            "Epoch 14/200\n",
            "156/156 [==============================] - 89s 570ms/step - loss: 0.0051 - mse: 0.0051\n",
            "Epoch 15/200\n",
            "156/156 [==============================] - 88s 564ms/step - loss: 0.0055 - mse: 0.0055\n",
            "Epoch 16/200\n",
            "156/156 [==============================] - 89s 569ms/step - loss: 0.0054 - mse: 0.0054\n",
            "Epoch 17/200\n",
            "156/156 [==============================] - 89s 569ms/step - loss: 0.0051 - mse: 0.0051\n",
            "Epoch 18/200\n",
            "156/156 [==============================] - 89s 568ms/step - loss: 0.0047 - mse: 0.0047\n",
            "Epoch 19/200\n",
            "156/156 [==============================] - 89s 569ms/step - loss: 0.0047 - mse: 0.0047\n",
            "Epoch 20/200\n",
            "156/156 [==============================] - 88s 563ms/step - loss: 0.0044 - mse: 0.0044\n",
            "Epoch 21/200\n",
            "156/156 [==============================] - 89s 569ms/step - loss: 0.0048 - mse: 0.0048\n",
            "Epoch 22/200\n",
            "156/156 [==============================] - 90s 580ms/step - loss: 0.0048 - mse: 0.0048\n",
            "Epoch 23/200\n",
            "156/156 [==============================] - 90s 577ms/step - loss: 0.0051 - mse: 0.0051\n",
            "Epoch 24/200\n",
            "156/156 [==============================] - 90s 576ms/step - loss: 0.0049 - mse: 0.0049\n",
            "Epoch 25/200\n",
            "156/156 [==============================] - 89s 572ms/step - loss: 0.0049 - mse: 0.0049\n",
            "Epoch 26/200\n",
            "156/156 [==============================] - 90s 579ms/step - loss: 0.0046 - mse: 0.0046\n",
            "Epoch 27/200\n",
            "156/156 [==============================] - 90s 577ms/step - loss: 0.0045 - mse: 0.0045\n",
            "Epoch 28/200\n",
            "156/156 [==============================] - 90s 578ms/step - loss: 0.0042 - mse: 0.0042\n",
            "Epoch 29/200\n",
            "156/156 [==============================] - 89s 571ms/step - loss: 0.0040 - mse: 0.0040\n",
            "Epoch 30/200\n",
            "156/156 [==============================] - 90s 579ms/step - loss: 0.0040 - mse: 0.0040\n",
            "Epoch 31/200\n",
            "156/156 [==============================] - 90s 578ms/step - loss: 0.0043 - mse: 0.0043\n",
            "Epoch 32/200\n",
            "156/156 [==============================] - 90s 579ms/step - loss: 0.0045 - mse: 0.0045\n",
            "Epoch 33/200\n",
            "156/156 [==============================] - 91s 582ms/step - loss: 0.0053 - mse: 0.0053\n",
            "Epoch 34/200\n",
            "156/156 [==============================] - 90s 579ms/step - loss: 0.0041 - mse: 0.0041\n",
            "Epoch 35/200\n",
            "156/156 [==============================] - 92s 589ms/step - loss: 0.0040 - mse: 0.0040\n",
            "Epoch 36/200\n",
            "156/156 [==============================] - 91s 585ms/step - loss: 0.0045 - mse: 0.0045\n",
            "Epoch 37/200\n",
            "156/156 [==============================] - 91s 581ms/step - loss: 0.0041 - mse: 0.0041\n",
            "Epoch 38/200\n",
            "156/156 [==============================] - 91s 582ms/step - loss: 0.0038 - mse: 0.0038\n",
            "Epoch 39/200\n",
            "156/156 [==============================] - 91s 583ms/step - loss: 0.0038 - mse: 0.0038\n",
            "Epoch 40/200\n",
            "156/156 [==============================] - 92s 590ms/step - loss: 0.0033 - mse: 0.0033\n",
            "Epoch 41/200\n",
            "156/156 [==============================] - 93s 595ms/step - loss: 0.0036 - mse: 0.0036\n",
            "Epoch 42/200\n",
            "156/156 [==============================] - 91s 582ms/step - loss: 0.0036 - mse: 0.0036\n",
            "Epoch 43/200\n",
            "156/156 [==============================] - 90s 577ms/step - loss: 0.0035 - mse: 0.0035\n",
            "Epoch 44/200\n",
            "156/156 [==============================] - 91s 586ms/step - loss: 0.0039 - mse: 0.0039\n",
            "Epoch 45/200\n",
            "156/156 [==============================] - 91s 582ms/step - loss: 0.0037 - mse: 0.0037\n",
            "Epoch 46/200\n",
            "156/156 [==============================] - 91s 581ms/step - loss: 0.0035 - mse: 0.0035\n",
            "Epoch 47/200\n",
            "156/156 [==============================] - 89s 570ms/step - loss: 0.0034 - mse: 0.0034\n",
            "Epoch 48/200\n",
            "156/156 [==============================] - 89s 573ms/step - loss: 0.0036 - mse: 0.0036\n",
            "Epoch 49/200\n",
            "156/156 [==============================] - 90s 579ms/step - loss: 0.0035 - mse: 0.0035\n",
            "Epoch 50/200\n",
            "156/156 [==============================] - 91s 586ms/step - loss: 0.0035 - mse: 0.0035\n",
            "Epoch 51/200\n",
            "156/156 [==============================] - 90s 579ms/step - loss: 0.0036 - mse: 0.0036\n",
            "Epoch 52/200\n",
            "156/156 [==============================] - 92s 587ms/step - loss: 0.0032 - mse: 0.0032\n",
            "Epoch 53/200\n",
            "156/156 [==============================] - 91s 582ms/step - loss: 0.0032 - mse: 0.0032\n",
            "Epoch 54/200\n",
            "156/156 [==============================] - 91s 581ms/step - loss: 0.0037 - mse: 0.0037\n",
            "Epoch 55/200\n",
            "156/156 [==============================] - 91s 581ms/step - loss: 0.0036 - mse: 0.0036\n",
            "Epoch 56/200\n",
            "156/156 [==============================] - 93s 597ms/step - loss: 0.0036 - mse: 0.0036\n",
            "Epoch 57/200\n",
            "156/156 [==============================] - 91s 586ms/step - loss: 0.0037 - mse: 0.0037\n",
            "Epoch 58/200\n",
            "156/156 [==============================] - 92s 590ms/step - loss: 0.0038 - mse: 0.0038\n",
            "Epoch 59/200\n",
            "156/156 [==============================] - 91s 581ms/step - loss: 0.0042 - mse: 0.0042\n",
            "Epoch 60/200\n",
            "156/156 [==============================] - 91s 581ms/step - loss: 0.0035 - mse: 0.0035\n",
            "Epoch 61/200\n",
            "156/156 [==============================] - 91s 582ms/step - loss: 0.0033 - mse: 0.0033\n",
            "Epoch 62/200\n",
            "156/156 [==============================] - 90s 577ms/step - loss: 0.0034 - mse: 0.0034\n",
            "Epoch 63/200\n",
            "156/156 [==============================] - 90s 576ms/step - loss: 0.0032 - mse: 0.0032\n",
            "Epoch 64/200\n",
            "156/156 [==============================] - 91s 581ms/step - loss: 0.0033 - mse: 0.0033\n",
            "Epoch 65/200\n",
            "156/156 [==============================] - 92s 588ms/step - loss: 0.0034 - mse: 0.0034\n",
            "Epoch 66/200\n",
            "156/156 [==============================] - 93s 598ms/step - loss: 0.0034 - mse: 0.0034\n",
            "Epoch 67/200\n",
            "156/156 [==============================] - 92s 591ms/step - loss: 0.0033 - mse: 0.0033\n",
            "Epoch 68/200\n",
            "156/156 [==============================] - 92s 591ms/step - loss: 0.0036 - mse: 0.0036\n",
            "Epoch 69/200\n",
            "156/156 [==============================] - 92s 587ms/step - loss: 0.0033 - mse: 0.0033\n",
            "Epoch 70/200\n",
            "156/156 [==============================] - 91s 585ms/step - loss: 0.0029 - mse: 0.0029\n",
            "Epoch 71/200\n",
            "156/156 [==============================] - 89s 573ms/step - loss: 0.0029 - mse: 0.0029\n",
            "Epoch 72/200\n",
            "156/156 [==============================] - 90s 575ms/step - loss: 0.0031 - mse: 0.0031\n",
            "Epoch 73/200\n",
            "156/156 [==============================] - 90s 576ms/step - loss: 0.0032 - mse: 0.0032\n",
            "Epoch 74/200\n",
            "156/156 [==============================] - 90s 576ms/step - loss: 0.0030 - mse: 0.0030\n",
            "Epoch 75/200\n",
            "156/156 [==============================] - 89s 571ms/step - loss: 0.0030 - mse: 0.0030\n",
            "Epoch 76/200\n",
            "156/156 [==============================] - 91s 580ms/step - loss: 0.0032 - mse: 0.0032\n",
            "Epoch 77/200\n",
            "156/156 [==============================] - 90s 578ms/step - loss: 0.0032 - mse: 0.0032\n",
            "Epoch 78/200\n",
            "156/156 [==============================] - 90s 577ms/step - loss: 0.0029 - mse: 0.0029\n",
            "Epoch 79/200\n",
            "156/156 [==============================] - 90s 577ms/step - loss: 0.0031 - mse: 0.0031\n",
            "Epoch 80/200\n",
            "156/156 [==============================] - 90s 579ms/step - loss: 0.0031 - mse: 0.0031\n",
            "Epoch 81/200\n",
            "156/156 [==============================] - 90s 579ms/step - loss: 0.0031 - mse: 0.0031\n",
            "Epoch 82/200\n",
            "156/156 [==============================] - 89s 573ms/step - loss: 0.0030 - mse: 0.0030\n",
            "Epoch 83/200\n",
            "156/156 [==============================] - 90s 577ms/step - loss: 0.0029 - mse: 0.0029\n",
            "Epoch 84/200\n",
            "156/156 [==============================] - 91s 580ms/step - loss: 0.0031 - mse: 0.0031\n",
            "Epoch 85/200\n",
            "156/156 [==============================] - 91s 581ms/step - loss: 0.0031 - mse: 0.0031\n",
            "Epoch 86/200\n",
            "156/156 [==============================] - 95s 608ms/step - loss: 0.0033 - mse: 0.0033\n",
            "Epoch 87/200\n",
            "156/156 [==============================] - 92s 586ms/step - loss: 0.0030 - mse: 0.0030\n",
            "Epoch 88/200\n",
            "156/156 [==============================] - 92s 593ms/step - loss: 0.0029 - mse: 0.0029\n",
            "Epoch 89/200\n",
            "156/156 [==============================] - 91s 580ms/step - loss: 0.0027 - mse: 0.0027\n",
            "Epoch 90/200\n",
            "156/156 [==============================] - 100s 641ms/step - loss: 0.0027 - mse: 0.0027\n",
            "Epoch 91/200\n",
            "156/156 [==============================] - 110s 706ms/step - loss: 0.0030 - mse: 0.0030\n",
            "Epoch 92/200\n",
            "156/156 [==============================] - 107s 686ms/step - loss: 0.0033 - mse: 0.0033\n",
            "Epoch 93/200\n",
            "156/156 [==============================] - 105s 672ms/step - loss: 0.0030 - mse: 0.0030\n",
            "Epoch 94/200\n",
            "156/156 [==============================] - 105s 675ms/step - loss: 0.0030 - mse: 0.0030\n",
            "Epoch 95/200\n",
            "156/156 [==============================] - 114s 730ms/step - loss: 0.0031 - mse: 0.0031\n",
            "Epoch 96/200\n",
            "156/156 [==============================] - 107s 688ms/step - loss: 0.0028 - mse: 0.0028\n",
            "Epoch 97/200\n",
            "156/156 [==============================] - 108s 692ms/step - loss: 0.0027 - mse: 0.0027\n",
            "Epoch 98/200\n",
            "156/156 [==============================] - 112s 715ms/step - loss: 0.0028 - mse: 0.0028\n",
            "Epoch 99/200\n",
            "156/156 [==============================] - 106s 677ms/step - loss: 0.0029 - mse: 0.0029\n",
            "Epoch 100/200\n",
            "156/156 [==============================] - 105s 673ms/step - loss: 0.0029 - mse: 0.0029\n",
            "Epoch 101/200\n",
            "156/156 [==============================] - 108s 690ms/step - loss: 0.0030 - mse: 0.0030\n",
            "Epoch 102/200\n",
            "156/156 [==============================] - 92s 592ms/step - loss: 0.0030 - mse: 0.0030\n",
            "Epoch 103/200\n",
            "156/156 [==============================] - 92s 587ms/step - loss: 0.0029 - mse: 0.0029\n",
            "Epoch 104/200\n",
            "156/156 [==============================] - 92s 589ms/step - loss: 0.0029 - mse: 0.0029\n",
            "Epoch 105/200\n",
            "156/156 [==============================] - 92s 591ms/step - loss: 0.0028 - mse: 0.0028\n",
            "Epoch 106/200\n",
            "156/156 [==============================] - 92s 592ms/step - loss: 0.0027 - mse: 0.0027\n",
            "Epoch 107/200\n",
            "156/156 [==============================] - 92s 588ms/step - loss: 0.0033 - mse: 0.0033\n",
            "Epoch 108/200\n",
            "156/156 [==============================] - 91s 583ms/step - loss: 0.0032 - mse: 0.0032\n",
            "Epoch 109/200\n",
            "156/156 [==============================] - 90s 575ms/step - loss: 0.0029 - mse: 0.0029\n",
            "Epoch 110/200\n",
            "156/156 [==============================] - 90s 577ms/step - loss: 0.0028 - mse: 0.0028\n",
            "Epoch 111/200\n",
            "156/156 [==============================] - 90s 578ms/step - loss: 0.0029 - mse: 0.0029\n",
            "Epoch 112/200\n",
            "156/156 [==============================] - 89s 571ms/step - loss: 0.0027 - mse: 0.0027\n",
            "Epoch 113/200\n",
            "156/156 [==============================] - 90s 576ms/step - loss: 0.0026 - mse: 0.0026\n",
            "Epoch 114/200\n",
            "156/156 [==============================] - 90s 577ms/step - loss: 0.0025 - mse: 0.0025\n",
            "Epoch 115/200\n",
            "156/156 [==============================] - 90s 574ms/step - loss: 0.0025 - mse: 0.0025\n",
            "Epoch 116/200\n",
            "156/156 [==============================] - 91s 583ms/step - loss: 0.0028 - mse: 0.0028\n",
            "Epoch 117/200\n",
            "156/156 [==============================] - 91s 584ms/step - loss: 0.0027 - mse: 0.0027\n",
            "Epoch 118/200\n",
            "156/156 [==============================] - 90s 577ms/step - loss: 0.0027 - mse: 0.0027\n",
            "Epoch 119/200\n",
            "156/156 [==============================] - 91s 585ms/step - loss: 0.0027 - mse: 0.0027\n",
            "Epoch 120/200\n",
            "156/156 [==============================] - 91s 583ms/step - loss: 0.0029 - mse: 0.0029\n",
            "Epoch 121/200\n",
            "156/156 [==============================] - 95s 611ms/step - loss: 0.0030 - mse: 0.0030\n",
            "Epoch 122/200\n",
            "156/156 [==============================] - 92s 588ms/step - loss: 0.0032 - mse: 0.0032\n",
            "Epoch 123/200\n",
            "156/156 [==============================] - 92s 589ms/step - loss: 0.0029 - mse: 0.0029\n",
            "Epoch 124/200\n",
            "156/156 [==============================] - 94s 602ms/step - loss: 0.0025 - mse: 0.0025\n",
            "Epoch 125/200\n",
            "156/156 [==============================] - 94s 601ms/step - loss: 0.0026 - mse: 0.0026\n",
            "Epoch 126/200\n",
            "156/156 [==============================] - 93s 597ms/step - loss: 0.0024 - mse: 0.0024\n",
            "Epoch 127/200\n",
            "156/156 [==============================] - 93s 599ms/step - loss: 0.0025 - mse: 0.0025\n",
            "Epoch 128/200\n",
            "156/156 [==============================] - 91s 586ms/step - loss: 0.0025 - mse: 0.0025\n",
            "Epoch 129/200\n",
            "156/156 [==============================] - 93s 598ms/step - loss: 0.0026 - mse: 0.0026\n",
            "Epoch 130/200\n",
            "156/156 [==============================] - 94s 603ms/step - loss: 0.0029 - mse: 0.0029\n",
            "Epoch 131/200\n",
            "156/156 [==============================] - 92s 593ms/step - loss: 0.0027 - mse: 0.0027\n",
            "Epoch 132/200\n",
            "156/156 [==============================] - 90s 578ms/step - loss: 0.0026 - mse: 0.0026\n",
            "Epoch 133/200\n",
            "156/156 [==============================] - 95s 606ms/step - loss: 0.0025 - mse: 0.0025\n",
            "Epoch 134/200\n",
            "156/156 [==============================] - 93s 594ms/step - loss: 0.0025 - mse: 0.0025\n",
            "Epoch 135/200\n",
            "156/156 [==============================] - 116s 743ms/step - loss: 0.0026 - mse: 0.0026\n",
            "Epoch 136/200\n",
            "156/156 [==============================] - 111s 707ms/step - loss: 0.0027 - mse: 0.0027\n",
            "Epoch 137/200\n",
            "156/156 [==============================] - 108s 689ms/step - loss: 0.0027 - mse: 0.0027\n",
            "Epoch 138/200\n",
            "156/156 [==============================] - 109s 701ms/step - loss: 0.0028 - mse: 0.0028\n",
            "Epoch 139/200\n",
            "156/156 [==============================] - 107s 685ms/step - loss: 0.0027 - mse: 0.0027\n",
            "Epoch 140/200\n",
            "156/156 [==============================] - 109s 701ms/step - loss: 0.0026 - mse: 0.0026\n",
            "Epoch 141/200\n",
            "156/156 [==============================] - 109s 699ms/step - loss: 0.0027 - mse: 0.0027\n",
            "Epoch 142/200\n",
            "156/156 [==============================] - 109s 700ms/step - loss: 0.0028 - mse: 0.0028\n",
            "Epoch 143/200\n",
            "156/156 [==============================] - 111s 709ms/step - loss: 0.0027 - mse: 0.0027\n",
            "Epoch 144/200\n",
            "156/156 [==============================] - 106s 678ms/step - loss: 0.0027 - mse: 0.0027\n",
            "Epoch 145/200\n",
            "156/156 [==============================] - 107s 685ms/step - loss: 0.0027 - mse: 0.0027\n",
            "Epoch 146/200\n",
            "156/156 [==============================] - 106s 677ms/step - loss: 0.0027 - mse: 0.0027\n",
            "Epoch 147/200\n",
            "156/156 [==============================] - 109s 701ms/step - loss: 0.0028 - mse: 0.0028\n",
            "Epoch 148/200\n",
            "156/156 [==============================] - 111s 707ms/step - loss: 0.0027 - mse: 0.0027\n",
            "Epoch 149/200\n",
            "156/156 [==============================] - 107s 685ms/step - loss: 0.0025 - mse: 0.0025\n",
            "Epoch 150/200\n",
            "156/156 [==============================] - 105s 675ms/step - loss: 0.0025 - mse: 0.0025\n",
            "Epoch 151/200\n",
            "156/156 [==============================] - 107s 684ms/step - loss: 0.0026 - mse: 0.0026\n",
            "Epoch 152/200\n",
            "156/156 [==============================] - 106s 681ms/step - loss: 0.0031 - mse: 0.0031\n",
            "Epoch 153/200\n",
            "156/156 [==============================] - 101s 647ms/step - loss: 0.0029 - mse: 0.0029\n",
            "Epoch 154/200\n",
            "156/156 [==============================] - 107s 686ms/step - loss: 0.0027 - mse: 0.0027\n",
            "Epoch 155/200\n",
            "156/156 [==============================] - 110s 705ms/step - loss: 0.0030 - mse: 0.0030\n",
            "Epoch 156/200\n",
            "156/156 [==============================] - 107s 687ms/step - loss: 0.0028 - mse: 0.0028\n",
            "Epoch 157/200\n",
            "156/156 [==============================] - 111s 710ms/step - loss: 0.0024 - mse: 0.0024\n",
            "Epoch 158/200\n",
            "156/156 [==============================] - 112s 720ms/step - loss: 0.0023 - mse: 0.0023\n",
            "Epoch 159/200\n",
            "156/156 [==============================] - 110s 704ms/step - loss: 0.0023 - mse: 0.0023\n",
            "Epoch 160/200\n",
            "156/156 [==============================] - 100s 642ms/step - loss: 0.0023 - mse: 0.0023\n",
            "Epoch 161/200\n",
            "156/156 [==============================] - 97s 621ms/step - loss: 0.0025 - mse: 0.0025\n",
            "Epoch 162/200\n",
            "156/156 [==============================] - 100s 641ms/step - loss: 0.0025 - mse: 0.0025\n",
            "Epoch 163/200\n",
            "156/156 [==============================] - 96s 615ms/step - loss: 0.0032 - mse: 0.0032\n",
            "Epoch 164/200\n",
            "156/156 [==============================] - 97s 622ms/step - loss: 0.0027 - mse: 0.0027\n",
            "Epoch 165/200\n",
            "156/156 [==============================] - 94s 604ms/step - loss: 0.0028 - mse: 0.0028\n",
            "Epoch 166/200\n",
            "156/156 [==============================] - 101s 647ms/step - loss: 0.0026 - mse: 0.0026\n",
            "Epoch 167/200\n",
            "156/156 [==============================] - 104s 669ms/step - loss: 0.0027 - mse: 0.0027\n",
            "Epoch 168/200\n",
            "156/156 [==============================] - 97s 623ms/step - loss: 0.0025 - mse: 0.0025\n",
            "Epoch 169/200\n",
            "156/156 [==============================] - 99s 636ms/step - loss: 0.0022 - mse: 0.0022\n",
            "Epoch 170/200\n",
            "156/156 [==============================] - 97s 619ms/step - loss: 0.0023 - mse: 0.0023\n",
            "Epoch 171/200\n",
            "156/156 [==============================] - 93s 597ms/step - loss: 0.0024 - mse: 0.0024\n",
            "Epoch 172/200\n",
            "156/156 [==============================] - 95s 608ms/step - loss: 0.0025 - mse: 0.0025\n",
            "Epoch 173/200\n",
            "156/156 [==============================] - 94s 604ms/step - loss: 0.0025 - mse: 0.0025\n",
            "Epoch 174/200\n",
            "156/156 [==============================] - 97s 625ms/step - loss: 0.0026 - mse: 0.0026\n",
            "Epoch 175/200\n",
            "156/156 [==============================] - 97s 623ms/step - loss: 0.0027 - mse: 0.0027\n",
            "Epoch 176/200\n",
            "156/156 [==============================] - 95s 606ms/step - loss: 0.0032 - mse: 0.0032\n",
            "Epoch 177/200\n",
            "156/156 [==============================] - 93s 596ms/step - loss: 0.0027 - mse: 0.0027\n",
            "Epoch 178/200\n",
            "156/156 [==============================] - 93s 596ms/step - loss: 0.0025 - mse: 0.0025\n",
            "Epoch 179/200\n",
            "156/156 [==============================] - 98s 625ms/step - loss: 0.0026 - mse: 0.0026\n",
            "Epoch 180/200\n",
            "156/156 [==============================] - 118s 755ms/step - loss: 0.0023 - mse: 0.0023\n",
            "Epoch 181/200\n",
            "156/156 [==============================] - 118s 758ms/step - loss: 0.0021 - mse: 0.0021\n",
            "Epoch 182/200\n",
            "156/156 [==============================] - 121s 777ms/step - loss: 0.0021 - mse: 0.0021\n",
            "Epoch 183/200\n",
            "156/156 [==============================] - 119s 765ms/step - loss: 0.0023 - mse: 0.0023\n",
            "Epoch 184/200\n",
            "156/156 [==============================] - 118s 757ms/step - loss: 0.0024 - mse: 0.0024\n",
            "Epoch 185/200\n",
            "156/156 [==============================] - 100s 639ms/step - loss: 0.0023 - mse: 0.0023\n",
            "Epoch 186/200\n",
            "156/156 [==============================] - 100s 642ms/step - loss: 0.0025 - mse: 0.0025\n",
            "Epoch 187/200\n",
            "156/156 [==============================] - 115s 736ms/step - loss: 0.0024 - mse: 0.0024\n",
            "Epoch 188/200\n",
            "156/156 [==============================] - 121s 778ms/step - loss: 0.0024 - mse: 0.0024\n",
            "Epoch 189/200\n",
            "156/156 [==============================] - 122s 781ms/step - loss: 0.0025 - mse: 0.0025\n",
            "Epoch 190/200\n",
            "156/156 [==============================] - 122s 780ms/step - loss: 0.0027 - mse: 0.0027\n",
            "Epoch 191/200\n",
            "156/156 [==============================] - 121s 774ms/step - loss: 0.0024 - mse: 0.0024\n",
            "Epoch 192/200\n",
            "156/156 [==============================] - 111s 713ms/step - loss: 0.0025 - mse: 0.0025\n",
            "Epoch 193/200\n",
            "156/156 [==============================] - 106s 681ms/step - loss: 0.0034 - mse: 0.0034\n",
            "Epoch 194/200\n",
            "156/156 [==============================] - 114s 734ms/step - loss: 0.0025 - mse: 0.0025\n",
            "Epoch 195/200\n",
            "156/156 [==============================] - 109s 696ms/step - loss: 0.0027 - mse: 0.0027\n",
            "Epoch 196/200\n",
            "156/156 [==============================] - 91s 584ms/step - loss: 0.0025 - mse: 0.0025\n",
            "Epoch 197/200\n",
            "156/156 [==============================] - 93s 596ms/step - loss: 0.0025 - mse: 0.0025\n",
            "Epoch 198/200\n",
            "156/156 [==============================] - 104s 667ms/step - loss: 0.0025 - mse: 0.0025\n",
            "Epoch 199/200\n",
            "156/156 [==============================] - 92s 587ms/step - loss: 0.0027 - mse: 0.0027\n",
            "Epoch 200/200\n",
            "156/156 [==============================] - 93s 593ms/step - loss: 0.0025 - mse: 0.0025\n"
          ]
        },
        {
          "output_type": "execute_result",
          "data": {
            "text/plain": [
              "<keras.callbacks.History at 0x7f0125fc0d50>"
            ]
          },
          "metadata": {},
          "execution_count": 12
        }
      ]
    },
    {
      "cell_type": "code",
      "source": [
        "prediction = model.predict(x_val)"
      ],
      "metadata": {
        "colab": {
          "base_uri": "https://localhost:8080/"
        },
        "id": "apDSp-MdbZRh",
        "outputId": "5801d789-89a8-4f07-f73e-505ab8979db9"
      },
      "execution_count": 31,
      "outputs": [
        {
          "output_type": "stream",
          "name": "stdout",
          "text": [
            "67/67 [==============================] - 7s 100ms/step\n"
          ]
        }
      ]
    },
    {
      "cell_type": "code",
      "source": [
        "prediction = np.array(np.around(prediction[0]), dtype=np.int32)"
      ],
      "metadata": {
        "id": "UvGGcEU03biL"
      },
      "execution_count": 28,
      "outputs": []
    },
    {
      "cell_type": "code",
      "source": [
        "patch = []\n",
        "for i in range(prediction.shape[0]):\n",
        "  if prediction[i] == x_val[1][i]:\n",
        "    patch.append(0)\n",
        "  else:\n",
        "    patch.append(1)\n",
        "patch = np.array(patch)"
      ],
      "metadata": {
        "id": "pe1zjYdkB5Kz"
      },
      "execution_count": 29,
      "outputs": []
    },
    {
      "cell_type": "code",
      "source": [
        "def plot3d(verts, s=10, c=(105,127,155), show_grid=False):\n",
        "    x, y, z = zip(*verts)\n",
        "    color = f'rgb({c[0]}, {c[1]}, {c[2]})'\n",
        "    trace = go.Scatter3d(\n",
        "        x=x, y=y, z=z,\n",
        "        mode='markers',\n",
        "        marker=dict(\n",
        "            size=s,\n",
        "            color=color,\n",
        "            line=dict(\n",
        "                color='rgba(217, 217, 217, 0.14)',\n",
        "                width=0.5\n",
        "            ),\n",
        "            opacity=1\n",
        "        )\n",
        "    )\n",
        "    data = [trace]\n",
        "    layout = go.Layout(\n",
        "        margin=dict(l=0, r=0, b=0, t=0),\n",
        "        scene = go.Scene(\n",
        "            xaxis=dict(visible=show_grid),\n",
        "            yaxis=dict(visible=show_grid),\n",
        "            zaxis=dict(visible=show_grid)\n",
        "        )\n",
        "    )\n",
        "    fig = go.Figure(data=data, layout=layout)\n",
        "    iplot(fig)"
      ],
      "metadata": {
        "id": "azH50cziqTny"
      },
      "execution_count": 16,
      "outputs": []
    },
    {
      "cell_type": "code",
      "source": [
        "def point_cloud_to_volume(points, vsize, radius=1.0):\n",
        "    vol = np.zeros((vsize,vsize,vsize), dtype=np.bool)\n",
        "    voxel = 2*radius/float(vsize)\n",
        "    locations = (points + radius)/voxel\n",
        "    locations = locations.astype(int)\n",
        "    vol[locations[:,0],locations[:,1],locations[:,2]] = 1.0\n",
        "    \n",
        "    return vol"
      ],
      "metadata": {
        "id": "_XkGP2oNqSAw"
      },
      "execution_count": 17,
      "outputs": []
    },
    {
      "cell_type": "code",
      "source": [
        "def volume_to_point_cloud(vol):\n",
        "    \"\"\" vol is occupancy grid (value = 0 or 1) of size vsize*vsize*vsize\n",
        "        return Nx3 numpy array.\n",
        "    \"\"\"\n",
        "    vsize = vol.shape[0]\n",
        "    assert(vol.shape[1] == vsize and vol.shape[1] == vsize)\n",
        "    points = []\n",
        "    for a in range(vsize):\n",
        "        for b in range(vsize):\n",
        "            for c in range(vsize):\n",
        "                if vol[a,b,c] == 1:\n",
        "                    points.append(np.array([a,b,c]))\n",
        "    if len(points) == 0:\n",
        "        return np.zeros((0,3))\n",
        "    points = np.vstack(points)\n",
        "    \n",
        "    return points\n",
        "\n",
        "def auto_pcl_to_volume(points, vsize):\n",
        "\tdata_min = np.min(points)\n",
        "\tdata_max = np.max(points)\n",
        "\tradius = max(abs(data_min), data_max)\n",
        "\tradius = math.ceil(radius*100) / 100\n",
        "\tvol = point_cloud_to_volume(points, vsize, radius)\n",
        "\n",
        "\treturn vol"
      ],
      "metadata": {
        "id": "JKs1A31PqQCT"
      },
      "execution_count": 18,
      "outputs": []
    },
    {
      "cell_type": "code",
      "source": [
        "def plot_vol(vol, s=10, c=(105,127,155), show_grid=False):\n",
        "    if vol.dtype != np.bool:\n",
        "        vol = vol > 0\n",
        "\n",
        "    pc = volume_to_point_cloud(vol)\n",
        "    plot3d(pc, s, c, show_grid)"
      ],
      "metadata": {
        "id": "jXJ9_w2cqLYR"
      },
      "execution_count": 19,
      "outputs": []
    },
    {
      "cell_type": "code",
      "source": [
        "plot_vol(np.reshape(patch, (32,32,32)))\n",
        "plot_vol(np.reshape(x_val[1],(32,32,32)))"
      ],
      "metadata": {
        "colab": {
          "base_uri": "https://localhost:8080/",
          "height": 1000
        },
        "id": "oe9yit7hqWO7",
        "outputId": "aa2ff0fc-625b-4c89-e744-07e89cb0413c"
      },
      "execution_count": 30,
      "outputs": [
        {
          "output_type": "stream",
          "name": "stderr",
          "text": [
            "/usr/local/lib/python3.7/dist-packages/ipykernel_launcher.py:2: DeprecationWarning:\n",
            "\n",
            "`np.bool` is a deprecated alias for the builtin `bool`. To silence this warning, use `bool` by itself. Doing this will not modify any behavior and is safe. If you specifically wanted the numpy scalar type, use `np.bool_` here.\n",
            "Deprecated in NumPy 1.20; for more details and guidance: https://numpy.org/devdocs/release/1.20.0-notes.html#deprecations\n",
            "\n"
          ]
        },
        {
          "output_type": "display_data",
          "data": {
            "text/html": [
              "<html>\n",
              "<head><meta charset=\"utf-8\" /></head>\n",
              "<body>\n",
              "    <div>            <script src=\"https://cdnjs.cloudflare.com/ajax/libs/mathjax/2.7.5/MathJax.js?config=TeX-AMS-MML_SVG\"></script><script type=\"text/javascript\">if (window.MathJax) {MathJax.Hub.Config({SVG: {font: \"STIX-Web\"}});}</script>                <script type=\"text/javascript\">window.PlotlyConfig = {MathJaxConfig: 'local'};</script>\n",
              "        <script src=\"https://cdn.plot.ly/plotly-2.8.3.min.js\"></script>                <div id=\"d2769b98-914f-452f-9de6-4003b2ed4279\" class=\"plotly-graph-div\" style=\"height:525px; width:100%;\"></div>            <script type=\"text/javascript\">                                    window.PLOTLYENV=window.PLOTLYENV || {};                                    if (document.getElementById(\"d2769b98-914f-452f-9de6-4003b2ed4279\")) {                    Plotly.newPlot(                        \"d2769b98-914f-452f-9de6-4003b2ed4279\",                        [{\"marker\":{\"color\":\"rgb(105, 127, 155)\",\"line\":{\"color\":\"rgba(217, 217, 217, 0.14)\",\"width\":0.5},\"opacity\":1,\"size\":10},\"mode\":\"markers\",\"x\":[4,4,4,4,4,4,4,4,5,5,5,5,5,5,5,5,5,5,5,5,5,5,5,5,5,5,5,5,5,5,5,5,5,5,5,5,5,5,5,5,5,6,6,6,6,6,6,6,6,6,6,6,6,6,6,6,6,6,6,6,6,6,6,6,6,6,6,6,6,6,6,6,6,6,6,6,6,6,6,6,6,6,6,6,6,6,6,6,6,6,6,6,6,6,6,6,6,6,6,6,6,6,6,6,6,6,6,6,6,6,6,6,6,6,6,6,6,6,6,6,6,6,6,6,6,6,6,7,7,7,7,7,7,7,7,7,7,7,7,7,7,7,7,7,7,7,7,7,7,7,7,7,7,7,7,7,7,7,7,7,7,7,7,7,7,7,7,7,7,7,7,7,7,7,7,7,7,7,7,7,7,7,7,7,7,7,7,7,7,7,7,8,8,8,8,8,8,8,8,8,9,9,9,9,9,9,9,10,10,10,10,10,10,10,10,10,11,11,11,11,11,11,11,11,11,12,12,12,12,12,12,12,12,12,13,13,13,13,13,13,13,13,13,14,14,14,14,14,14,14,14,14,15,15,15,15,15,15,15,15,15,16,16,16,16,16,16,16,16,16,17,17,17,17,17,17,17,17,17],\"y\":[6,7,8,9,10,11,12,13,6,7,8,9,10,11,12,13,14,15,15,16,16,16,17,17,17,17,18,18,18,19,19,19,19,20,20,20,21,21,21,22,22,6,7,7,7,7,7,7,8,8,8,8,8,8,8,9,9,9,9,9,9,9,10,10,10,10,10,10,10,10,10,11,11,11,11,11,11,11,11,11,11,12,12,12,12,12,12,12,13,13,13,13,14,14,14,14,15,15,15,16,16,16,16,17,17,17,17,18,18,18,18,18,19,19,19,19,20,20,20,20,20,21,21,21,21,22,22,6,7,7,7,7,7,7,8,8,8,8,8,8,8,8,9,9,9,9,9,9,9,10,10,10,10,10,10,10,10,11,11,11,11,11,11,11,11,11,12,12,12,12,12,12,13,13,13,13,14,14,14,14,15,15,15,16,16,16,17,17,17,18,18,6,7,8,9,9,10,11,12,15,6,7,8,9,10,11,15,8,9,10,11,12,13,14,14,15,8,9,10,11,12,13,14,14,15,8,9,10,11,12,13,14,14,15,8,9,10,11,12,13,14,14,15,8,9,10,11,12,13,14,14,15,8,9,10,11,12,13,14,14,15,8,9,10,11,12,13,14,14,15,8,9,10,11,12,13,14,14,15],\"z\":[18,18,18,18,18,18,18,18,18,18,18,18,18,18,18,18,8,8,9,7,8,9,5,6,7,8,4,5,6,2,3,4,5,1,2,3,0,1,2,0,1,18,18,19,20,21,22,23,17,18,19,20,21,22,23,0,1,2,16,17,18,19,0,1,2,3,14,15,16,17,18,1,2,3,4,5,14,15,16,17,18,3,4,5,6,14,15,18,4,5,6,18,6,7,8,9,7,8,9,6,7,8,9,5,6,7,8,3,4,5,6,7,2,3,4,5,0,1,2,3,4,0,1,2,3,0,1,18,18,19,20,21,22,23,0,1,18,19,20,21,22,23,0,1,2,16,17,18,19,0,1,2,3,15,16,17,18,1,2,3,4,5,14,15,16,18,3,4,5,6,15,18,4,5,6,18,6,7,8,9,7,8,9,7,8,9,5,6,7,5,6,18,18,18,0,18,18,18,18,9,18,18,18,18,18,18,9,18,18,18,18,18,18,17,18,17,18,18,18,18,18,18,17,18,17,18,18,18,18,18,18,17,18,17,18,18,18,18,18,18,17,18,17,18,18,18,18,18,18,17,18,17,18,18,18,18,18,18,17,18,17,18,18,18,18,18,18,17,18,17,18,18,18,18,18,18,17,18,17],\"type\":\"scatter3d\"}],                        {\"margin\":{\"b\":0,\"l\":0,\"r\":0,\"t\":0},\"scene\":{\"xaxis\":{\"visible\":false},\"yaxis\":{\"visible\":false},\"zaxis\":{\"visible\":false}},\"template\":{\"data\":{\"barpolar\":[{\"marker\":{\"line\":{\"color\":\"#E5ECF6\",\"width\":0.5},\"pattern\":{\"fillmode\":\"overlay\",\"size\":10,\"solidity\":0.2}},\"type\":\"barpolar\"}],\"bar\":[{\"error_x\":{\"color\":\"#2a3f5f\"},\"error_y\":{\"color\":\"#2a3f5f\"},\"marker\":{\"line\":{\"color\":\"#E5ECF6\",\"width\":0.5},\"pattern\":{\"fillmode\":\"overlay\",\"size\":10,\"solidity\":0.2}},\"type\":\"bar\"}],\"carpet\":[{\"aaxis\":{\"endlinecolor\":\"#2a3f5f\",\"gridcolor\":\"white\",\"linecolor\":\"white\",\"minorgridcolor\":\"white\",\"startlinecolor\":\"#2a3f5f\"},\"baxis\":{\"endlinecolor\":\"#2a3f5f\",\"gridcolor\":\"white\",\"linecolor\":\"white\",\"minorgridcolor\":\"white\",\"startlinecolor\":\"#2a3f5f\"},\"type\":\"carpet\"}],\"choropleth\":[{\"colorbar\":{\"outlinewidth\":0,\"ticks\":\"\"},\"type\":\"choropleth\"}],\"contourcarpet\":[{\"colorbar\":{\"outlinewidth\":0,\"ticks\":\"\"},\"type\":\"contourcarpet\"}],\"contour\":[{\"colorbar\":{\"outlinewidth\":0,\"ticks\":\"\"},\"colorscale\":[[0.0,\"#0d0887\"],[0.1111111111111111,\"#46039f\"],[0.2222222222222222,\"#7201a8\"],[0.3333333333333333,\"#9c179e\"],[0.4444444444444444,\"#bd3786\"],[0.5555555555555556,\"#d8576b\"],[0.6666666666666666,\"#ed7953\"],[0.7777777777777778,\"#fb9f3a\"],[0.8888888888888888,\"#fdca26\"],[1.0,\"#f0f921\"]],\"type\":\"contour\"}],\"heatmapgl\":[{\"colorbar\":{\"outlinewidth\":0,\"ticks\":\"\"},\"colorscale\":[[0.0,\"#0d0887\"],[0.1111111111111111,\"#46039f\"],[0.2222222222222222,\"#7201a8\"],[0.3333333333333333,\"#9c179e\"],[0.4444444444444444,\"#bd3786\"],[0.5555555555555556,\"#d8576b\"],[0.6666666666666666,\"#ed7953\"],[0.7777777777777778,\"#fb9f3a\"],[0.8888888888888888,\"#fdca26\"],[1.0,\"#f0f921\"]],\"type\":\"heatmapgl\"}],\"heatmap\":[{\"colorbar\":{\"outlinewidth\":0,\"ticks\":\"\"},\"colorscale\":[[0.0,\"#0d0887\"],[0.1111111111111111,\"#46039f\"],[0.2222222222222222,\"#7201a8\"],[0.3333333333333333,\"#9c179e\"],[0.4444444444444444,\"#bd3786\"],[0.5555555555555556,\"#d8576b\"],[0.6666666666666666,\"#ed7953\"],[0.7777777777777778,\"#fb9f3a\"],[0.8888888888888888,\"#fdca26\"],[1.0,\"#f0f921\"]],\"type\":\"heatmap\"}],\"histogram2dcontour\":[{\"colorbar\":{\"outlinewidth\":0,\"ticks\":\"\"},\"colorscale\":[[0.0,\"#0d0887\"],[0.1111111111111111,\"#46039f\"],[0.2222222222222222,\"#7201a8\"],[0.3333333333333333,\"#9c179e\"],[0.4444444444444444,\"#bd3786\"],[0.5555555555555556,\"#d8576b\"],[0.6666666666666666,\"#ed7953\"],[0.7777777777777778,\"#fb9f3a\"],[0.8888888888888888,\"#fdca26\"],[1.0,\"#f0f921\"]],\"type\":\"histogram2dcontour\"}],\"histogram2d\":[{\"colorbar\":{\"outlinewidth\":0,\"ticks\":\"\"},\"colorscale\":[[0.0,\"#0d0887\"],[0.1111111111111111,\"#46039f\"],[0.2222222222222222,\"#7201a8\"],[0.3333333333333333,\"#9c179e\"],[0.4444444444444444,\"#bd3786\"],[0.5555555555555556,\"#d8576b\"],[0.6666666666666666,\"#ed7953\"],[0.7777777777777778,\"#fb9f3a\"],[0.8888888888888888,\"#fdca26\"],[1.0,\"#f0f921\"]],\"type\":\"histogram2d\"}],\"histogram\":[{\"marker\":{\"pattern\":{\"fillmode\":\"overlay\",\"size\":10,\"solidity\":0.2}},\"type\":\"histogram\"}],\"mesh3d\":[{\"colorbar\":{\"outlinewidth\":0,\"ticks\":\"\"},\"type\":\"mesh3d\"}],\"parcoords\":[{\"line\":{\"colorbar\":{\"outlinewidth\":0,\"ticks\":\"\"}},\"type\":\"parcoords\"}],\"pie\":[{\"automargin\":true,\"type\":\"pie\"}],\"scatter3d\":[{\"line\":{\"colorbar\":{\"outlinewidth\":0,\"ticks\":\"\"}},\"marker\":{\"colorbar\":{\"outlinewidth\":0,\"ticks\":\"\"}},\"type\":\"scatter3d\"}],\"scattercarpet\":[{\"marker\":{\"colorbar\":{\"outlinewidth\":0,\"ticks\":\"\"}},\"type\":\"scattercarpet\"}],\"scattergeo\":[{\"marker\":{\"colorbar\":{\"outlinewidth\":0,\"ticks\":\"\"}},\"type\":\"scattergeo\"}],\"scattergl\":[{\"marker\":{\"colorbar\":{\"outlinewidth\":0,\"ticks\":\"\"}},\"type\":\"scattergl\"}],\"scattermapbox\":[{\"marker\":{\"colorbar\":{\"outlinewidth\":0,\"ticks\":\"\"}},\"type\":\"scattermapbox\"}],\"scatterpolargl\":[{\"marker\":{\"colorbar\":{\"outlinewidth\":0,\"ticks\":\"\"}},\"type\":\"scatterpolargl\"}],\"scatterpolar\":[{\"marker\":{\"colorbar\":{\"outlinewidth\":0,\"ticks\":\"\"}},\"type\":\"scatterpolar\"}],\"scatter\":[{\"marker\":{\"colorbar\":{\"outlinewidth\":0,\"ticks\":\"\"}},\"type\":\"scatter\"}],\"scatterternary\":[{\"marker\":{\"colorbar\":{\"outlinewidth\":0,\"ticks\":\"\"}},\"type\":\"scatterternary\"}],\"surface\":[{\"colorbar\":{\"outlinewidth\":0,\"ticks\":\"\"},\"colorscale\":[[0.0,\"#0d0887\"],[0.1111111111111111,\"#46039f\"],[0.2222222222222222,\"#7201a8\"],[0.3333333333333333,\"#9c179e\"],[0.4444444444444444,\"#bd3786\"],[0.5555555555555556,\"#d8576b\"],[0.6666666666666666,\"#ed7953\"],[0.7777777777777778,\"#fb9f3a\"],[0.8888888888888888,\"#fdca26\"],[1.0,\"#f0f921\"]],\"type\":\"surface\"}],\"table\":[{\"cells\":{\"fill\":{\"color\":\"#EBF0F8\"},\"line\":{\"color\":\"white\"}},\"header\":{\"fill\":{\"color\":\"#C8D4E3\"},\"line\":{\"color\":\"white\"}},\"type\":\"table\"}]},\"layout\":{\"annotationdefaults\":{\"arrowcolor\":\"#2a3f5f\",\"arrowhead\":0,\"arrowwidth\":1},\"autotypenumbers\":\"strict\",\"coloraxis\":{\"colorbar\":{\"outlinewidth\":0,\"ticks\":\"\"}},\"colorscale\":{\"diverging\":[[0,\"#8e0152\"],[0.1,\"#c51b7d\"],[0.2,\"#de77ae\"],[0.3,\"#f1b6da\"],[0.4,\"#fde0ef\"],[0.5,\"#f7f7f7\"],[0.6,\"#e6f5d0\"],[0.7,\"#b8e186\"],[0.8,\"#7fbc41\"],[0.9,\"#4d9221\"],[1,\"#276419\"]],\"sequential\":[[0.0,\"#0d0887\"],[0.1111111111111111,\"#46039f\"],[0.2222222222222222,\"#7201a8\"],[0.3333333333333333,\"#9c179e\"],[0.4444444444444444,\"#bd3786\"],[0.5555555555555556,\"#d8576b\"],[0.6666666666666666,\"#ed7953\"],[0.7777777777777778,\"#fb9f3a\"],[0.8888888888888888,\"#fdca26\"],[1.0,\"#f0f921\"]],\"sequentialminus\":[[0.0,\"#0d0887\"],[0.1111111111111111,\"#46039f\"],[0.2222222222222222,\"#7201a8\"],[0.3333333333333333,\"#9c179e\"],[0.4444444444444444,\"#bd3786\"],[0.5555555555555556,\"#d8576b\"],[0.6666666666666666,\"#ed7953\"],[0.7777777777777778,\"#fb9f3a\"],[0.8888888888888888,\"#fdca26\"],[1.0,\"#f0f921\"]]},\"colorway\":[\"#636efa\",\"#EF553B\",\"#00cc96\",\"#ab63fa\",\"#FFA15A\",\"#19d3f3\",\"#FF6692\",\"#B6E880\",\"#FF97FF\",\"#FECB52\"],\"font\":{\"color\":\"#2a3f5f\"},\"geo\":{\"bgcolor\":\"white\",\"lakecolor\":\"white\",\"landcolor\":\"#E5ECF6\",\"showlakes\":true,\"showland\":true,\"subunitcolor\":\"white\"},\"hoverlabel\":{\"align\":\"left\"},\"hovermode\":\"closest\",\"mapbox\":{\"style\":\"light\"},\"paper_bgcolor\":\"white\",\"plot_bgcolor\":\"#E5ECF6\",\"polar\":{\"angularaxis\":{\"gridcolor\":\"white\",\"linecolor\":\"white\",\"ticks\":\"\"},\"bgcolor\":\"#E5ECF6\",\"radialaxis\":{\"gridcolor\":\"white\",\"linecolor\":\"white\",\"ticks\":\"\"}},\"scene\":{\"xaxis\":{\"backgroundcolor\":\"#E5ECF6\",\"gridcolor\":\"white\",\"gridwidth\":2,\"linecolor\":\"white\",\"showbackground\":true,\"ticks\":\"\",\"zerolinecolor\":\"white\"},\"yaxis\":{\"backgroundcolor\":\"#E5ECF6\",\"gridcolor\":\"white\",\"gridwidth\":2,\"linecolor\":\"white\",\"showbackground\":true,\"ticks\":\"\",\"zerolinecolor\":\"white\"},\"zaxis\":{\"backgroundcolor\":\"#E5ECF6\",\"gridcolor\":\"white\",\"gridwidth\":2,\"linecolor\":\"white\",\"showbackground\":true,\"ticks\":\"\",\"zerolinecolor\":\"white\"}},\"shapedefaults\":{\"line\":{\"color\":\"#2a3f5f\"}},\"ternary\":{\"aaxis\":{\"gridcolor\":\"white\",\"linecolor\":\"white\",\"ticks\":\"\"},\"baxis\":{\"gridcolor\":\"white\",\"linecolor\":\"white\",\"ticks\":\"\"},\"bgcolor\":\"#E5ECF6\",\"caxis\":{\"gridcolor\":\"white\",\"linecolor\":\"white\",\"ticks\":\"\"}},\"title\":{\"x\":0.05},\"xaxis\":{\"automargin\":true,\"gridcolor\":\"white\",\"linecolor\":\"white\",\"ticks\":\"\",\"title\":{\"standoff\":15},\"zerolinecolor\":\"white\",\"zerolinewidth\":2},\"yaxis\":{\"automargin\":true,\"gridcolor\":\"white\",\"linecolor\":\"white\",\"ticks\":\"\",\"title\":{\"standoff\":15},\"zerolinecolor\":\"white\",\"zerolinewidth\":2}}}},                        {\"responsive\": true}                    ).then(function(){\n",
              "                            \n",
              "var gd = document.getElementById('d2769b98-914f-452f-9de6-4003b2ed4279');\n",
              "var x = new MutationObserver(function (mutations, observer) {{\n",
              "        var display = window.getComputedStyle(gd).display;\n",
              "        if (!display || display === 'none') {{\n",
              "            console.log([gd, 'removed!']);\n",
              "            Plotly.purge(gd);\n",
              "            observer.disconnect();\n",
              "        }}\n",
              "}});\n",
              "\n",
              "// Listen for the removal of the full notebook cells\n",
              "var notebookContainer = gd.closest('#notebook-container');\n",
              "if (notebookContainer) {{\n",
              "    x.observe(notebookContainer, {childList: true});\n",
              "}}\n",
              "\n",
              "// Listen for the clearing of the current output cell\n",
              "var outputEl = gd.closest('.output');\n",
              "if (outputEl) {{\n",
              "    x.observe(outputEl, {childList: true});\n",
              "}}\n",
              "\n",
              "                        })                };                            </script>        </div>\n",
              "</body>\n",
              "</html>"
            ]
          },
          "metadata": {}
        },
        {
          "output_type": "display_data",
          "data": {
            "text/html": [
              "<html>\n",
              "<head><meta charset=\"utf-8\" /></head>\n",
              "<body>\n",
              "    <div>            <script src=\"https://cdnjs.cloudflare.com/ajax/libs/mathjax/2.7.5/MathJax.js?config=TeX-AMS-MML_SVG\"></script><script type=\"text/javascript\">if (window.MathJax) {MathJax.Hub.Config({SVG: {font: \"STIX-Web\"}});}</script>                <script type=\"text/javascript\">window.PlotlyConfig = {MathJaxConfig: 'local'};</script>\n",
              "        <script src=\"https://cdn.plot.ly/plotly-2.8.3.min.js\"></script>                <div id=\"690f1030-d0f2-4c0b-86b3-17936596746e\" class=\"plotly-graph-div\" style=\"height:525px; width:100%;\"></div>            <script type=\"text/javascript\">                                    window.PLOTLYENV=window.PLOTLYENV || {};                                    if (document.getElementById(\"690f1030-d0f2-4c0b-86b3-17936596746e\")) {                    Plotly.newPlot(                        \"690f1030-d0f2-4c0b-86b3-17936596746e\",                        [{\"marker\":{\"color\":\"rgb(105, 127, 155)\",\"line\":{\"color\":\"rgba(217, 217, 217, 0.14)\",\"width\":0.5},\"opacity\":1,\"size\":10},\"mode\":\"markers\",\"x\":[4,4,4,4,4,4,4,4,4,4,4,4,4,4,4,4,4,4,4,4,4,4,4,4,4,4,4,4,4,4,4,4,4,4,4,4,4,4,4,4,4,4,4,4,4,4,4,5,5,5,5,5,5,5,5,5,5,5,5,5,5,5,5,5,5,5,5,5,5,5,5,5,5,5,5,5,5,5,5,5,5,5,5,5,5,5,5,5,5,5,5,5,5,5,5,5,5,5,5,5,5,5,5,5,5,5,5,5,5,5,5,5,5,5,5,5,5,5,5,5,5,5,5,5,5,5,5,5,5,5,5,5,5,5,5,5,5,6,6,6,6,6,6,6,6,6,6,6,6,6,6,6,6,6,6,6,6,6,6,6,6,6,6,6,6,6,6,6,6,6,6,6,6,6,6,6,6,6,6,6,6,6,6,6,6,6,6,6,6,6,6,6,6,6,6,6,6,6,6,6,6,6,6,6,6,6,6,6,6,6,6,6,6,7,7,7,7,7,7,7,7,7,7,7,7,7,7,7,7,7,7,7,7,7,7,7,7,7,7,7,7,7,7,7,7,7,7,7,7,7,7,7,7,7,7,7,7,7,7,7,7,7,7,7,7,8,8,8,8,8,8,8,8,8,8,8,8,8,8,8,8,8,8,8,8,8,8,8,9,9,9,9,9,9,9,9,9,9,9,9,9,9,9,9,9,9,9,9,9,9,9,9,10,10,10,10,10,10,10,10,10,10,10,10,10,10,10,10,10,10,10,10,10,11,11,11,11,11,11,11,11,11,11,11,11,11,11,11,11,11,11,11,11,12,12,12,12,12,12,12,12,12,12,12,12,12,12,12,12,12,12,12,12,13,13,13,13,13,13,13,13,13,13,13,13,13,13,13,13,13,13,13,13,14,14,14,14,14,14,14,14,14,14,14,14,14,14,14,14,14,14,14,14,15,15,15,15,15,15,15,15,15,15,15,15,15,15,15,15,15,15,15,15,15,15,16,16,16,16,16,16,16,16,16,16,16,16,16,16,16,16,16,16,16,16,16,16,16,17,17,17,17,17,17,17,17,17,17,17,17,17,17,17,17,17,17,17,17,17,17,17,18,18,18,18,18,18,18,18,18,18,18,18,18,18,18,18,18,18,18,18,18,18,18,18,18,18,18,18,18,18,18,18,19,19,19,19,19,19,19,19,19,19,19,19,19,19,19,19,19,19,19,19,19,19,19,19,19,19,19,19,19,19,19,19,20,20,20,20,20,20,20,20,20,20,20,20,20,20,20,20,20,20,20,20,20,20,20,20,20,20,20,20,20,20,20,20,21,21,21,21,21,21,21,21,21,21,21,21,21,21,21,21,21,21,21,21,21,21,21,21,21,21,21,21,21,21,21,21,22,22,22,22,22,22,22,22,22,22,22,22,22,22,22,22,22,22,22,22,22,22,22,22,22,22,22,22,22,22,22,22,23,23,23,23,23,23,23,23,23,23,23,23,23,23,23,23,23,23,23,23,23,23,23,23,23,23,23,23,23,23,23,23,23,23,23,23,23,23,23,23,23,23,23,23,23,23,23,23,23,23,23,23,23,24,24,24,24,24,24,24,24,24,24,24,24,24,24,24,24,24,24,24,24,24,24,24,24,24,24,24,24,24,24,24,24,24,24,24,24,24,24,24,24,24,24,24,24,24,24,24,24,24,24,24,24,24,24,24,24,24,24,24,24,24,24,24,24,24,24,24,24,24,24,24,24,24,24,24,24,24,24,24,24,24,24,24,24,24,24,24,24,24,25,25,25,25,25,25,25,25,25,25,25,25,25,25,25,25,25,25,25,25,25,25,25,25,25,25,25,25,25,25,25,25,25,25,25,25,25,25,25,25,25,25,25,25,25,25,25,25,25,25,25,25,25,25,25,25,25,25,25,25,25,25,25,25,25,25,25,25,25,25,25,25,25,25,25,25,25,25,25,25,25,25,25,25,25,25,25,25,25,25,25,25,25,25,25,25,25,25,25,25,25,25,25,25,25,25,25,25,25,25,25,25,25,25,25,25,25,25,25,25,25,25,25,25,25,25,25,25,25,25,25,25,25,25,25,25,25,25,25,25,25,25,25,25,25,25,25,25,25,25,25,25,25,25,25,25,25,25,25,25,25,25,25,25,25,25,25,25,25,25,25,25,25,25,26,26,26,26,26,26,26,26,26,26,26,26,26,26,26,26,26,26,26,26,26,26,26,26,26,26,26,26,26,26,26,26,26,26,26,26,26,26,26,26,26,26,26,26,26,26,26,26,26,26,26,26,26,26,26,26,26,26,26,26,26,26,26,26,26,26,26,26,26,26,26,26,26,26,26,26,26,26,26,26,26,26,26,26,26,26,26,26,26,26,26,26,26,26,26,26,26,26,26,26,26,26,26,26,26,26,26,26,26,26,26,26,26,26,26,26,26,26,26,26,26,26,26,26,26,26,26,26,26,26,26,27,27,27,27,27,27,27,27,27,27,27],\"y\":[14,14,15,16,17,18,18,19,19,20,20,21,21,21,21,22,22,22,22,22,22,22,22,23,23,23,23,23,23,23,23,23,23,23,23,23,24,24,24,24,24,24,24,24,24,24,25,7,8,8,9,10,11,12,12,13,13,13,13,14,14,14,14,14,14,15,15,15,16,16,16,16,16,17,17,17,17,17,17,18,18,18,18,18,18,18,19,19,19,19,19,19,20,20,20,20,20,20,21,21,21,21,21,22,22,22,22,22,22,22,22,23,23,23,23,23,23,23,23,23,23,23,23,23,23,24,24,24,24,24,24,24,24,24,24,25,25,7,7,8,8,9,9,10,11,11,12,12,12,13,13,13,13,13,13,13,13,14,14,14,14,14,14,15,15,15,15,16,16,16,16,16,17,17,17,17,17,17,18,18,18,18,18,18,18,19,19,19,19,19,19,20,20,20,20,20,21,21,21,21,22,22,23,23,23,23,23,23,23,23,23,24,24,7,7,8,8,9,9,10,11,12,12,12,12,13,13,13,13,13,14,14,14,14,14,14,15,15,15,16,16,17,17,18,18,19,19,20,20,21,21,22,22,23,23,23,23,23,23,23,23,23,23,24,24,13,14,14,15,15,16,17,18,19,20,21,22,23,23,23,23,23,23,23,23,23,24,24,12,13,14,14,15,15,16,17,18,19,20,21,22,23,23,23,23,23,23,23,23,23,24,24,6,7,15,15,16,17,18,19,20,21,22,23,23,23,23,23,23,23,23,23,24,6,7,15,15,16,17,18,19,20,21,22,23,23,23,23,23,23,23,23,23,6,7,15,15,16,17,18,19,20,21,22,23,23,23,23,23,23,23,23,23,6,7,15,15,16,17,18,19,20,21,22,23,23,23,23,23,23,23,23,23,6,7,15,15,16,17,18,19,20,21,22,23,23,23,23,23,23,23,23,23,6,7,15,15,16,17,18,19,20,21,22,22,22,23,23,23,23,23,23,23,23,23,6,7,15,15,16,16,17,18,19,20,21,22,22,22,23,23,23,23,23,23,23,23,23,6,7,15,15,16,16,17,18,19,20,21,22,22,22,23,23,23,23,23,23,23,23,23,6,7,8,9,10,11,12,13,14,14,15,15,15,16,16,17,18,19,20,21,22,22,22,23,23,23,23,23,23,23,23,23,6,7,8,9,10,11,12,13,14,14,15,15,15,16,16,17,18,19,20,21,22,22,22,23,23,23,23,23,23,23,23,23,6,7,8,9,10,11,12,13,14,14,15,15,15,16,16,17,18,19,20,21,22,22,22,23,23,23,23,23,23,23,23,23,6,7,8,9,10,11,12,13,14,14,15,15,15,16,16,17,18,19,20,21,22,22,22,23,23,23,23,23,23,23,23,23,6,7,8,9,10,11,12,13,14,14,15,15,15,16,16,17,18,19,20,21,22,22,22,23,23,23,23,23,23,23,23,23,6,7,8,9,10,11,11,12,12,13,13,14,14,14,15,15,15,15,16,16,16,17,17,18,18,19,19,20,20,21,21,22,22,22,22,23,23,23,23,23,23,23,23,23,23,23,23,23,24,24,24,24,24,6,7,7,8,8,9,9,10,10,11,11,12,12,13,13,14,14,14,15,15,15,15,16,16,16,16,16,17,17,17,17,17,17,18,18,18,18,18,18,19,19,19,19,19,19,20,20,20,20,20,20,21,21,21,21,21,22,22,22,22,22,22,22,22,22,23,23,23,23,23,23,23,23,23,23,23,23,23,24,24,24,24,24,24,24,24,24,24,25,6,7,7,7,7,7,7,7,8,8,8,8,8,8,8,8,9,9,9,9,9,9,9,9,9,10,10,10,10,10,10,10,11,11,11,11,11,11,11,11,11,11,11,12,12,12,12,12,12,12,12,12,12,13,13,13,13,13,13,13,13,13,13,13,13,14,14,14,14,14,14,14,14,14,14,14,15,15,15,15,15,15,15,16,16,16,16,16,16,16,16,16,17,17,17,17,17,17,17,17,17,17,17,18,18,18,18,18,18,18,18,18,18,18,18,19,19,19,19,19,19,19,19,19,19,19,20,20,20,20,20,20,20,20,20,20,21,21,21,21,21,21,21,21,21,22,22,22,22,22,22,22,22,22,23,23,23,23,23,23,23,23,23,23,23,23,23,24,24,24,24,24,24,24,6,7,7,7,7,7,7,7,8,8,8,8,8,8,8,8,8,9,9,9,9,9,9,9,9,9,9,10,10,10,10,10,10,10,10,10,10,11,11,11,11,11,11,11,11,11,11,11,11,12,12,12,12,12,12,12,12,12,12,13,13,13,13,13,13,13,13,13,13,13,14,14,14,14,14,14,14,14,14,14,15,15,15,15,15,15,15,16,16,16,16,16,16,16,16,17,17,17,17,17,17,17,17,17,18,18,18,18,18,18,19,19,19,19,19,19,20,20,20,20,20,20,21,21,21,21,21,22,22,22,22,8,8,9,9,9,10,10,10,10,11,11],\"z\":[17,18,17,17,17,17,24,17,24,17,24,17,18,19,24,17,18,19,20,21,22,23,24,19,20,21,22,23,24,25,26,27,28,29,30,31,22,23,24,25,26,27,28,29,30,31,31,24,24,25,24,24,24,13,24,11,12,13,24,10,11,12,17,18,24,10,17,24,10,11,12,17,24,10,11,12,13,17,24,11,12,13,14,15,17,24,13,14,15,16,17,24,14,15,16,17,18,24,16,17,18,19,24,17,18,19,20,21,22,23,24,18,19,20,21,22,23,24,25,26,27,28,29,30,31,22,23,24,25,26,27,28,29,30,31,30,31,24,25,24,25,24,25,24,13,24,12,13,24,7,8,10,11,12,13,14,24,10,11,12,17,18,24,10,11,17,24,10,11,12,17,24,10,11,12,13,17,24,11,12,13,14,15,17,24,13,14,15,16,17,24,14,15,16,17,24,16,17,18,24,17,24,19,20,24,25,26,27,28,29,30,30,31,24,25,24,25,24,25,24,24,12,13,14,24,7,11,12,13,24,10,11,12,17,18,24,10,17,24,17,24,17,24,17,24,17,24,17,24,17,24,17,24,19,20,24,25,26,27,28,29,30,31,30,31,18,17,18,10,17,17,17,17,17,17,17,17,19,20,25,26,27,28,29,30,31,30,31,18,18,17,18,10,17,17,17,17,17,17,17,17,19,20,25,26,27,28,29,30,31,30,31,18,18,9,10,17,17,17,17,17,17,17,19,20,25,26,27,28,29,30,31,31,18,18,9,10,17,17,17,17,17,17,17,19,20,25,26,27,28,29,30,31,18,18,9,10,17,17,17,17,17,17,17,19,20,25,26,27,28,29,30,31,18,18,9,10,17,17,17,17,17,17,17,19,20,25,26,27,28,29,30,31,18,18,9,10,17,17,17,17,17,17,17,19,20,25,26,27,28,29,30,31,18,18,9,10,17,17,17,17,17,17,17,19,20,19,20,25,26,27,28,29,30,31,18,18,9,10,9,17,17,17,17,17,17,17,19,20,19,20,25,26,27,28,29,30,31,18,18,9,10,9,17,17,17,17,17,17,17,19,20,19,20,25,26,27,28,29,30,31,18,18,18,18,18,18,18,18,17,18,9,10,17,9,17,17,17,17,17,17,17,19,20,19,20,25,26,27,28,29,30,31,18,18,18,18,18,18,18,18,17,18,9,10,17,9,17,17,17,17,17,17,17,19,20,19,20,25,26,27,28,29,30,31,18,18,18,18,18,18,18,18,17,18,9,10,17,9,17,17,17,17,17,17,17,19,20,19,20,25,26,27,28,29,30,31,18,18,18,18,18,18,18,18,17,18,9,10,17,9,17,17,17,17,17,17,17,19,20,19,20,25,26,27,28,29,30,31,18,18,18,18,18,18,18,18,17,18,9,10,17,9,17,17,17,17,17,17,17,19,20,19,20,25,26,27,28,29,30,31,18,18,18,18,18,18,24,18,24,18,24,17,18,24,9,10,17,24,9,17,24,17,24,17,24,17,24,17,24,17,24,17,19,20,24,19,20,21,22,23,24,25,26,27,28,29,30,31,27,28,29,30,31,18,18,24,18,24,18,24,18,24,18,24,18,24,18,24,17,18,24,9,10,17,24,9,11,12,17,24,11,12,13,14,17,24,12,13,14,15,17,24,13,14,15,16,17,24,14,15,16,17,18,24,16,17,18,19,24,17,18,19,20,21,22,23,24,25,19,20,21,22,23,24,25,26,27,28,29,30,31,22,23,24,25,26,27,28,29,30,31,31,18,18,19,20,21,22,23,24,17,18,19,20,21,22,23,24,16,17,18,19,20,21,22,23,24,2,3,15,16,17,18,24,2,3,4,5,13,14,15,16,17,18,24,3,4,5,6,12,13,14,15,18,24,4,5,6,7,8,10,11,12,13,14,18,24,6,7,8,9,10,11,12,13,17,18,24,7,8,9,10,11,17,24,6,7,8,9,10,11,12,17,24,5,6,7,8,10,11,12,13,14,17,24,3,4,5,6,7,11,12,13,14,15,17,24,2,3,4,5,6,13,14,15,16,17,24,1,2,3,4,14,15,16,17,18,24,0,1,2,3,16,17,18,19,24,0,1,17,18,19,20,21,22,24,19,20,21,22,23,24,25,26,27,28,29,30,31,25,26,27,28,29,30,31,18,18,19,20,21,22,23,24,0,1,18,19,20,21,22,23,24,0,1,2,16,17,18,19,22,23,24,0,1,2,3,4,15,16,17,18,24,1,2,3,4,5,13,14,15,16,17,18,24,3,4,5,6,12,13,14,15,18,24,4,5,6,7,8,11,12,13,14,18,24,6,7,8,9,10,11,12,17,18,24,7,8,9,10,11,17,24,7,8,9,10,11,12,17,24,5,6,7,8,10,11,12,17,24,4,5,6,7,17,24,2,3,4,5,17,24,1,2,3,4,17,24,0,1,2,17,24,0,1,17,24,0,1,0,1,2,0,1,2,3,2,3],\"type\":\"scatter3d\"}],                        {\"margin\":{\"b\":0,\"l\":0,\"r\":0,\"t\":0},\"scene\":{\"xaxis\":{\"visible\":false},\"yaxis\":{\"visible\":false},\"zaxis\":{\"visible\":false}},\"template\":{\"data\":{\"barpolar\":[{\"marker\":{\"line\":{\"color\":\"#E5ECF6\",\"width\":0.5},\"pattern\":{\"fillmode\":\"overlay\",\"size\":10,\"solidity\":0.2}},\"type\":\"barpolar\"}],\"bar\":[{\"error_x\":{\"color\":\"#2a3f5f\"},\"error_y\":{\"color\":\"#2a3f5f\"},\"marker\":{\"line\":{\"color\":\"#E5ECF6\",\"width\":0.5},\"pattern\":{\"fillmode\":\"overlay\",\"size\":10,\"solidity\":0.2}},\"type\":\"bar\"}],\"carpet\":[{\"aaxis\":{\"endlinecolor\":\"#2a3f5f\",\"gridcolor\":\"white\",\"linecolor\":\"white\",\"minorgridcolor\":\"white\",\"startlinecolor\":\"#2a3f5f\"},\"baxis\":{\"endlinecolor\":\"#2a3f5f\",\"gridcolor\":\"white\",\"linecolor\":\"white\",\"minorgridcolor\":\"white\",\"startlinecolor\":\"#2a3f5f\"},\"type\":\"carpet\"}],\"choropleth\":[{\"colorbar\":{\"outlinewidth\":0,\"ticks\":\"\"},\"type\":\"choropleth\"}],\"contourcarpet\":[{\"colorbar\":{\"outlinewidth\":0,\"ticks\":\"\"},\"type\":\"contourcarpet\"}],\"contour\":[{\"colorbar\":{\"outlinewidth\":0,\"ticks\":\"\"},\"colorscale\":[[0.0,\"#0d0887\"],[0.1111111111111111,\"#46039f\"],[0.2222222222222222,\"#7201a8\"],[0.3333333333333333,\"#9c179e\"],[0.4444444444444444,\"#bd3786\"],[0.5555555555555556,\"#d8576b\"],[0.6666666666666666,\"#ed7953\"],[0.7777777777777778,\"#fb9f3a\"],[0.8888888888888888,\"#fdca26\"],[1.0,\"#f0f921\"]],\"type\":\"contour\"}],\"heatmapgl\":[{\"colorbar\":{\"outlinewidth\":0,\"ticks\":\"\"},\"colorscale\":[[0.0,\"#0d0887\"],[0.1111111111111111,\"#46039f\"],[0.2222222222222222,\"#7201a8\"],[0.3333333333333333,\"#9c179e\"],[0.4444444444444444,\"#bd3786\"],[0.5555555555555556,\"#d8576b\"],[0.6666666666666666,\"#ed7953\"],[0.7777777777777778,\"#fb9f3a\"],[0.8888888888888888,\"#fdca26\"],[1.0,\"#f0f921\"]],\"type\":\"heatmapgl\"}],\"heatmap\":[{\"colorbar\":{\"outlinewidth\":0,\"ticks\":\"\"},\"colorscale\":[[0.0,\"#0d0887\"],[0.1111111111111111,\"#46039f\"],[0.2222222222222222,\"#7201a8\"],[0.3333333333333333,\"#9c179e\"],[0.4444444444444444,\"#bd3786\"],[0.5555555555555556,\"#d8576b\"],[0.6666666666666666,\"#ed7953\"],[0.7777777777777778,\"#fb9f3a\"],[0.8888888888888888,\"#fdca26\"],[1.0,\"#f0f921\"]],\"type\":\"heatmap\"}],\"histogram2dcontour\":[{\"colorbar\":{\"outlinewidth\":0,\"ticks\":\"\"},\"colorscale\":[[0.0,\"#0d0887\"],[0.1111111111111111,\"#46039f\"],[0.2222222222222222,\"#7201a8\"],[0.3333333333333333,\"#9c179e\"],[0.4444444444444444,\"#bd3786\"],[0.5555555555555556,\"#d8576b\"],[0.6666666666666666,\"#ed7953\"],[0.7777777777777778,\"#fb9f3a\"],[0.8888888888888888,\"#fdca26\"],[1.0,\"#f0f921\"]],\"type\":\"histogram2dcontour\"}],\"histogram2d\":[{\"colorbar\":{\"outlinewidth\":0,\"ticks\":\"\"},\"colorscale\":[[0.0,\"#0d0887\"],[0.1111111111111111,\"#46039f\"],[0.2222222222222222,\"#7201a8\"],[0.3333333333333333,\"#9c179e\"],[0.4444444444444444,\"#bd3786\"],[0.5555555555555556,\"#d8576b\"],[0.6666666666666666,\"#ed7953\"],[0.7777777777777778,\"#fb9f3a\"],[0.8888888888888888,\"#fdca26\"],[1.0,\"#f0f921\"]],\"type\":\"histogram2d\"}],\"histogram\":[{\"marker\":{\"pattern\":{\"fillmode\":\"overlay\",\"size\":10,\"solidity\":0.2}},\"type\":\"histogram\"}],\"mesh3d\":[{\"colorbar\":{\"outlinewidth\":0,\"ticks\":\"\"},\"type\":\"mesh3d\"}],\"parcoords\":[{\"line\":{\"colorbar\":{\"outlinewidth\":0,\"ticks\":\"\"}},\"type\":\"parcoords\"}],\"pie\":[{\"automargin\":true,\"type\":\"pie\"}],\"scatter3d\":[{\"line\":{\"colorbar\":{\"outlinewidth\":0,\"ticks\":\"\"}},\"marker\":{\"colorbar\":{\"outlinewidth\":0,\"ticks\":\"\"}},\"type\":\"scatter3d\"}],\"scattercarpet\":[{\"marker\":{\"colorbar\":{\"outlinewidth\":0,\"ticks\":\"\"}},\"type\":\"scattercarpet\"}],\"scattergeo\":[{\"marker\":{\"colorbar\":{\"outlinewidth\":0,\"ticks\":\"\"}},\"type\":\"scattergeo\"}],\"scattergl\":[{\"marker\":{\"colorbar\":{\"outlinewidth\":0,\"ticks\":\"\"}},\"type\":\"scattergl\"}],\"scattermapbox\":[{\"marker\":{\"colorbar\":{\"outlinewidth\":0,\"ticks\":\"\"}},\"type\":\"scattermapbox\"}],\"scatterpolargl\":[{\"marker\":{\"colorbar\":{\"outlinewidth\":0,\"ticks\":\"\"}},\"type\":\"scatterpolargl\"}],\"scatterpolar\":[{\"marker\":{\"colorbar\":{\"outlinewidth\":0,\"ticks\":\"\"}},\"type\":\"scatterpolar\"}],\"scatter\":[{\"marker\":{\"colorbar\":{\"outlinewidth\":0,\"ticks\":\"\"}},\"type\":\"scatter\"}],\"scatterternary\":[{\"marker\":{\"colorbar\":{\"outlinewidth\":0,\"ticks\":\"\"}},\"type\":\"scatterternary\"}],\"surface\":[{\"colorbar\":{\"outlinewidth\":0,\"ticks\":\"\"},\"colorscale\":[[0.0,\"#0d0887\"],[0.1111111111111111,\"#46039f\"],[0.2222222222222222,\"#7201a8\"],[0.3333333333333333,\"#9c179e\"],[0.4444444444444444,\"#bd3786\"],[0.5555555555555556,\"#d8576b\"],[0.6666666666666666,\"#ed7953\"],[0.7777777777777778,\"#fb9f3a\"],[0.8888888888888888,\"#fdca26\"],[1.0,\"#f0f921\"]],\"type\":\"surface\"}],\"table\":[{\"cells\":{\"fill\":{\"color\":\"#EBF0F8\"},\"line\":{\"color\":\"white\"}},\"header\":{\"fill\":{\"color\":\"#C8D4E3\"},\"line\":{\"color\":\"white\"}},\"type\":\"table\"}]},\"layout\":{\"annotationdefaults\":{\"arrowcolor\":\"#2a3f5f\",\"arrowhead\":0,\"arrowwidth\":1},\"autotypenumbers\":\"strict\",\"coloraxis\":{\"colorbar\":{\"outlinewidth\":0,\"ticks\":\"\"}},\"colorscale\":{\"diverging\":[[0,\"#8e0152\"],[0.1,\"#c51b7d\"],[0.2,\"#de77ae\"],[0.3,\"#f1b6da\"],[0.4,\"#fde0ef\"],[0.5,\"#f7f7f7\"],[0.6,\"#e6f5d0\"],[0.7,\"#b8e186\"],[0.8,\"#7fbc41\"],[0.9,\"#4d9221\"],[1,\"#276419\"]],\"sequential\":[[0.0,\"#0d0887\"],[0.1111111111111111,\"#46039f\"],[0.2222222222222222,\"#7201a8\"],[0.3333333333333333,\"#9c179e\"],[0.4444444444444444,\"#bd3786\"],[0.5555555555555556,\"#d8576b\"],[0.6666666666666666,\"#ed7953\"],[0.7777777777777778,\"#fb9f3a\"],[0.8888888888888888,\"#fdca26\"],[1.0,\"#f0f921\"]],\"sequentialminus\":[[0.0,\"#0d0887\"],[0.1111111111111111,\"#46039f\"],[0.2222222222222222,\"#7201a8\"],[0.3333333333333333,\"#9c179e\"],[0.4444444444444444,\"#bd3786\"],[0.5555555555555556,\"#d8576b\"],[0.6666666666666666,\"#ed7953\"],[0.7777777777777778,\"#fb9f3a\"],[0.8888888888888888,\"#fdca26\"],[1.0,\"#f0f921\"]]},\"colorway\":[\"#636efa\",\"#EF553B\",\"#00cc96\",\"#ab63fa\",\"#FFA15A\",\"#19d3f3\",\"#FF6692\",\"#B6E880\",\"#FF97FF\",\"#FECB52\"],\"font\":{\"color\":\"#2a3f5f\"},\"geo\":{\"bgcolor\":\"white\",\"lakecolor\":\"white\",\"landcolor\":\"#E5ECF6\",\"showlakes\":true,\"showland\":true,\"subunitcolor\":\"white\"},\"hoverlabel\":{\"align\":\"left\"},\"hovermode\":\"closest\",\"mapbox\":{\"style\":\"light\"},\"paper_bgcolor\":\"white\",\"plot_bgcolor\":\"#E5ECF6\",\"polar\":{\"angularaxis\":{\"gridcolor\":\"white\",\"linecolor\":\"white\",\"ticks\":\"\"},\"bgcolor\":\"#E5ECF6\",\"radialaxis\":{\"gridcolor\":\"white\",\"linecolor\":\"white\",\"ticks\":\"\"}},\"scene\":{\"xaxis\":{\"backgroundcolor\":\"#E5ECF6\",\"gridcolor\":\"white\",\"gridwidth\":2,\"linecolor\":\"white\",\"showbackground\":true,\"ticks\":\"\",\"zerolinecolor\":\"white\"},\"yaxis\":{\"backgroundcolor\":\"#E5ECF6\",\"gridcolor\":\"white\",\"gridwidth\":2,\"linecolor\":\"white\",\"showbackground\":true,\"ticks\":\"\",\"zerolinecolor\":\"white\"},\"zaxis\":{\"backgroundcolor\":\"#E5ECF6\",\"gridcolor\":\"white\",\"gridwidth\":2,\"linecolor\":\"white\",\"showbackground\":true,\"ticks\":\"\",\"zerolinecolor\":\"white\"}},\"shapedefaults\":{\"line\":{\"color\":\"#2a3f5f\"}},\"ternary\":{\"aaxis\":{\"gridcolor\":\"white\",\"linecolor\":\"white\",\"ticks\":\"\"},\"baxis\":{\"gridcolor\":\"white\",\"linecolor\":\"white\",\"ticks\":\"\"},\"bgcolor\":\"#E5ECF6\",\"caxis\":{\"gridcolor\":\"white\",\"linecolor\":\"white\",\"ticks\":\"\"}},\"title\":{\"x\":0.05},\"xaxis\":{\"automargin\":true,\"gridcolor\":\"white\",\"linecolor\":\"white\",\"ticks\":\"\",\"title\":{\"standoff\":15},\"zerolinecolor\":\"white\",\"zerolinewidth\":2},\"yaxis\":{\"automargin\":true,\"gridcolor\":\"white\",\"linecolor\":\"white\",\"ticks\":\"\",\"title\":{\"standoff\":15},\"zerolinecolor\":\"white\",\"zerolinewidth\":2}}}},                        {\"responsive\": true}                    ).then(function(){\n",
              "                            \n",
              "var gd = document.getElementById('690f1030-d0f2-4c0b-86b3-17936596746e');\n",
              "var x = new MutationObserver(function (mutations, observer) {{\n",
              "        var display = window.getComputedStyle(gd).display;\n",
              "        if (!display || display === 'none') {{\n",
              "            console.log([gd, 'removed!']);\n",
              "            Plotly.purge(gd);\n",
              "            observer.disconnect();\n",
              "        }}\n",
              "}});\n",
              "\n",
              "// Listen for the removal of the full notebook cells\n",
              "var notebookContainer = gd.closest('#notebook-container');\n",
              "if (notebookContainer) {{\n",
              "    x.observe(notebookContainer, {childList: true});\n",
              "}}\n",
              "\n",
              "// Listen for the clearing of the current output cell\n",
              "var outputEl = gd.closest('.output');\n",
              "if (outputEl) {{\n",
              "    x.observe(outputEl, {childList: true});\n",
              "}}\n",
              "\n",
              "                        })                };                            </script>        </div>\n",
              "</body>\n",
              "</html>"
            ]
          },
          "metadata": {}
        }
      ]
    },
    {
      "cell_type": "code",
      "source": [
        "model.save('saved_model')"
      ],
      "metadata": {
        "id": "gFE2z72dBzeZ"
      },
      "execution_count": 32,
      "outputs": []
    },
    {
      "cell_type": "code",
      "source": [],
      "metadata": {
        "id": "3NoA9JttDKH2"
      },
      "execution_count": null,
      "outputs": []
    }
  ]
}