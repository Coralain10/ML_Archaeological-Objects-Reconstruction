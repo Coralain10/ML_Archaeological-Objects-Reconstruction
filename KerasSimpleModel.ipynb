{
  "nbformat": 4,
  "nbformat_minor": 0,
  "metadata": {
    "colab": {
      "provenance": [],
      "authorship_tag": "ABX9TyPyAl2hyxg1quyKdOCI+1bm",
      "include_colab_link": true
    },
    "kernelspec": {
      "name": "python3",
      "display_name": "Python 3"
    },
    "language_info": {
      "name": "python"
    }
  },
  "cells": [
    {
      "cell_type": "markdown",
      "metadata": {
        "id": "view-in-github",
        "colab_type": "text"
      },
      "source": [
        "<a href=\"https://colab.research.google.com/github/Coralain10/ML_Archaeological-Objects-Reconstruction/blob/main/KerasSimpleModel.ipynb\" target=\"_parent\"><img src=\"https://colab.research.google.com/assets/colab-badge.svg\" alt=\"Open In Colab\"/></a>"
      ]
    },
    {
      "cell_type": "code",
      "execution_count": 57,
      "metadata": {
        "id": "Fm7okTdwCH1j"
      },
      "outputs": [],
      "source": [
        "import numpy as np\n",
        "from tensorflow import keras\n",
        "from tensorflow.keras import regularizers\n",
        "from tensorflow.keras import Sequential\n",
        "from tensorflow.keras.layers import Flatten, Dense, Dropout, LSTM\n",
        "from sklearn.model_selection import train_test_split\n",
        "import tensorflow as tf\n",
        "from tensorflow.keras import layers\n",
        "import plotly.graph_objs as go\n",
        "from plotly.offline import init_notebook_mode, iplot\n",
        "import math"
      ]
    },
    {
      "cell_type": "code",
      "source": [
        "!gdown 1AIQPe2G6ZHPwZLmo19-ewbqCNT7TDfYE"
      ],
      "metadata": {
        "colab": {
          "base_uri": "https://localhost:8080/"
        },
        "id": "cqRi_uQMa7yq",
        "outputId": "bbc61c62-b83f-4fdb-f53e-3d5986f3379b"
      },
      "execution_count": 58,
      "outputs": [
        {
          "output_type": "stream",
          "name": "stdout",
          "text": [
            "Downloading...\n",
            "From: https://drive.google.com/uc?id=1AIQPe2G6ZHPwZLmo19-ewbqCNT7TDfYE\n",
            "To: /content/FullAndFracture.npy\n",
            "100% 466M/466M [00:02<00:00, 168MB/s]\n"
          ]
        }
      ]
    },
    {
      "cell_type": "code",
      "source": [
        "!gdown 1U589karMjF_k4nsWe5Rb8SXTp1YajhN9"
      ],
      "metadata": {
        "id": "tKrNZvQHdweJ",
        "outputId": "f4137563-65dc-433a-9abd-185569ef48c6",
        "colab": {
          "base_uri": "https://localhost:8080/"
        }
      },
      "execution_count": 59,
      "outputs": [
        {
          "output_type": "stream",
          "name": "stdout",
          "text": [
            "Downloading...\n",
            "From: https://drive.google.com/uc?id=1U589karMjF_k4nsWe5Rb8SXTp1YajhN9\n",
            "To: /content/model.zip\n",
            "100% 466M/466M [00:05<00:00, 81.4MB/s]\n"
          ]
        }
      ]
    },
    {
      "cell_type": "code",
      "source": [
        "!unzip model.zip"
      ],
      "metadata": {
        "id": "lTEa7pFpdz0B",
        "outputId": "8cdeb0b1-7b23-424a-ba71-27b5f5f46355",
        "colab": {
          "base_uri": "https://localhost:8080/"
        }
      },
      "execution_count": 60,
      "outputs": [
        {
          "output_type": "stream",
          "name": "stdout",
          "text": [
            "Archive:  model.zip\n",
            "replace content/saved_model/keras_metadata.pb? [y]es, [n]o, [A]ll, [N]one, [r]ename: N\n"
          ]
        }
      ]
    },
    {
      "cell_type": "code",
      "source": [
        "!gdown 1izkjM3BLA5_WYrImCSZ3RpH8Th1NQfkp"
      ],
      "metadata": {
        "colab": {
          "base_uri": "https://localhost:8080/"
        },
        "id": "F2fDT1XrltbY",
        "outputId": "06beb0a7-1ab7-4642-bde2-4b9f34b4d63e"
      },
      "execution_count": 61,
      "outputs": [
        {
          "output_type": "stream",
          "name": "stdout",
          "text": [
            "Downloading...\n",
            "From: https://drive.google.com/uc?id=1izkjM3BLA5_WYrImCSZ3RpH8Th1NQfkp\n",
            "To: /content/broken_chair.npy\n",
            "\r  0% 0.00/32.9k [00:00<?, ?B/s]\r100% 32.9k/32.9k [00:00<00:00, 18.1MB/s]\n"
          ]
        }
      ]
    },
    {
      "cell_type": "code",
      "source": [
        "data = np.load('FullAndFracture.npy', allow_pickle=True)"
      ],
      "metadata": {
        "id": "FOS1_5gGa8z9"
      },
      "execution_count": 62,
      "outputs": []
    },
    {
      "cell_type": "code",
      "source": [
        "data = np.array(data, dtype = np.int32)"
      ],
      "metadata": {
        "id": "qoICYp9Kk68q"
      },
      "execution_count": 63,
      "outputs": []
    },
    {
      "cell_type": "code",
      "source": [
        "X = data[1]\n",
        "Y = data[0]"
      ],
      "metadata": {
        "id": "E7Sf7KJ0bL3I"
      },
      "execution_count": 64,
      "outputs": []
    },
    {
      "cell_type": "code",
      "source": [
        "lx = X.shape[0]\n",
        "ly = Y.shape[0]"
      ],
      "metadata": {
        "id": "4DGJTwPMeCJ3"
      },
      "execution_count": 65,
      "outputs": []
    },
    {
      "cell_type": "code",
      "source": [
        "X = list(X)\n",
        "Y = list(Y)"
      ],
      "metadata": {
        "id": "q1DG_stUek3X"
      },
      "execution_count": 66,
      "outputs": []
    },
    {
      "cell_type": "code",
      "source": [
        "for i in range(lx):\n",
        "  X[i] = X[i].flatten()\n",
        "for i in range(ly):\n",
        "  Y[i] = Y[i].flatten()"
      ],
      "metadata": {
        "id": "hU3-lPj2eMo7"
      },
      "execution_count": 67,
      "outputs": []
    },
    {
      "cell_type": "code",
      "source": [
        "X, Y = np.array(X), np.array(Y)"
      ],
      "metadata": {
        "id": "VkMxMHoLfCjL"
      },
      "execution_count": 68,
      "outputs": []
    },
    {
      "cell_type": "code",
      "source": [
        "x_train, x_val, y_train, y_val = train_test_split(X, Y, train_size=0.7)"
      ],
      "metadata": {
        "id": "mtGa_9NUbOn3"
      },
      "execution_count": 69,
      "outputs": []
    },
    {
      "cell_type": "code",
      "source": [
        "print(x_train.shape, y_train.shape)\n",
        "print(x_val.shape, y_val.shape)"
      ],
      "metadata": {
        "colab": {
          "base_uri": "https://localhost:8080/"
        },
        "id": "YZLroTS_d7o1",
        "outputId": "12964f53-7e05-44f0-9a59-e7b9ab3ed8ab"
      },
      "execution_count": 70,
      "outputs": [
        {
          "output_type": "stream",
          "name": "stdout",
          "text": [
            "(4978, 32768) (4978, 32768)\n",
            "(2134, 32768) (2134, 32768)\n"
          ]
        }
      ]
    },
    {
      "cell_type": "code",
      "source": [
        "model = tf.keras.models.load_model('/content/content/saved_model')"
      ],
      "metadata": {
        "id": "8UTjrcUKwzqg"
      },
      "execution_count": 71,
      "outputs": []
    },
    {
      "cell_type": "code",
      "source": [
        "prediction = model.predict(x_val)"
      ],
      "metadata": {
        "colab": {
          "base_uri": "https://localhost:8080/"
        },
        "id": "apDSp-MdbZRh",
        "outputId": "386b46cf-8b2d-4695-c24b-3e1e27fffd23"
      },
      "execution_count": 72,
      "outputs": [
        {
          "output_type": "stream",
          "name": "stdout",
          "text": [
            "67/67 [==============================] - 7s 100ms/step\n"
          ]
        }
      ]
    },
    {
      "cell_type": "code",
      "source": [
        "prediction = np.around(prediction)\n",
        "prediction = np.array(prediction, dtype = np.int32)"
      ],
      "metadata": {
        "id": "UvGGcEU03biL"
      },
      "execution_count": 73,
      "outputs": []
    },
    {
      "cell_type": "code",
      "source": [
        "patches = []\n",
        "for i in range(10):\n",
        "  patch = []\n",
        "  for j in range(32768):\n",
        "    if prediction[i][j] == x_val[i][j]:\n",
        "      patch.append(0)\n",
        "    else:\n",
        "      patch.append(1)\n",
        "  patches.append(patch)\n",
        "patches = np.array(patches)"
      ],
      "metadata": {
        "id": "pe1zjYdkB5Kz"
      },
      "execution_count": 74,
      "outputs": []
    },
    {
      "cell_type": "code",
      "source": [
        "def plot3d(verts, s=10, c=(105,127,155), show_grid=False):\n",
        "    x, y, z = zip(*verts)\n",
        "    color = f'rgb({c[0]}, {c[1]}, {c[2]})'\n",
        "    trace = go.Scatter3d(\n",
        "        x=x, y=y, z=z,\n",
        "        mode='markers',\n",
        "        marker=dict(\n",
        "            size=s,\n",
        "            color=color,\n",
        "            line=dict(\n",
        "                color='rgba(217, 217, 217, 0.14)',\n",
        "                width=0.5\n",
        "            ),\n",
        "            opacity=1\n",
        "        )\n",
        "    )\n",
        "    data = [trace]\n",
        "    layout = go.Layout(\n",
        "        margin=dict(l=0, r=0, b=0, t=0),\n",
        "        scene = go.Scene(\n",
        "            xaxis=dict(visible=show_grid),\n",
        "            yaxis=dict(visible=show_grid),\n",
        "            zaxis=dict(visible=show_grid)\n",
        "        )\n",
        "    )\n",
        "    fig = go.Figure(data=data, layout=layout)\n",
        "    iplot(fig)"
      ],
      "metadata": {
        "id": "azH50cziqTny"
      },
      "execution_count": 75,
      "outputs": []
    },
    {
      "cell_type": "code",
      "source": [
        "def point_cloud_to_volume(points, vsize, radius=1.0):\n",
        "    vol = np.zeros((vsize,vsize,vsize), dtype=np.bool)\n",
        "    voxel = 2*radius/float(vsize)\n",
        "    locations = (points + radius)/voxel\n",
        "    locations = locations.astype(int)\n",
        "    vol[locations[:,0],locations[:,1],locations[:,2]] = 1.0\n",
        "    \n",
        "    return vol"
      ],
      "metadata": {
        "id": "_XkGP2oNqSAw"
      },
      "execution_count": 76,
      "outputs": []
    },
    {
      "cell_type": "code",
      "source": [
        "def volume_to_point_cloud(vol):\n",
        "    \"\"\" vol is occupancy grid (value = 0 or 1) of size vsize*vsize*vsize\n",
        "        return Nx3 numpy array.\n",
        "    \"\"\"\n",
        "    vsize = vol.shape[0]\n",
        "    assert(vol.shape[1] == vsize and vol.shape[1] == vsize)\n",
        "    points = []\n",
        "    for a in range(vsize):\n",
        "        for b in range(vsize):\n",
        "            for c in range(vsize):\n",
        "                if vol[a,b,c] == 1:\n",
        "                    points.append(np.array([a,b,c]))\n",
        "    if len(points) == 0:\n",
        "        return np.zeros((0,3))\n",
        "    points = np.vstack(points)\n",
        "    \n",
        "    return points\n",
        "\n",
        "def auto_pcl_to_volume(points, vsize):\n",
        "\tdata_min = np.min(points)\n",
        "\tdata_max = np.max(points)\n",
        "\tradius = max(abs(data_min), data_max)\n",
        "\tradius = math.ceil(radius*100) / 100\n",
        "\tvol = point_cloud_to_volume(points, vsize, radius)\n",
        "\n",
        "\treturn vol"
      ],
      "metadata": {
        "id": "JKs1A31PqQCT"
      },
      "execution_count": 77,
      "outputs": []
    },
    {
      "cell_type": "code",
      "source": [
        "def plot_vol(vol, s=10, c=(105,127,155), show_grid=False):\n",
        "    if vol.dtype != np.bool:\n",
        "        vol = vol > 0\n",
        "\n",
        "    pc = volume_to_point_cloud(vol)\n",
        "    plot3d(pc, s, c, show_grid)"
      ],
      "metadata": {
        "id": "jXJ9_w2cqLYR"
      },
      "execution_count": 78,
      "outputs": []
    },
    {
      "cell_type": "code",
      "source": [
        "def plot_reconstruction(vol1, vol2, s=10,\n",
        "                        c2=(105,128,155), c1=(182,49,62), show_grid=False):\n",
        "    if vol1.dtype != np.bool:\n",
        "        vol1 = vol1 > 0\n",
        "    if vol2.dtype != np.bool:\n",
        "        vol2 = vol2 > 0\n",
        "        \n",
        "    color1 = f'rgb({c1[0]}, {c1[1]}, {c1[2]})'\n",
        "    color2 = f'rgb({c2[0]}, {c2[1]}, {c2[2]})'\n",
        "    vol2 = np.logical_xor(vol2, vol1)\n",
        "    pc1 = volume_to_point_cloud(vol1)\n",
        "    pc2 = volume_to_point_cloud(vol2)\n",
        "    x1, y1, z1 = zip(*pc1)\n",
        "    x2, y2, z2 = zip(*pc2)\n",
        "    trace1 = go.Scatter3d(\n",
        "        x=x1, y=y1, z=z1,\n",
        "        mode='markers',\n",
        "        marker=dict(\n",
        "            size=s,\n",
        "            color=color1,\n",
        "            line=dict(\n",
        "                color='rgba(217, 217, 217, 0.14)',\n",
        "                width=0.5\n",
        "            ),\n",
        "            opacity=1\n",
        "        )\n",
        "    )\n",
        "    trace2 = go.Scatter3d(\n",
        "        x=x2, y=y2, z=z2,\n",
        "        mode='markers',\n",
        "        marker=dict(\n",
        "            size=s,\n",
        "            color=color2,\n",
        "            line=dict(\n",
        "                color='rgba(217, 217, 217, 0.14)',\n",
        "                width=0.5\n",
        "            ),\n",
        "            opacity=1\n",
        "        )\n",
        "    )\n",
        "    data = [trace1, trace2]\n",
        "    layout = go.Layout(margin=dict(l=0, r=0, b=0, t=0), \n",
        "                       scene = go.Scene(\n",
        "                               xaxis=dict(visible=show_grid),\n",
        "                               yaxis=dict(visible=show_grid),\n",
        "                               zaxis=dict(visible=show_grid)),\n",
        "                       showlegend=False)\n",
        "    fig = go.Figure(data=data, layout=layout)\n",
        "    iplot(fig)"
      ],
      "metadata": {
        "id": "qi2oJFv9f71H"
      },
      "execution_count": 79,
      "outputs": []
    },
    {
      "cell_type": "code",
      "source": [
        "x_val = np.reshape(x_val, (2134, 32, 32, 32))\n",
        "prediction = np.reshape(prediction, (2134, 32, 32, 32))"
      ],
      "metadata": {
        "id": "_pyPqxQoioGE"
      },
      "execution_count": 80,
      "outputs": []
    },
    {
      "cell_type": "code",
      "source": [
        "plot_vol(x_val[200])"
      ],
      "metadata": {
        "id": "BFErmR6Bi3kS",
        "outputId": "e0aa3e1c-a1f7-4730-9ba0-09870c6cb208",
        "colab": {
          "base_uri": "https://localhost:8080/",
          "height": 629
        }
      },
      "execution_count": 81,
      "outputs": [
        {
          "output_type": "stream",
          "name": "stderr",
          "text": [
            "/usr/local/lib/python3.7/dist-packages/ipykernel_launcher.py:2: DeprecationWarning:\n",
            "\n",
            "`np.bool` is a deprecated alias for the builtin `bool`. To silence this warning, use `bool` by itself. Doing this will not modify any behavior and is safe. If you specifically wanted the numpy scalar type, use `np.bool_` here.\n",
            "Deprecated in NumPy 1.20; for more details and guidance: https://numpy.org/devdocs/release/1.20.0-notes.html#deprecations\n",
            "\n"
          ]
        },
        {
          "output_type": "display_data",
          "data": {
            "text/html": [
              "<html>\n",
              "<head><meta charset=\"utf-8\" /></head>\n",
              "<body>\n",
              "    <div>            <script src=\"https://cdnjs.cloudflare.com/ajax/libs/mathjax/2.7.5/MathJax.js?config=TeX-AMS-MML_SVG\"></script><script type=\"text/javascript\">if (window.MathJax) {MathJax.Hub.Config({SVG: {font: \"STIX-Web\"}});}</script>                <script type=\"text/javascript\">window.PlotlyConfig = {MathJaxConfig: 'local'};</script>\n",
              "        <script src=\"https://cdn.plot.ly/plotly-2.8.3.min.js\"></script>                <div id=\"469c64be-409f-49f3-aab6-f763c4a45d2a\" class=\"plotly-graph-div\" style=\"height:525px; width:100%;\"></div>            <script type=\"text/javascript\">                                    window.PLOTLYENV=window.PLOTLYENV || {};                                    if (document.getElementById(\"469c64be-409f-49f3-aab6-f763c4a45d2a\")) {                    Plotly.newPlot(                        \"469c64be-409f-49f3-aab6-f763c4a45d2a\",                        [{\"marker\":{\"color\":\"rgb(105, 127, 155)\",\"line\":{\"color\":\"rgba(217, 217, 217, 0.14)\",\"width\":0.5},\"opacity\":1,\"size\":10},\"mode\":\"markers\",\"x\":[10,10,10,10,10,10,10,10,10,10,10,10,10,10,10,10,10,10,10,10,10,10,10,10,10,10,10,10,10,10,10,10,10,10,10,10,10,10,10,10,10,10,10,10,10,10,10,10,10,10,10,10,10,10,10,10,10,10,10,10,10,10,10,10,10,10,10,10,10,10,11,11,11,11,11,11,11,11,11,11,11,11,11,11,11,11,11,11,11,11,11,11,11,11,11,11,11,11,11,11,11,11,11,11,11,11,11,11,11,11,11,11,11,11,11,11,11,11,11,11,11,11,11,11,11,11,11,11,11,11,11,11,11,11,11,11,11,11,11,11,11,11,11,11,11,11,11,11,11,11,11,11,11,11,11,11,11,11,11,11,11,11,11,11,11,11,11,11,11,11,11,11,11,11,11,11,11,11,11,11,11,11,11,11,11,11,11,11,11,11,11,11,11,11,11,11,11,11,12,12,12,12,12,12,12,12,12,12,12,12,12,12,12,12,12,12,12,12,12,12,12,12,12,12,12,12,12,12,12,12,12,12,12,12,12,12,12,12,12,12,12,12,12,12,12,12,12,12,12,12,12,12,12,12,12,12,12,12,12,12,12,12,12,12,12,12,12,12,12,12,12,12,12,12,13,13,13,13,13,13,13,13,13,13,13,13,13,13,13,13,13,13,13,13,13,13,13,13,13,13,13,13,13,13,13,13,13,13,13,13,13,13,13,13,13,13,13,13,13,13,13,13,13,13,14,14,14,14,14,14,14,14,14,14,14,14,14,14,14,14,14,14,14,14,14,14,14,14,14,14,14,14,14,14,14,14,14,14,14,14,14,14,14,14,14,14,14,14,14,14,14,14,14,14,14,15,15,15,15,15,15,15,15,15,15,15,15,15,15,15,15,15,15,15,15,15,15,15,15,15,15,15,15,15,15,15,15,15,15,15,15,15,15,15,15,15,15,15,15,15,15,15,15,15,15,15,15,15,15,16,16,16,16,16,16,16,16,16,16,16,16,16,16,16,16,16,16,16,16,16,16,16,16,16,16,16,16,16,16,16,16,16,16,16,16,16,16,16,16,16,16,16,16,16,16,16,16,16,16,16,16,16,16,16,16,16,16,16,16,16,16,16,16,16,16,16,16,16,16,16,17,17,17,17,17,17,17,17,17,17,17,17,17,17,17,17,17,17,17,17,17,17,17,17,17,17,17,17,17,17,17,17,17,17,17,17,17,17,17,17,17,17,17,17,17,17,17,17,17,17,17,17,17,17,17,17,17,17,17,17,17,17,17,17,17,17,17,18,18,18,18,18,18,18,18,18,18,18,18,18,18,18,18,18,18,18,18,18,18,18,18,18,18,18,18,18,18,18,18,18,18,18,18,18,18,18,18,18,18,18,18,18,18,18,18,18,18,18,18,18,18,18,18,18,18,18,18,18,18,18,18,18,19,19,19,19,19,19,19,19,19,19,19,19,19,19,19,19,19,19,19,19,19,19,19,19,19,19,19,19,19,19,19,19,19,19,19,19,19,19,19,19,19,19,19,19,19,19,19,19,19,19,19,19,19,19,19,19,19,19,19,19,19,19,19,19,19,19,19,19,19,19,19,19,19,19,19,19,19,19,19,19,19,19,19,19,19,19,19,19,19,20,20,20,20,20,20,20,20,20,20,20,20,20,20,20,20,20,20,20,20,20,20,20,20,20,20,20,20,20,20,20,20,20,20,20,20,20,20,20,20,20,20,20,20,20,20,20,20,20,20,20,20,20,20,20,20,20,20,20,20,20,20,20,20,20,20,20,20,20,20,20,20,20,20,20,20,20,20,20,20,20,20,20,20,20,20,20,20,20,20,20,20,20,20,20,20,20,20,20,20,20,20,20,20,20,20,20,20,20,20,20,20,20,20,20,20,20,20,20,20,20,20,20,20,20,20,21,21,21,21,21,21,21,21,21,21,21,21,21,21,21,21,21,21,21,21,21,21,21,21,21,21,21,21,21,21,21,21,21,21,21,21,21,21,21,21,21,21,21],\"y\":[8,8,8,8,8,8,8,8,8,8,8,8,8,8,8,8,8,9,9,9,9,9,9,9,9,9,9,9,9,9,9,9,9,9,10,10,10,10,10,11,11,11,11,11,12,12,12,12,12,13,13,13,13,13,14,14,14,14,15,15,15,15,16,16,16,16,17,17,17,17,8,8,8,8,8,8,8,8,8,8,8,8,8,8,8,8,8,9,9,9,9,9,9,9,9,9,9,9,9,9,9,10,10,11,11,11,11,11,12,12,12,12,12,13,13,13,13,13,14,14,14,14,14,15,15,15,15,15,16,16,16,16,16,17,17,17,17,17,18,18,18,18,18,18,18,18,18,18,18,19,19,19,19,19,19,19,19,19,19,19,19,19,19,19,19,19,19,19,19,19,20,20,20,20,20,20,20,20,20,20,20,20,20,20,20,20,20,20,21,21,21,21,21,21,21,21,22,22,8,8,8,8,8,9,9,10,10,11,11,12,12,13,13,14,14,15,15,16,16,17,17,17,17,18,18,18,18,18,18,18,19,19,19,19,19,19,19,19,19,19,19,19,19,19,19,19,19,19,19,19,20,20,20,20,20,20,20,20,20,20,20,20,20,20,20,21,21,21,21,21,21,21,22,22,8,8,8,8,8,9,9,10,10,11,11,12,12,13,13,14,14,15,15,16,16,17,17,17,17,18,18,18,18,18,19,19,19,19,19,19,19,19,19,20,20,20,20,20,21,21,21,21,21,22,8,8,8,8,8,9,9,10,10,11,11,12,12,13,13,14,14,15,15,16,16,17,17,17,17,18,18,18,18,18,19,19,19,19,19,19,19,19,19,20,20,20,20,20,21,21,21,21,21,22,22,8,8,8,8,8,9,9,10,10,11,11,12,12,13,13,14,14,15,15,16,16,17,17,17,17,18,18,18,18,18,18,18,19,19,19,19,19,19,19,19,19,20,20,20,20,20,20,21,21,21,21,21,22,22,8,8,8,8,8,9,9,10,10,11,11,12,12,13,13,14,14,15,15,16,16,17,17,17,17,18,18,18,18,18,18,18,18,18,18,19,19,19,19,19,19,19,19,19,19,19,20,20,20,20,20,20,20,20,20,20,21,21,21,21,21,21,21,21,22,22,22,22,22,23,23,8,8,8,9,10,11,11,12,12,13,13,14,14,15,15,16,16,17,17,17,17,18,18,18,18,18,18,18,18,18,18,19,19,19,19,19,19,19,19,19,19,19,20,20,20,20,20,20,20,20,20,20,21,21,21,21,21,21,21,21,22,22,22,22,22,23,23,8,8,9,10,11,12,12,13,13,14,14,15,15,16,16,17,17,17,17,18,18,18,18,18,18,18,18,18,18,19,19,19,19,19,19,19,19,19,19,19,20,20,20,20,20,20,20,20,20,20,21,21,21,21,21,21,21,21,22,22,22,22,22,23,23,8,8,9,10,11,12,13,13,14,14,15,15,16,16,17,17,17,17,18,18,18,18,18,18,18,18,18,18,18,18,19,19,19,19,19,19,19,19,19,19,19,19,19,19,19,19,19,19,19,19,19,19,20,20,20,20,20,20,20,20,20,20,20,20,20,20,20,20,20,20,20,20,21,21,21,21,21,21,21,21,21,21,22,22,22,22,22,23,23,8,8,8,8,8,8,8,8,9,9,9,9,9,9,9,10,11,12,12,12,12,13,13,13,13,13,14,14,14,14,14,15,15,15,15,15,16,16,16,16,16,17,17,17,17,17,18,18,18,18,18,18,18,18,18,18,18,18,18,18,19,19,19,19,19,19,19,19,19,19,19,19,19,19,19,19,19,19,19,19,19,19,19,19,19,19,20,20,20,20,20,20,20,20,20,20,20,20,20,20,20,20,20,20,20,20,20,20,21,21,21,21,21,21,21,21,21,21,21,22,22,22,22,22,23,23,8,8,8,8,8,8,8,9,9,9,9,9,9,9,9,10,10,11,11,12,12,12,13,13,13,13,13,14,14,14,14,15,15,15,15,16,16,16,16,17,17,17,17],\"z\":[0,1,2,3,4,5,6,7,8,9,10,11,12,13,14,15,16,0,1,2,3,4,5,6,7,8,9,10,11,12,13,14,15,16,12,13,14,15,16,12,13,14,15,16,12,13,14,15,16,12,13,14,15,16,12,13,14,15,12,13,14,15,12,13,14,15,12,13,14,15,0,1,2,3,4,5,6,7,8,9,10,11,12,13,14,15,16,0,1,2,3,4,5,6,7,8,9,10,11,12,16,12,16,12,13,14,15,16,12,13,14,15,16,12,13,14,15,16,12,13,14,15,16,12,13,14,15,16,12,13,14,15,16,12,13,14,15,16,10,11,12,13,14,15,16,17,21,22,23,1,2,3,4,5,6,7,8,9,10,11,12,13,14,15,16,22,23,24,25,26,0,1,2,3,4,5,6,7,8,9,22,23,24,25,26,27,28,29,0,1,23,24,25,26,27,28,27,28,12,13,14,15,16,12,16,12,16,12,16,12,16,12,16,12,16,12,16,12,16,12,14,15,16,10,11,12,14,16,22,23,1,2,3,4,5,6,7,8,9,10,11,12,13,14,15,16,23,24,25,26,0,1,2,3,4,5,6,7,8,9,22,23,26,27,28,0,1,23,24,25,26,27,27,28,12,13,14,15,16,12,16,12,16,12,16,12,16,12,16,12,16,12,16,12,16,12,14,15,16,12,14,16,22,23,12,13,14,15,16,23,24,25,26,22,23,26,27,28,23,24,25,26,27,27,12,13,14,15,16,12,16,12,16,12,16,12,16,12,16,12,16,12,16,12,16,12,14,15,16,12,14,16,22,23,12,13,14,15,16,23,24,25,26,22,23,26,27,28,23,24,25,26,27,27,28,12,13,14,15,16,12,16,12,16,12,16,12,16,12,16,12,16,12,16,12,16,12,14,15,16,12,14,16,17,21,22,23,12,13,14,15,16,23,24,25,26,22,23,26,27,28,29,23,24,25,26,27,27,28,12,13,14,15,16,12,16,12,16,12,16,12,16,12,16,12,16,12,16,12,16,12,14,15,16,12,14,16,17,18,19,20,21,22,23,12,13,14,15,16,17,18,23,24,25,26,18,19,20,21,22,23,26,27,28,29,23,24,25,26,27,29,30,31,27,28,29,30,31,30,31,14,15,16,16,16,12,16,12,16,12,16,12,16,12,16,12,16,12,14,15,16,12,14,16,17,18,19,20,21,22,23,12,13,14,15,16,17,18,23,24,25,26,18,19,20,21,22,23,26,27,28,29,23,24,25,26,27,29,30,31,27,28,29,30,31,30,31,15,16,16,16,16,12,16,12,16,12,16,12,16,12,16,12,14,15,16,12,14,16,17,18,19,20,21,22,23,12,13,14,15,16,17,18,23,24,25,26,18,19,20,21,22,23,26,27,28,29,23,24,25,26,27,29,30,31,27,28,29,30,31,30,31,15,16,16,16,16,16,12,16,12,16,12,16,12,16,12,14,15,16,10,11,12,14,16,17,18,19,20,21,22,23,1,2,3,4,5,6,7,8,9,10,11,12,13,14,15,16,17,18,23,24,25,26,0,1,2,3,4,5,6,7,8,9,18,19,20,21,22,23,26,27,28,29,0,1,23,24,25,26,27,29,30,31,27,28,29,30,31,30,31,0,1,2,3,4,5,15,16,0,1,2,3,4,5,16,16,16,13,14,15,16,12,13,14,15,16,12,13,14,15,16,12,13,14,15,16,12,13,14,15,16,12,13,14,15,16,10,11,12,13,14,15,16,17,18,19,20,21,22,23,1,2,3,4,5,6,7,8,9,10,11,12,13,14,15,16,17,18,19,20,21,22,23,24,25,26,0,1,2,3,4,5,6,7,8,9,18,19,20,21,22,23,24,25,26,27,28,29,0,1,23,24,25,26,27,28,29,30,31,27,28,29,30,31,30,31,0,1,2,3,4,15,16,0,1,2,3,4,5,15,16,15,16,15,16,14,15,16,12,13,14,15,16,12,13,14,15,12,13,14,15,12,13,14,15,12,13,14,15],\"type\":\"scatter3d\"}],                        {\"margin\":{\"b\":0,\"l\":0,\"r\":0,\"t\":0},\"scene\":{\"xaxis\":{\"visible\":false},\"yaxis\":{\"visible\":false},\"zaxis\":{\"visible\":false}},\"template\":{\"data\":{\"barpolar\":[{\"marker\":{\"line\":{\"color\":\"#E5ECF6\",\"width\":0.5},\"pattern\":{\"fillmode\":\"overlay\",\"size\":10,\"solidity\":0.2}},\"type\":\"barpolar\"}],\"bar\":[{\"error_x\":{\"color\":\"#2a3f5f\"},\"error_y\":{\"color\":\"#2a3f5f\"},\"marker\":{\"line\":{\"color\":\"#E5ECF6\",\"width\":0.5},\"pattern\":{\"fillmode\":\"overlay\",\"size\":10,\"solidity\":0.2}},\"type\":\"bar\"}],\"carpet\":[{\"aaxis\":{\"endlinecolor\":\"#2a3f5f\",\"gridcolor\":\"white\",\"linecolor\":\"white\",\"minorgridcolor\":\"white\",\"startlinecolor\":\"#2a3f5f\"},\"baxis\":{\"endlinecolor\":\"#2a3f5f\",\"gridcolor\":\"white\",\"linecolor\":\"white\",\"minorgridcolor\":\"white\",\"startlinecolor\":\"#2a3f5f\"},\"type\":\"carpet\"}],\"choropleth\":[{\"colorbar\":{\"outlinewidth\":0,\"ticks\":\"\"},\"type\":\"choropleth\"}],\"contourcarpet\":[{\"colorbar\":{\"outlinewidth\":0,\"ticks\":\"\"},\"type\":\"contourcarpet\"}],\"contour\":[{\"colorbar\":{\"outlinewidth\":0,\"ticks\":\"\"},\"colorscale\":[[0.0,\"#0d0887\"],[0.1111111111111111,\"#46039f\"],[0.2222222222222222,\"#7201a8\"],[0.3333333333333333,\"#9c179e\"],[0.4444444444444444,\"#bd3786\"],[0.5555555555555556,\"#d8576b\"],[0.6666666666666666,\"#ed7953\"],[0.7777777777777778,\"#fb9f3a\"],[0.8888888888888888,\"#fdca26\"],[1.0,\"#f0f921\"]],\"type\":\"contour\"}],\"heatmapgl\":[{\"colorbar\":{\"outlinewidth\":0,\"ticks\":\"\"},\"colorscale\":[[0.0,\"#0d0887\"],[0.1111111111111111,\"#46039f\"],[0.2222222222222222,\"#7201a8\"],[0.3333333333333333,\"#9c179e\"],[0.4444444444444444,\"#bd3786\"],[0.5555555555555556,\"#d8576b\"],[0.6666666666666666,\"#ed7953\"],[0.7777777777777778,\"#fb9f3a\"],[0.8888888888888888,\"#fdca26\"],[1.0,\"#f0f921\"]],\"type\":\"heatmapgl\"}],\"heatmap\":[{\"colorbar\":{\"outlinewidth\":0,\"ticks\":\"\"},\"colorscale\":[[0.0,\"#0d0887\"],[0.1111111111111111,\"#46039f\"],[0.2222222222222222,\"#7201a8\"],[0.3333333333333333,\"#9c179e\"],[0.4444444444444444,\"#bd3786\"],[0.5555555555555556,\"#d8576b\"],[0.6666666666666666,\"#ed7953\"],[0.7777777777777778,\"#fb9f3a\"],[0.8888888888888888,\"#fdca26\"],[1.0,\"#f0f921\"]],\"type\":\"heatmap\"}],\"histogram2dcontour\":[{\"colorbar\":{\"outlinewidth\":0,\"ticks\":\"\"},\"colorscale\":[[0.0,\"#0d0887\"],[0.1111111111111111,\"#46039f\"],[0.2222222222222222,\"#7201a8\"],[0.3333333333333333,\"#9c179e\"],[0.4444444444444444,\"#bd3786\"],[0.5555555555555556,\"#d8576b\"],[0.6666666666666666,\"#ed7953\"],[0.7777777777777778,\"#fb9f3a\"],[0.8888888888888888,\"#fdca26\"],[1.0,\"#f0f921\"]],\"type\":\"histogram2dcontour\"}],\"histogram2d\":[{\"colorbar\":{\"outlinewidth\":0,\"ticks\":\"\"},\"colorscale\":[[0.0,\"#0d0887\"],[0.1111111111111111,\"#46039f\"],[0.2222222222222222,\"#7201a8\"],[0.3333333333333333,\"#9c179e\"],[0.4444444444444444,\"#bd3786\"],[0.5555555555555556,\"#d8576b\"],[0.6666666666666666,\"#ed7953\"],[0.7777777777777778,\"#fb9f3a\"],[0.8888888888888888,\"#fdca26\"],[1.0,\"#f0f921\"]],\"type\":\"histogram2d\"}],\"histogram\":[{\"marker\":{\"pattern\":{\"fillmode\":\"overlay\",\"size\":10,\"solidity\":0.2}},\"type\":\"histogram\"}],\"mesh3d\":[{\"colorbar\":{\"outlinewidth\":0,\"ticks\":\"\"},\"type\":\"mesh3d\"}],\"parcoords\":[{\"line\":{\"colorbar\":{\"outlinewidth\":0,\"ticks\":\"\"}},\"type\":\"parcoords\"}],\"pie\":[{\"automargin\":true,\"type\":\"pie\"}],\"scatter3d\":[{\"line\":{\"colorbar\":{\"outlinewidth\":0,\"ticks\":\"\"}},\"marker\":{\"colorbar\":{\"outlinewidth\":0,\"ticks\":\"\"}},\"type\":\"scatter3d\"}],\"scattercarpet\":[{\"marker\":{\"colorbar\":{\"outlinewidth\":0,\"ticks\":\"\"}},\"type\":\"scattercarpet\"}],\"scattergeo\":[{\"marker\":{\"colorbar\":{\"outlinewidth\":0,\"ticks\":\"\"}},\"type\":\"scattergeo\"}],\"scattergl\":[{\"marker\":{\"colorbar\":{\"outlinewidth\":0,\"ticks\":\"\"}},\"type\":\"scattergl\"}],\"scattermapbox\":[{\"marker\":{\"colorbar\":{\"outlinewidth\":0,\"ticks\":\"\"}},\"type\":\"scattermapbox\"}],\"scatterpolargl\":[{\"marker\":{\"colorbar\":{\"outlinewidth\":0,\"ticks\":\"\"}},\"type\":\"scatterpolargl\"}],\"scatterpolar\":[{\"marker\":{\"colorbar\":{\"outlinewidth\":0,\"ticks\":\"\"}},\"type\":\"scatterpolar\"}],\"scatter\":[{\"marker\":{\"colorbar\":{\"outlinewidth\":0,\"ticks\":\"\"}},\"type\":\"scatter\"}],\"scatterternary\":[{\"marker\":{\"colorbar\":{\"outlinewidth\":0,\"ticks\":\"\"}},\"type\":\"scatterternary\"}],\"surface\":[{\"colorbar\":{\"outlinewidth\":0,\"ticks\":\"\"},\"colorscale\":[[0.0,\"#0d0887\"],[0.1111111111111111,\"#46039f\"],[0.2222222222222222,\"#7201a8\"],[0.3333333333333333,\"#9c179e\"],[0.4444444444444444,\"#bd3786\"],[0.5555555555555556,\"#d8576b\"],[0.6666666666666666,\"#ed7953\"],[0.7777777777777778,\"#fb9f3a\"],[0.8888888888888888,\"#fdca26\"],[1.0,\"#f0f921\"]],\"type\":\"surface\"}],\"table\":[{\"cells\":{\"fill\":{\"color\":\"#EBF0F8\"},\"line\":{\"color\":\"white\"}},\"header\":{\"fill\":{\"color\":\"#C8D4E3\"},\"line\":{\"color\":\"white\"}},\"type\":\"table\"}]},\"layout\":{\"annotationdefaults\":{\"arrowcolor\":\"#2a3f5f\",\"arrowhead\":0,\"arrowwidth\":1},\"autotypenumbers\":\"strict\",\"coloraxis\":{\"colorbar\":{\"outlinewidth\":0,\"ticks\":\"\"}},\"colorscale\":{\"diverging\":[[0,\"#8e0152\"],[0.1,\"#c51b7d\"],[0.2,\"#de77ae\"],[0.3,\"#f1b6da\"],[0.4,\"#fde0ef\"],[0.5,\"#f7f7f7\"],[0.6,\"#e6f5d0\"],[0.7,\"#b8e186\"],[0.8,\"#7fbc41\"],[0.9,\"#4d9221\"],[1,\"#276419\"]],\"sequential\":[[0.0,\"#0d0887\"],[0.1111111111111111,\"#46039f\"],[0.2222222222222222,\"#7201a8\"],[0.3333333333333333,\"#9c179e\"],[0.4444444444444444,\"#bd3786\"],[0.5555555555555556,\"#d8576b\"],[0.6666666666666666,\"#ed7953\"],[0.7777777777777778,\"#fb9f3a\"],[0.8888888888888888,\"#fdca26\"],[1.0,\"#f0f921\"]],\"sequentialminus\":[[0.0,\"#0d0887\"],[0.1111111111111111,\"#46039f\"],[0.2222222222222222,\"#7201a8\"],[0.3333333333333333,\"#9c179e\"],[0.4444444444444444,\"#bd3786\"],[0.5555555555555556,\"#d8576b\"],[0.6666666666666666,\"#ed7953\"],[0.7777777777777778,\"#fb9f3a\"],[0.8888888888888888,\"#fdca26\"],[1.0,\"#f0f921\"]]},\"colorway\":[\"#636efa\",\"#EF553B\",\"#00cc96\",\"#ab63fa\",\"#FFA15A\",\"#19d3f3\",\"#FF6692\",\"#B6E880\",\"#FF97FF\",\"#FECB52\"],\"font\":{\"color\":\"#2a3f5f\"},\"geo\":{\"bgcolor\":\"white\",\"lakecolor\":\"white\",\"landcolor\":\"#E5ECF6\",\"showlakes\":true,\"showland\":true,\"subunitcolor\":\"white\"},\"hoverlabel\":{\"align\":\"left\"},\"hovermode\":\"closest\",\"mapbox\":{\"style\":\"light\"},\"paper_bgcolor\":\"white\",\"plot_bgcolor\":\"#E5ECF6\",\"polar\":{\"angularaxis\":{\"gridcolor\":\"white\",\"linecolor\":\"white\",\"ticks\":\"\"},\"bgcolor\":\"#E5ECF6\",\"radialaxis\":{\"gridcolor\":\"white\",\"linecolor\":\"white\",\"ticks\":\"\"}},\"scene\":{\"xaxis\":{\"backgroundcolor\":\"#E5ECF6\",\"gridcolor\":\"white\",\"gridwidth\":2,\"linecolor\":\"white\",\"showbackground\":true,\"ticks\":\"\",\"zerolinecolor\":\"white\"},\"yaxis\":{\"backgroundcolor\":\"#E5ECF6\",\"gridcolor\":\"white\",\"gridwidth\":2,\"linecolor\":\"white\",\"showbackground\":true,\"ticks\":\"\",\"zerolinecolor\":\"white\"},\"zaxis\":{\"backgroundcolor\":\"#E5ECF6\",\"gridcolor\":\"white\",\"gridwidth\":2,\"linecolor\":\"white\",\"showbackground\":true,\"ticks\":\"\",\"zerolinecolor\":\"white\"}},\"shapedefaults\":{\"line\":{\"color\":\"#2a3f5f\"}},\"ternary\":{\"aaxis\":{\"gridcolor\":\"white\",\"linecolor\":\"white\",\"ticks\":\"\"},\"baxis\":{\"gridcolor\":\"white\",\"linecolor\":\"white\",\"ticks\":\"\"},\"bgcolor\":\"#E5ECF6\",\"caxis\":{\"gridcolor\":\"white\",\"linecolor\":\"white\",\"ticks\":\"\"}},\"title\":{\"x\":0.05},\"xaxis\":{\"automargin\":true,\"gridcolor\":\"white\",\"linecolor\":\"white\",\"ticks\":\"\",\"title\":{\"standoff\":15},\"zerolinecolor\":\"white\",\"zerolinewidth\":2},\"yaxis\":{\"automargin\":true,\"gridcolor\":\"white\",\"linecolor\":\"white\",\"ticks\":\"\",\"title\":{\"standoff\":15},\"zerolinecolor\":\"white\",\"zerolinewidth\":2}}}},                        {\"responsive\": true}                    ).then(function(){\n",
              "                            \n",
              "var gd = document.getElementById('469c64be-409f-49f3-aab6-f763c4a45d2a');\n",
              "var x = new MutationObserver(function (mutations, observer) {{\n",
              "        var display = window.getComputedStyle(gd).display;\n",
              "        if (!display || display === 'none') {{\n",
              "            console.log([gd, 'removed!']);\n",
              "            Plotly.purge(gd);\n",
              "            observer.disconnect();\n",
              "        }}\n",
              "}});\n",
              "\n",
              "// Listen for the removal of the full notebook cells\n",
              "var notebookContainer = gd.closest('#notebook-container');\n",
              "if (notebookContainer) {{\n",
              "    x.observe(notebookContainer, {childList: true});\n",
              "}}\n",
              "\n",
              "// Listen for the clearing of the current output cell\n",
              "var outputEl = gd.closest('.output');\n",
              "if (outputEl) {{\n",
              "    x.observe(outputEl, {childList: true});\n",
              "}}\n",
              "\n",
              "                        })                };                            </script>        </div>\n",
              "</body>\n",
              "</html>"
            ]
          },
          "metadata": {}
        }
      ]
    },
    {
      "cell_type": "code",
      "source": [
        "plot_reconstruction(prediction[200] - x_val[200], prediction[200N], s = 10)"
      ],
      "metadata": {
        "colab": {
          "base_uri": "https://localhost:8080/",
          "height": 716
        },
        "id": "oe9yit7hqWO7",
        "outputId": "6454dc14-3bba-454a-b6b9-a9220f700860"
      },
      "execution_count": 82,
      "outputs": [
        {
          "output_type": "stream",
          "name": "stderr",
          "text": [
            "/usr/local/lib/python3.7/dist-packages/ipykernel_launcher.py:3: DeprecationWarning:\n",
            "\n",
            "`np.bool` is a deprecated alias for the builtin `bool`. To silence this warning, use `bool` by itself. Doing this will not modify any behavior and is safe. If you specifically wanted the numpy scalar type, use `np.bool_` here.\n",
            "Deprecated in NumPy 1.20; for more details and guidance: https://numpy.org/devdocs/release/1.20.0-notes.html#deprecations\n",
            "\n",
            "/usr/local/lib/python3.7/dist-packages/ipykernel_launcher.py:5: DeprecationWarning:\n",
            "\n",
            "`np.bool` is a deprecated alias for the builtin `bool`. To silence this warning, use `bool` by itself. Doing this will not modify any behavior and is safe. If you specifically wanted the numpy scalar type, use `np.bool_` here.\n",
            "Deprecated in NumPy 1.20; for more details and guidance: https://numpy.org/devdocs/release/1.20.0-notes.html#deprecations\n",
            "\n"
          ]
        },
        {
          "output_type": "display_data",
          "data": {
            "text/html": [
              "<html>\n",
              "<head><meta charset=\"utf-8\" /></head>\n",
              "<body>\n",
              "    <div>            <script src=\"https://cdnjs.cloudflare.com/ajax/libs/mathjax/2.7.5/MathJax.js?config=TeX-AMS-MML_SVG\"></script><script type=\"text/javascript\">if (window.MathJax) {MathJax.Hub.Config({SVG: {font: \"STIX-Web\"}});}</script>                <script type=\"text/javascript\">window.PlotlyConfig = {MathJaxConfig: 'local'};</script>\n",
              "        <script src=\"https://cdn.plot.ly/plotly-2.8.3.min.js\"></script>                <div id=\"bd5d5cc0-bf36-40d0-aacf-251fa2406d83\" class=\"plotly-graph-div\" style=\"height:525px; width:100%;\"></div>            <script type=\"text/javascript\">                                    window.PLOTLYENV=window.PLOTLYENV || {};                                    if (document.getElementById(\"bd5d5cc0-bf36-40d0-aacf-251fa2406d83\")) {                    Plotly.newPlot(                        \"bd5d5cc0-bf36-40d0-aacf-251fa2406d83\",                        [{\"marker\":{\"color\":\"rgb(182, 49, 62)\",\"line\":{\"color\":\"rgba(217, 217, 217, 0.14)\",\"width\":0.5},\"opacity\":1,\"size\":10},\"mode\":\"markers\",\"x\":[11,11,11,11,11,11,11,11,11,11,11,11,11,11,11,11,11,11,11,11,12,12,12,12,12,12,12,12,12,12,12,12,12,12,12,12,12,12,12,12,13,13,13,13,13,13,13,13,13,13,13,13,13,13,13,13,13,13,13,13,13,14,14,14,14,14,14,14,14,14,14,14,14,14,14,14,14,14,14,14,14,15,15,15,15,15,15,15,15,15,15,15,15,15,15,15,15,15,17,17,17,17,18,18,18,18,18,18,19,19,19,19,19,19,19,20,20,20,20,20,20,20,20,20,20,20,20,20,20,20,20,20,20,20,21,21,21,21,21,21,21,21,21,21,21,21,21,21,21,21,21,21,21,21,21,21,21,21,21,21,21],\"y\":[18,18,18,19,19,19,19,19,20,20,20,20,21,21,21,22,22,22,23,23,18,18,18,18,18,19,19,20,20,20,20,20,21,21,21,22,22,22,23,23,18,18,18,18,18,19,19,20,20,20,20,20,21,21,21,22,22,22,22,23,23,18,18,18,18,18,19,19,20,20,20,20,20,21,21,21,22,22,22,23,23,18,18,18,19,19,20,20,20,20,21,21,21,22,22,22,23,23,8,8,9,10,8,8,8,9,10,11,8,8,8,9,10,11,12,8,8,8,8,8,8,8,8,8,9,9,9,9,9,9,9,10,11,12,8,8,8,8,8,8,8,8,8,8,9,9,9,9,9,9,9,9,9,10,10,10,11,11,11,12,12],\"z\":[18,19,20,17,18,19,20,21,18,19,20,21,29,30,31,29,30,31,30,31,17,18,19,20,21,17,18,18,19,20,21,29,29,30,31,29,30,31,30,31,17,18,19,20,21,17,18,18,19,20,21,29,29,30,31,28,29,30,31,30,31,17,18,19,20,21,17,18,18,19,20,21,29,29,30,31,29,30,31,30,31,18,19,20,17,18,18,19,20,21,29,30,31,29,30,31,30,31,12,13,12,12,12,13,14,12,12,12,12,13,14,12,12,12,12,6,7,8,9,10,11,12,13,14,6,7,8,9,10,11,12,12,12,12,5,6,7,8,9,10,11,12,13,14,6,7,8,9,10,11,12,13,14,12,13,14,12,13,14,12,13],\"type\":\"scatter3d\"},{\"marker\":{\"color\":\"rgb(105, 128, 155)\",\"line\":{\"color\":\"rgba(217, 217, 217, 0.14)\",\"width\":0.5},\"opacity\":1,\"size\":10},\"mode\":\"markers\",\"x\":[10,10,10,10,10,10,10,10,10,10,10,10,10,10,10,10,10,10,10,10,10,10,10,10,10,10,10,10,10,10,10,10,10,10,10,10,10,10,10,10,10,10,10,10,10,10,10,10,10,10,10,10,10,10,10,10,10,10,10,10,10,10,10,10,10,10,10,10,10,10,11,11,11,11,11,11,11,11,11,11,11,11,11,11,11,11,11,11,11,11,11,11,11,11,11,11,11,11,11,11,11,11,11,11,11,11,11,11,11,11,11,11,11,11,11,11,11,11,11,11,11,11,11,11,11,11,11,11,11,11,11,11,11,11,11,11,11,11,11,11,11,11,11,11,11,11,11,11,11,11,11,11,11,11,11,11,11,11,11,11,11,11,11,11,11,11,11,11,11,11,11,11,11,11,11,11,11,11,11,11,11,11,11,11,11,11,11,11,11,11,11,11,11,11,11,11,11,11,12,12,12,12,12,12,12,12,12,12,12,12,12,12,12,12,12,12,12,12,12,12,12,12,12,12,12,12,12,12,12,12,12,12,12,12,12,12,12,12,12,12,12,12,12,12,12,12,12,12,12,12,12,12,12,12,12,12,12,12,12,12,12,12,12,12,12,12,12,12,12,12,12,12,12,12,13,13,13,13,13,13,13,13,13,13,13,13,13,13,13,13,13,13,13,13,13,13,13,13,13,13,13,13,13,13,13,13,13,13,13,13,13,13,13,13,13,13,13,13,13,13,13,13,13,13,14,14,14,14,14,14,14,14,14,14,14,14,14,14,14,14,14,14,14,14,14,14,14,14,14,14,14,14,14,14,14,14,14,14,14,14,14,14,14,14,14,14,14,14,14,14,14,14,14,14,14,15,15,15,15,15,15,15,15,15,15,15,15,15,15,15,15,15,15,15,15,15,15,15,15,15,15,15,15,15,15,15,15,15,15,15,15,15,15,15,15,15,15,15,15,15,15,15,15,15,15,15,15,15,15,16,16,16,16,16,16,16,16,16,16,16,16,16,16,16,16,16,16,16,16,16,16,16,16,16,16,16,16,16,16,16,16,16,16,16,16,16,16,16,16,16,16,16,16,16,16,16,16,16,16,16,16,16,16,16,16,16,16,16,16,16,16,16,16,16,16,16,16,16,16,16,17,17,17,17,17,17,17,17,17,17,17,17,17,17,17,17,17,17,17,17,17,17,17,17,17,17,17,17,17,17,17,17,17,17,17,17,17,17,17,17,17,17,17,17,17,17,17,17,17,17,17,17,17,17,17,17,17,17,17,17,17,17,17,17,17,17,17,18,18,18,18,18,18,18,18,18,18,18,18,18,18,18,18,18,18,18,18,18,18,18,18,18,18,18,18,18,18,18,18,18,18,18,18,18,18,18,18,18,18,18,18,18,18,18,18,18,18,18,18,18,18,18,18,18,18,18,18,18,18,18,18,18,19,19,19,19,19,19,19,19,19,19,19,19,19,19,19,19,19,19,19,19,19,19,19,19,19,19,19,19,19,19,19,19,19,19,19,19,19,19,19,19,19,19,19,19,19,19,19,19,19,19,19,19,19,19,19,19,19,19,19,19,19,19,19,19,19,19,19,19,19,19,19,19,19,19,19,19,19,19,19,19,19,19,19,19,19,19,19,19,19,20,20,20,20,20,20,20,20,20,20,20,20,20,20,20,20,20,20,20,20,20,20,20,20,20,20,20,20,20,20,20,20,20,20,20,20,20,20,20,20,20,20,20,20,20,20,20,20,20,20,20,20,20,20,20,20,20,20,20,20,20,20,20,20,20,20,20,20,20,20,20,20,20,20,20,20,20,20,20,20,20,20,20,20,20,20,20,20,20,20,20,20,20,20,20,20,20,20,20,20,20,20,20,20,20,20,20,20,20,20,20,20,20,20,20,20,20,20,20,20,20,20,20,20,20,20,21,21,21,21,21,21,21,21,21,21,21,21,21,21,21,21,21,21,21,21,21,21,21,21,21,21,21,21,21,21,21,21,21,21,21,21,21,21,21,21,21,21,21],\"y\":[8,8,8,8,8,8,8,8,8,8,8,8,8,8,8,8,8,9,9,9,9,9,9,9,9,9,9,9,9,9,9,9,9,9,10,10,10,10,10,11,11,11,11,11,12,12,12,12,12,13,13,13,13,13,14,14,14,14,15,15,15,15,16,16,16,16,17,17,17,17,8,8,8,8,8,8,8,8,8,8,8,8,8,8,8,8,8,9,9,9,9,9,9,9,9,9,9,9,9,9,9,10,10,11,11,11,11,11,12,12,12,12,12,13,13,13,13,13,14,14,14,14,14,15,15,15,15,15,16,16,16,16,16,17,17,17,17,17,18,18,18,18,18,18,18,18,18,18,18,19,19,19,19,19,19,19,19,19,19,19,19,19,19,19,19,19,19,19,19,19,20,20,20,20,20,20,20,20,20,20,20,20,20,20,20,20,20,20,21,21,21,21,21,21,21,21,22,22,8,8,8,8,8,9,9,10,10,11,11,12,12,13,13,14,14,15,15,16,16,17,17,17,17,18,18,18,18,18,18,18,19,19,19,19,19,19,19,19,19,19,19,19,19,19,19,19,19,19,19,19,20,20,20,20,20,20,20,20,20,20,20,20,20,20,20,21,21,21,21,21,21,21,22,22,8,8,8,8,8,9,9,10,10,11,11,12,12,13,13,14,14,15,15,16,16,17,17,17,17,18,18,18,18,18,19,19,19,19,19,19,19,19,19,20,20,20,20,20,21,21,21,21,21,22,8,8,8,8,8,9,9,10,10,11,11,12,12,13,13,14,14,15,15,16,16,17,17,17,17,18,18,18,18,18,19,19,19,19,19,19,19,19,19,20,20,20,20,20,21,21,21,21,21,22,22,8,8,8,8,8,9,9,10,10,11,11,12,12,13,13,14,14,15,15,16,16,17,17,17,17,18,18,18,18,18,18,18,19,19,19,19,19,19,19,19,19,20,20,20,20,20,20,21,21,21,21,21,22,22,8,8,8,8,8,9,9,10,10,11,11,12,12,13,13,14,14,15,15,16,16,17,17,17,17,18,18,18,18,18,18,18,18,18,18,19,19,19,19,19,19,19,19,19,19,19,20,20,20,20,20,20,20,20,20,20,21,21,21,21,21,21,21,21,22,22,22,22,22,23,23,8,8,8,9,10,11,11,12,12,13,13,14,14,15,15,16,16,17,17,17,17,18,18,18,18,18,18,18,18,18,18,19,19,19,19,19,19,19,19,19,19,19,20,20,20,20,20,20,20,20,20,20,21,21,21,21,21,21,21,21,22,22,22,22,22,23,23,8,8,9,10,11,12,12,13,13,14,14,15,15,16,16,17,17,17,17,18,18,18,18,18,18,18,18,18,18,19,19,19,19,19,19,19,19,19,19,19,20,20,20,20,20,20,20,20,20,20,21,21,21,21,21,21,21,21,22,22,22,22,22,23,23,8,8,9,10,11,12,13,13,14,14,15,15,16,16,17,17,17,17,18,18,18,18,18,18,18,18,18,18,18,18,19,19,19,19,19,19,19,19,19,19,19,19,19,19,19,19,19,19,19,19,19,19,20,20,20,20,20,20,20,20,20,20,20,20,20,20,20,20,20,20,20,20,21,21,21,21,21,21,21,21,21,21,22,22,22,22,22,23,23,8,8,8,8,8,8,8,8,9,9,9,9,9,9,9,10,11,12,12,12,12,13,13,13,13,13,14,14,14,14,14,15,15,15,15,15,16,16,16,16,16,17,17,17,17,17,18,18,18,18,18,18,18,18,18,18,18,18,18,18,19,19,19,19,19,19,19,19,19,19,19,19,19,19,19,19,19,19,19,19,19,19,19,19,19,19,20,20,20,20,20,20,20,20,20,20,20,20,20,20,20,20,20,20,20,20,20,20,21,21,21,21,21,21,21,21,21,21,21,22,22,22,22,22,23,23,8,8,8,8,8,8,8,9,9,9,9,9,9,9,9,10,10,11,11,12,12,12,13,13,13,13,13,14,14,14,14,15,15,15,15,16,16,16,16,17,17,17,17],\"z\":[0,1,2,3,4,5,6,7,8,9,10,11,12,13,14,15,16,0,1,2,3,4,5,6,7,8,9,10,11,12,13,14,15,16,12,13,14,15,16,12,13,14,15,16,12,13,14,15,16,12,13,14,15,16,12,13,14,15,12,13,14,15,12,13,14,15,12,13,14,15,0,1,2,3,4,5,6,7,8,9,10,11,12,13,14,15,16,0,1,2,3,4,5,6,7,8,9,10,11,12,16,12,16,12,13,14,15,16,12,13,14,15,16,12,13,14,15,16,12,13,14,15,16,12,13,14,15,16,12,13,14,15,16,12,13,14,15,16,10,11,12,13,14,15,16,17,21,22,23,1,2,3,4,5,6,7,8,9,10,11,12,13,14,15,16,22,23,24,25,26,0,1,2,3,4,5,6,7,8,9,22,23,24,25,26,27,28,29,0,1,23,24,25,26,27,28,27,28,12,13,14,15,16,12,16,12,16,12,16,12,16,12,16,12,16,12,16,12,16,12,14,15,16,10,11,12,14,16,22,23,1,2,3,4,5,6,7,8,9,10,11,12,13,14,15,16,23,24,25,26,0,1,2,3,4,5,6,7,8,9,22,23,26,27,28,0,1,23,24,25,26,27,27,28,12,13,14,15,16,12,16,12,16,12,16,12,16,12,16,12,16,12,16,12,16,12,14,15,16,12,14,16,22,23,12,13,14,15,16,23,24,25,26,22,23,26,27,28,23,24,25,26,27,27,12,13,14,15,16,12,16,12,16,12,16,12,16,12,16,12,16,12,16,12,16,12,14,15,16,12,14,16,22,23,12,13,14,15,16,23,24,25,26,22,23,26,27,28,23,24,25,26,27,27,28,12,13,14,15,16,12,16,12,16,12,16,12,16,12,16,12,16,12,16,12,16,12,14,15,16,12,14,16,17,21,22,23,12,13,14,15,16,23,24,25,26,22,23,26,27,28,29,23,24,25,26,27,27,28,12,13,14,15,16,12,16,12,16,12,16,12,16,12,16,12,16,12,16,12,16,12,14,15,16,12,14,16,17,18,19,20,21,22,23,12,13,14,15,16,17,18,23,24,25,26,18,19,20,21,22,23,26,27,28,29,23,24,25,26,27,29,30,31,27,28,29,30,31,30,31,14,15,16,16,16,12,16,12,16,12,16,12,16,12,16,12,16,12,14,15,16,12,14,16,17,18,19,20,21,22,23,12,13,14,15,16,17,18,23,24,25,26,18,19,20,21,22,23,26,27,28,29,23,24,25,26,27,29,30,31,27,28,29,30,31,30,31,15,16,16,16,16,12,16,12,16,12,16,12,16,12,16,12,14,15,16,12,14,16,17,18,19,20,21,22,23,12,13,14,15,16,17,18,23,24,25,26,18,19,20,21,22,23,26,27,28,29,23,24,25,26,27,29,30,31,27,28,29,30,31,30,31,15,16,16,16,16,16,12,16,12,16,12,16,12,16,12,14,15,16,10,11,12,14,16,17,18,19,20,21,22,23,1,2,3,4,5,6,7,8,9,10,11,12,13,14,15,16,17,18,23,24,25,26,0,1,2,3,4,5,6,7,8,9,18,19,20,21,22,23,26,27,28,29,0,1,23,24,25,26,27,29,30,31,27,28,29,30,31,30,31,0,1,2,3,4,5,15,16,0,1,2,3,4,5,16,16,16,13,14,15,16,12,13,14,15,16,12,13,14,15,16,12,13,14,15,16,12,13,14,15,16,12,13,14,15,16,10,11,12,13,14,15,16,17,18,19,20,21,22,23,1,2,3,4,5,6,7,8,9,10,11,12,13,14,15,16,17,18,19,20,21,22,23,24,25,26,0,1,2,3,4,5,6,7,8,9,18,19,20,21,22,23,24,25,26,27,28,29,0,1,23,24,25,26,27,28,29,30,31,27,28,29,30,31,30,31,0,1,2,3,4,15,16,0,1,2,3,4,5,15,16,15,16,15,16,14,15,16,12,13,14,15,16,12,13,14,15,12,13,14,15,12,13,14,15,12,13,14,15],\"type\":\"scatter3d\"}],                        {\"margin\":{\"b\":0,\"l\":0,\"r\":0,\"t\":0},\"scene\":{\"xaxis\":{\"visible\":false},\"yaxis\":{\"visible\":false},\"zaxis\":{\"visible\":false}},\"showlegend\":false,\"template\":{\"data\":{\"barpolar\":[{\"marker\":{\"line\":{\"color\":\"#E5ECF6\",\"width\":0.5},\"pattern\":{\"fillmode\":\"overlay\",\"size\":10,\"solidity\":0.2}},\"type\":\"barpolar\"}],\"bar\":[{\"error_x\":{\"color\":\"#2a3f5f\"},\"error_y\":{\"color\":\"#2a3f5f\"},\"marker\":{\"line\":{\"color\":\"#E5ECF6\",\"width\":0.5},\"pattern\":{\"fillmode\":\"overlay\",\"size\":10,\"solidity\":0.2}},\"type\":\"bar\"}],\"carpet\":[{\"aaxis\":{\"endlinecolor\":\"#2a3f5f\",\"gridcolor\":\"white\",\"linecolor\":\"white\",\"minorgridcolor\":\"white\",\"startlinecolor\":\"#2a3f5f\"},\"baxis\":{\"endlinecolor\":\"#2a3f5f\",\"gridcolor\":\"white\",\"linecolor\":\"white\",\"minorgridcolor\":\"white\",\"startlinecolor\":\"#2a3f5f\"},\"type\":\"carpet\"}],\"choropleth\":[{\"colorbar\":{\"outlinewidth\":0,\"ticks\":\"\"},\"type\":\"choropleth\"}],\"contourcarpet\":[{\"colorbar\":{\"outlinewidth\":0,\"ticks\":\"\"},\"type\":\"contourcarpet\"}],\"contour\":[{\"colorbar\":{\"outlinewidth\":0,\"ticks\":\"\"},\"colorscale\":[[0.0,\"#0d0887\"],[0.1111111111111111,\"#46039f\"],[0.2222222222222222,\"#7201a8\"],[0.3333333333333333,\"#9c179e\"],[0.4444444444444444,\"#bd3786\"],[0.5555555555555556,\"#d8576b\"],[0.6666666666666666,\"#ed7953\"],[0.7777777777777778,\"#fb9f3a\"],[0.8888888888888888,\"#fdca26\"],[1.0,\"#f0f921\"]],\"type\":\"contour\"}],\"heatmapgl\":[{\"colorbar\":{\"outlinewidth\":0,\"ticks\":\"\"},\"colorscale\":[[0.0,\"#0d0887\"],[0.1111111111111111,\"#46039f\"],[0.2222222222222222,\"#7201a8\"],[0.3333333333333333,\"#9c179e\"],[0.4444444444444444,\"#bd3786\"],[0.5555555555555556,\"#d8576b\"],[0.6666666666666666,\"#ed7953\"],[0.7777777777777778,\"#fb9f3a\"],[0.8888888888888888,\"#fdca26\"],[1.0,\"#f0f921\"]],\"type\":\"heatmapgl\"}],\"heatmap\":[{\"colorbar\":{\"outlinewidth\":0,\"ticks\":\"\"},\"colorscale\":[[0.0,\"#0d0887\"],[0.1111111111111111,\"#46039f\"],[0.2222222222222222,\"#7201a8\"],[0.3333333333333333,\"#9c179e\"],[0.4444444444444444,\"#bd3786\"],[0.5555555555555556,\"#d8576b\"],[0.6666666666666666,\"#ed7953\"],[0.7777777777777778,\"#fb9f3a\"],[0.8888888888888888,\"#fdca26\"],[1.0,\"#f0f921\"]],\"type\":\"heatmap\"}],\"histogram2dcontour\":[{\"colorbar\":{\"outlinewidth\":0,\"ticks\":\"\"},\"colorscale\":[[0.0,\"#0d0887\"],[0.1111111111111111,\"#46039f\"],[0.2222222222222222,\"#7201a8\"],[0.3333333333333333,\"#9c179e\"],[0.4444444444444444,\"#bd3786\"],[0.5555555555555556,\"#d8576b\"],[0.6666666666666666,\"#ed7953\"],[0.7777777777777778,\"#fb9f3a\"],[0.8888888888888888,\"#fdca26\"],[1.0,\"#f0f921\"]],\"type\":\"histogram2dcontour\"}],\"histogram2d\":[{\"colorbar\":{\"outlinewidth\":0,\"ticks\":\"\"},\"colorscale\":[[0.0,\"#0d0887\"],[0.1111111111111111,\"#46039f\"],[0.2222222222222222,\"#7201a8\"],[0.3333333333333333,\"#9c179e\"],[0.4444444444444444,\"#bd3786\"],[0.5555555555555556,\"#d8576b\"],[0.6666666666666666,\"#ed7953\"],[0.7777777777777778,\"#fb9f3a\"],[0.8888888888888888,\"#fdca26\"],[1.0,\"#f0f921\"]],\"type\":\"histogram2d\"}],\"histogram\":[{\"marker\":{\"pattern\":{\"fillmode\":\"overlay\",\"size\":10,\"solidity\":0.2}},\"type\":\"histogram\"}],\"mesh3d\":[{\"colorbar\":{\"outlinewidth\":0,\"ticks\":\"\"},\"type\":\"mesh3d\"}],\"parcoords\":[{\"line\":{\"colorbar\":{\"outlinewidth\":0,\"ticks\":\"\"}},\"type\":\"parcoords\"}],\"pie\":[{\"automargin\":true,\"type\":\"pie\"}],\"scatter3d\":[{\"line\":{\"colorbar\":{\"outlinewidth\":0,\"ticks\":\"\"}},\"marker\":{\"colorbar\":{\"outlinewidth\":0,\"ticks\":\"\"}},\"type\":\"scatter3d\"}],\"scattercarpet\":[{\"marker\":{\"colorbar\":{\"outlinewidth\":0,\"ticks\":\"\"}},\"type\":\"scattercarpet\"}],\"scattergeo\":[{\"marker\":{\"colorbar\":{\"outlinewidth\":0,\"ticks\":\"\"}},\"type\":\"scattergeo\"}],\"scattergl\":[{\"marker\":{\"colorbar\":{\"outlinewidth\":0,\"ticks\":\"\"}},\"type\":\"scattergl\"}],\"scattermapbox\":[{\"marker\":{\"colorbar\":{\"outlinewidth\":0,\"ticks\":\"\"}},\"type\":\"scattermapbox\"}],\"scatterpolargl\":[{\"marker\":{\"colorbar\":{\"outlinewidth\":0,\"ticks\":\"\"}},\"type\":\"scatterpolargl\"}],\"scatterpolar\":[{\"marker\":{\"colorbar\":{\"outlinewidth\":0,\"ticks\":\"\"}},\"type\":\"scatterpolar\"}],\"scatter\":[{\"marker\":{\"colorbar\":{\"outlinewidth\":0,\"ticks\":\"\"}},\"type\":\"scatter\"}],\"scatterternary\":[{\"marker\":{\"colorbar\":{\"outlinewidth\":0,\"ticks\":\"\"}},\"type\":\"scatterternary\"}],\"surface\":[{\"colorbar\":{\"outlinewidth\":0,\"ticks\":\"\"},\"colorscale\":[[0.0,\"#0d0887\"],[0.1111111111111111,\"#46039f\"],[0.2222222222222222,\"#7201a8\"],[0.3333333333333333,\"#9c179e\"],[0.4444444444444444,\"#bd3786\"],[0.5555555555555556,\"#d8576b\"],[0.6666666666666666,\"#ed7953\"],[0.7777777777777778,\"#fb9f3a\"],[0.8888888888888888,\"#fdca26\"],[1.0,\"#f0f921\"]],\"type\":\"surface\"}],\"table\":[{\"cells\":{\"fill\":{\"color\":\"#EBF0F8\"},\"line\":{\"color\":\"white\"}},\"header\":{\"fill\":{\"color\":\"#C8D4E3\"},\"line\":{\"color\":\"white\"}},\"type\":\"table\"}]},\"layout\":{\"annotationdefaults\":{\"arrowcolor\":\"#2a3f5f\",\"arrowhead\":0,\"arrowwidth\":1},\"autotypenumbers\":\"strict\",\"coloraxis\":{\"colorbar\":{\"outlinewidth\":0,\"ticks\":\"\"}},\"colorscale\":{\"diverging\":[[0,\"#8e0152\"],[0.1,\"#c51b7d\"],[0.2,\"#de77ae\"],[0.3,\"#f1b6da\"],[0.4,\"#fde0ef\"],[0.5,\"#f7f7f7\"],[0.6,\"#e6f5d0\"],[0.7,\"#b8e186\"],[0.8,\"#7fbc41\"],[0.9,\"#4d9221\"],[1,\"#276419\"]],\"sequential\":[[0.0,\"#0d0887\"],[0.1111111111111111,\"#46039f\"],[0.2222222222222222,\"#7201a8\"],[0.3333333333333333,\"#9c179e\"],[0.4444444444444444,\"#bd3786\"],[0.5555555555555556,\"#d8576b\"],[0.6666666666666666,\"#ed7953\"],[0.7777777777777778,\"#fb9f3a\"],[0.8888888888888888,\"#fdca26\"],[1.0,\"#f0f921\"]],\"sequentialminus\":[[0.0,\"#0d0887\"],[0.1111111111111111,\"#46039f\"],[0.2222222222222222,\"#7201a8\"],[0.3333333333333333,\"#9c179e\"],[0.4444444444444444,\"#bd3786\"],[0.5555555555555556,\"#d8576b\"],[0.6666666666666666,\"#ed7953\"],[0.7777777777777778,\"#fb9f3a\"],[0.8888888888888888,\"#fdca26\"],[1.0,\"#f0f921\"]]},\"colorway\":[\"#636efa\",\"#EF553B\",\"#00cc96\",\"#ab63fa\",\"#FFA15A\",\"#19d3f3\",\"#FF6692\",\"#B6E880\",\"#FF97FF\",\"#FECB52\"],\"font\":{\"color\":\"#2a3f5f\"},\"geo\":{\"bgcolor\":\"white\",\"lakecolor\":\"white\",\"landcolor\":\"#E5ECF6\",\"showlakes\":true,\"showland\":true,\"subunitcolor\":\"white\"},\"hoverlabel\":{\"align\":\"left\"},\"hovermode\":\"closest\",\"mapbox\":{\"style\":\"light\"},\"paper_bgcolor\":\"white\",\"plot_bgcolor\":\"#E5ECF6\",\"polar\":{\"angularaxis\":{\"gridcolor\":\"white\",\"linecolor\":\"white\",\"ticks\":\"\"},\"bgcolor\":\"#E5ECF6\",\"radialaxis\":{\"gridcolor\":\"white\",\"linecolor\":\"white\",\"ticks\":\"\"}},\"scene\":{\"xaxis\":{\"backgroundcolor\":\"#E5ECF6\",\"gridcolor\":\"white\",\"gridwidth\":2,\"linecolor\":\"white\",\"showbackground\":true,\"ticks\":\"\",\"zerolinecolor\":\"white\"},\"yaxis\":{\"backgroundcolor\":\"#E5ECF6\",\"gridcolor\":\"white\",\"gridwidth\":2,\"linecolor\":\"white\",\"showbackground\":true,\"ticks\":\"\",\"zerolinecolor\":\"white\"},\"zaxis\":{\"backgroundcolor\":\"#E5ECF6\",\"gridcolor\":\"white\",\"gridwidth\":2,\"linecolor\":\"white\",\"showbackground\":true,\"ticks\":\"\",\"zerolinecolor\":\"white\"}},\"shapedefaults\":{\"line\":{\"color\":\"#2a3f5f\"}},\"ternary\":{\"aaxis\":{\"gridcolor\":\"white\",\"linecolor\":\"white\",\"ticks\":\"\"},\"baxis\":{\"gridcolor\":\"white\",\"linecolor\":\"white\",\"ticks\":\"\"},\"bgcolor\":\"#E5ECF6\",\"caxis\":{\"gridcolor\":\"white\",\"linecolor\":\"white\",\"ticks\":\"\"}},\"title\":{\"x\":0.05},\"xaxis\":{\"automargin\":true,\"gridcolor\":\"white\",\"linecolor\":\"white\",\"ticks\":\"\",\"title\":{\"standoff\":15},\"zerolinecolor\":\"white\",\"zerolinewidth\":2},\"yaxis\":{\"automargin\":true,\"gridcolor\":\"white\",\"linecolor\":\"white\",\"ticks\":\"\",\"title\":{\"standoff\":15},\"zerolinecolor\":\"white\",\"zerolinewidth\":2}}}},                        {\"responsive\": true}                    ).then(function(){\n",
              "                            \n",
              "var gd = document.getElementById('bd5d5cc0-bf36-40d0-aacf-251fa2406d83');\n",
              "var x = new MutationObserver(function (mutations, observer) {{\n",
              "        var display = window.getComputedStyle(gd).display;\n",
              "        if (!display || display === 'none') {{\n",
              "            console.log([gd, 'removed!']);\n",
              "            Plotly.purge(gd);\n",
              "            observer.disconnect();\n",
              "        }}\n",
              "}});\n",
              "\n",
              "// Listen for the removal of the full notebook cells\n",
              "var notebookContainer = gd.closest('#notebook-container');\n",
              "if (notebookContainer) {{\n",
              "    x.observe(notebookContainer, {childList: true});\n",
              "}}\n",
              "\n",
              "// Listen for the clearing of the current output cell\n",
              "var outputEl = gd.closest('.output');\n",
              "if (outputEl) {{\n",
              "    x.observe(outputEl, {childList: true});\n",
              "}}\n",
              "\n",
              "                        })                };                            </script>        </div>\n",
              "</body>\n",
              "</html>"
            ]
          },
          "metadata": {}
        }
      ]
    },
    {
      "cell_type": "code",
      "source": [
        "broken_chair = np.load('/content/broken_chair.npy')"
      ],
      "metadata": {
        "id": "e_TkxjFWmGSQ"
      },
      "execution_count": 83,
      "outputs": []
    },
    {
      "cell_type": "code",
      "source": [
        "broken_chair = np.reshape(broken_chair.flatten(), (1, 32*32*32))"
      ],
      "metadata": {
        "id": "afjINdahmOMG"
      },
      "execution_count": 84,
      "outputs": []
    },
    {
      "cell_type": "code",
      "source": [
        "bcpred = model.predict(broken_chair)"
      ],
      "metadata": {
        "colab": {
          "base_uri": "https://localhost:8080/"
        },
        "id": "59YNYgwYmcEV",
        "outputId": "6155897a-eb1a-47bd-91c9-f225752d7bd0"
      },
      "execution_count": 85,
      "outputs": [
        {
          "output_type": "stream",
          "name": "stdout",
          "text": [
            "1/1 [==============================] - 0s 80ms/step\n"
          ]
        }
      ]
    },
    {
      "cell_type": "code",
      "source": [
        "broken_chair = np.reshape(broken_chair, (32,32,32))\n",
        "bcpred = np.around(np.reshape(bcpred, (32,32,32)))"
      ],
      "metadata": {
        "id": "cLYTCIdRmh3V"
      },
      "execution_count": 86,
      "outputs": []
    },
    {
      "cell_type": "code",
      "source": [
        "plot_reconstruction(bcpred - broken_chair, bcpred, s = 10)"
      ],
      "metadata": {
        "colab": {
          "base_uri": "https://localhost:8080/",
          "height": 716
        },
        "id": "7k49x12LmsOt",
        "outputId": "3ad9a781-1765-4118-fdd1-2b58e454a198"
      },
      "execution_count": 87,
      "outputs": [
        {
          "output_type": "stream",
          "name": "stderr",
          "text": [
            "/usr/local/lib/python3.7/dist-packages/ipykernel_launcher.py:3: DeprecationWarning:\n",
            "\n",
            "`np.bool` is a deprecated alias for the builtin `bool`. To silence this warning, use `bool` by itself. Doing this will not modify any behavior and is safe. If you specifically wanted the numpy scalar type, use `np.bool_` here.\n",
            "Deprecated in NumPy 1.20; for more details and guidance: https://numpy.org/devdocs/release/1.20.0-notes.html#deprecations\n",
            "\n",
            "/usr/local/lib/python3.7/dist-packages/ipykernel_launcher.py:5: DeprecationWarning:\n",
            "\n",
            "`np.bool` is a deprecated alias for the builtin `bool`. To silence this warning, use `bool` by itself. Doing this will not modify any behavior and is safe. If you specifically wanted the numpy scalar type, use `np.bool_` here.\n",
            "Deprecated in NumPy 1.20; for more details and guidance: https://numpy.org/devdocs/release/1.20.0-notes.html#deprecations\n",
            "\n"
          ]
        },
        {
          "output_type": "display_data",
          "data": {
            "text/html": [
              "<html>\n",
              "<head><meta charset=\"utf-8\" /></head>\n",
              "<body>\n",
              "    <div>            <script src=\"https://cdnjs.cloudflare.com/ajax/libs/mathjax/2.7.5/MathJax.js?config=TeX-AMS-MML_SVG\"></script><script type=\"text/javascript\">if (window.MathJax) {MathJax.Hub.Config({SVG: {font: \"STIX-Web\"}});}</script>                <script type=\"text/javascript\">window.PlotlyConfig = {MathJaxConfig: 'local'};</script>\n",
              "        <script src=\"https://cdn.plot.ly/plotly-2.8.3.min.js\"></script>                <div id=\"aa4f11b6-6128-4968-bca3-41a5fd8e12b9\" class=\"plotly-graph-div\" style=\"height:525px; width:100%;\"></div>            <script type=\"text/javascript\">                                    window.PLOTLYENV=window.PLOTLYENV || {};                                    if (document.getElementById(\"aa4f11b6-6128-4968-bca3-41a5fd8e12b9\")) {                    Plotly.newPlot(                        \"aa4f11b6-6128-4968-bca3-41a5fd8e12b9\",                        [{\"marker\":{\"color\":\"rgb(182, 49, 62)\",\"line\":{\"color\":\"rgba(217, 217, 217, 0.14)\",\"width\":0.5},\"opacity\":1,\"size\":10},\"mode\":\"markers\",\"x\":[4,4,4,4,4,4,4,4,4,4,4,4,4,5,5,5,5,5,5,5,5,5,5,5,5,5,5,5,5,5,5,5,5,5,5,5,5,5,5,5,5,5,5,5,5,5,5,5,5,5,5,5,5,5,5,5,6,6,6,6,6,6,6,6,6,6,6,6,6,6,6,6,6,6,6,6,6,6,6,6,6,6,6,6,6,6,6,6,6,6,6,6,6,6,6,6,6,6,6,6,6,6,6,6,6,6,6,6,6,6,6,6,6,6,6,6,6,6,6,6,6,6,7,7,7,7,7,7,7,7,7,7,7,7,7,7,7,7,7,7,7,7,7,7,7,7,7,7,7,7,7,7,7,7,7,7,7,7,7,7,7,7,7,7,7,7,7,7,7,7,7,7,7,7,7,7,7,7,7,7,7,7,7,7,7,7,7,7,7,7,7,7,7,7,7,7,7,7,7,7,7,7,7,7,7,7,7,7,7,7,8,8,8,8,8,8,8,8,8,8,8,8,8,8,8,8,8,8,8,8,8,8,8,8,8,8,8,8,8,8,8,8,8,8,8,8,8,8,8,8,8,8,8,8,8,8,8,8,8,8,8,8,8,8,8,8,8,8,8,8,8,8,8,8,9,9,9,9,9,9,9,9,9,9,9,9,9,9,9,9,9,9,9,9,9,9,9,9,9,9,9,9,9,9,9,9,9,9,9,9,9,9,9,9,9,9,9,9,9,9,9,9,9,9,9,9,9,9,9,9,9,9,9,9,9,9,9,9,9,9,9,9,9,9,9,9,10,10,10,10,10,10,10,10,10,10,10,10,10,10,10,10,10,10,10,10,10,10,10,10,10,10,10,10,10,10,10,10,10,10,10,10,10,10,10,10,10,10,10,10,10,10,10,10,10,10,10,10,10,10,10,10,10,10,10,10,10,10,10,10,10,10,10,10,10,10,10,10,10,10,10,10,10,10,10,10,10,10,10,11,11,11,11,11,11,11,11,11,11,11,11,11,11,11,11,11,11,11,11,11,11,11,11,11,11,11,11,11,11,11,11,11,11,11,11,11,11,11,11,11,11,11,11,11,11,11,11,11,11,11,11,11,11,11,11,11,11,11,11,11,11,11,11,11,11,11,11,11,11,11,11,11,11,11,11,11,11,11,11,11,11,11,12,12,12,12,12,12,12,12,12,12,12,12,12,12,12,12,12,12,12,12,12,12,12,12,12,12,12,12,12,12,12,12,12,12,12,12,12,12,12,12,12,12,12,12,12,12,12,12,12,12,12,12,12,12,12,12,12,12,12,12,12,12,12,12,12,12,12,12,12,12,12,12,12,12,12,12,13,13,13,13,13,13,13,13,13,13,13,13,13,13,13,13,13,13,13,13,13,13,13,13,13,13,13,13,13,13,13,13,13,13,13,13,13,13,13,13,13,13,13,13,13,13,13,13,13,13,13,13,13,13,13,13,13,13,13,13,13,13,13,13,13,13,13,13,13,13,13,13,13,13,13,13,13,13,13,13,13,13,13,13,13,13,13,13,13,13,13,13,14,14,14,14,14,14,14,14,14,14,14,14,14,14,14,14,14,14,14,14,14,14,14,14,14,14,14,14,14,14,14,14,14,14,14,14,14,14,14,14,14,14,14,14,14,14,14,14,14,14,14,14,14,14,14,14,14,14,14,14,14,14,14,14,14,14,14,14,14,14,14,14,14,14,14,14,14,14,14,14,14,14,14,14,14,14,15,15,15,15,15,15,15,15,15,15,15,15,15,15,15,15,15,15,15,15,15,15,15,15,15,15,15,15,15,15,15,15,15,15,15,15,15,15,15,15,15,15,15,15,15,15,15,15,15,15,15,15,15,15,15,15,15,15,15,15,15,15,15,15,15,15,15,15,15,15,15,15,15,15,15,15,15,15,15,16,16,16,16,16,16,16,16,16,16,16,16,16,16,16,16,16,16,16,16,16,16,16,16,16,16,16,16,16,16,16,16,16,16,16,16,16,16,16,16,16,16,16,16,16,16,16,16,16,16,16,16,16,16,16,16,16,16,16,16,16,16,16,16,16,16,16,16,16,16,16,16,16,16,17,17,17,17,17,17,17,17,17,17,17,17,17,17,17,17,17,17,17,17,17,17,17,17,17,17,17,17,17,17,17,17,17,17,17,17,17,17,17,17,17,17,17,17,17,17,17,17,17,17,17,17,17,17,17,17,17,17,17,17,17,17,17,17,17,17,17,17,17,17,17,17,17,17,17,17,17,17,17,17,17,17,17,17,17,17,17,17,17,17,17,17,17,17,17,17,17,18,18,18,18,18,18,18,18,18,18,18,18,18,18,18,18,18,18,18,18,18,18,18,18,18,18,18,18,18,18,18,18,18,18,18,18,18,18,18,18,18,18,18,18,18,18,18,18,18,18,18,18,18,18,18,18,18,18,18,18,18,18,18,18,18,18,18,18,18,18,18,18,18,18,18,18,18,18,18,18,18,18,18,18,18,18,18,18,18,18,18,18,18,18,19,19,19,19,19,19,19,19,19,19,19,19,19,19,19,19,19,19,19,19,19,19,19,19,19,19,19,19,19,19,19,19,19,19,19,19,19,19,19,19,19,19,19,19,19,19,19,19,19,19,19,19,19,19,19,19,19,19,19,19,19,19,19,19,19,19,19,19,19,19,19,19,19,19,19,19,19,20,20,20,20,20,20,20,20,20,20,20,20,20,20,20,20,20,20,20,20,20,20,20,20,20,20,20,20,20,20,20,20,20,20,20,20,20,20,20,20,20,20,20,20,20,20,20,20,20,20,20,20,20,20,20,20,20,20,20,20,20,20,20,20,20,20,20,20,21,21,21,21,21,21,21,21,21,21,21,21,21,21,21,21,21,21,21,21,21,21,21,21,21,21,21,21,21,21,21,21,21,21,21,21,21,21,21,21,21,21,21,21,21,21,21,21,21,21,21,21,21,21,21,21,21,21,21,21,21,21,21,21,21,21,21,21,21,21,21,21,21,21,21,21,21,21,21,21,21,21,21,21,21,21,21,21,21,21,21,21,21,21,21,22,22,22,22,22,22,22,22,22,22,22,22,22,22,22,22,22,22,22,22,22,22,22,22,22,22,22,22,22,22,22,22,22,22,22,22,22,22,22,22,22,22,22,22,22,22,22,22,22,22,22,22,22,22,22,22,22,22,22,22,22,22,22,22,22,22,22,22,22,22,22,22,22,22,22,22,22,22,22,22,22,22,22,23,23,23,23,23,23,23,23,23,23,23,23,23,23,23,23,23,23,23,23,23,23,23,23,23,23,23,23,23,23,23,23,23,23,23,23,23,23,23,23,23,23,23,23,23,23,23,23,23,23,23,23,23,23,23,23,23,23,23,23,23,23,23,23,23,23,23,23,23,23,24,24,24,24,24,24,24,24,24,24,24,24,24,24,24,24,24,24,24,24,24,24,24,24,24,24,24,24,24,24,24,24,24,24,24,24,24,24,24,24,24,24,24,24,24,24,24,24,24,24,24,24,24,24,24,24,24,24,24,24,24,24,24,24,24,24,24,24,24,24,24,24,24,24,24,24,24,24,24,25,25,25,25,25,25,25,25,25,25,25,25,25,25,25,25,25,25,25,25,25,25,25,25,25,25,25,25,25,25,25,25,25,25,25,25,25,25,25,25,25,25,25,25,25,25,25,25,25,25,25,25,25,25,25,25,25,25,25,25,25,25,25,25,25,25,25,25,26,26,26,26,26,26,26,26,26,26,26,26,26,26,26,26,26,26,26,26,26,26,26,26,26,26,26,26,26,26,26,26,26,26,26,26,26,26,26,26,26,26,26,26,26,27,27,27,27,27,27,27,27,27,27,27,27,27,27,27,27,27,27,27,27,27,27,27,27,27],\"y\":[8,8,9,12,12,13,13,14,14,15,17,17,18,8,8,9,9,12,12,12,12,12,13,13,13,13,13,14,14,14,14,14,15,15,15,16,16,16,16,17,17,17,18,18,18,19,19,20,20,21,21,22,22,22,22,22,7,8,8,8,9,10,10,11,11,11,12,12,12,12,12,12,12,13,13,13,13,13,13,13,14,14,14,14,14,14,15,15,15,15,16,16,16,16,17,17,17,17,18,18,18,19,19,19,20,20,20,20,21,21,21,21,22,22,22,23,23,23,23,23,23,24,9,10,10,11,11,11,11,12,12,12,12,12,12,13,13,13,13,13,13,13,14,14,14,14,14,15,15,15,16,16,16,16,16,17,17,17,17,18,18,18,19,19,19,19,20,20,20,20,20,21,21,21,21,21,21,21,21,22,22,22,22,22,22,22,22,22,23,23,23,23,23,23,23,24,24,24,24,24,24,24,24,24,25,25,25,25,25,25,5,6,8,9,9,9,10,10,10,11,12,13,13,13,13,13,14,14,14,14,15,15,15,16,16,17,17,18,18,18,19,19,19,19,20,20,20,21,21,21,21,21,22,22,23,23,24,24,24,24,24,24,25,25,25,25,25,25,25,25,25,26,26,26,5,8,8,8,9,9,9,10,10,10,11,11,12,12,13,13,13,13,13,13,14,14,14,14,15,15,15,16,16,16,16,17,17,17,18,18,19,20,20,21,22,22,22,23,23,23,23,23,23,23,23,23,23,23,24,24,24,24,24,24,24,24,24,24,25,25,25,25,25,26,26,26,6,8,8,8,8,8,9,9,9,10,10,11,12,12,12,12,13,13,13,13,14,14,14,14,14,15,15,15,15,16,16,16,16,17,17,17,17,18,18,19,19,20,20,20,21,21,22,22,22,22,22,22,22,22,22,23,23,23,23,23,23,23,24,24,24,24,24,24,24,24,24,24,24,24,24,24,24,24,25,26,26,26,26,5,8,8,8,9,9,10,10,12,12,13,13,14,14,14,14,14,14,15,15,15,15,16,16,16,17,17,18,18,18,18,19,19,20,20,20,21,21,22,22,22,22,22,22,23,23,23,23,23,23,23,23,23,23,23,23,23,24,24,24,24,24,24,24,24,24,24,24,24,25,25,25,25,25,25,25,26,26,26,26,27,27,27,7,7,8,8,9,9,10,11,12,12,13,13,14,14,14,14,14,15,16,16,17,17,18,18,18,18,19,19,19,19,19,19,19,20,20,20,20,20,21,21,21,22,22,22,22,22,22,22,23,23,23,23,23,23,23,24,24,24,24,24,24,24,24,24,24,25,25,25,25,25,25,25,25,25,27,27,5,7,7,8,8,8,9,9,10,12,12,13,14,14,14,14,15,15,16,16,17,17,17,17,18,18,18,18,18,18,18,19,19,19,19,19,19,19,20,20,20,20,20,21,21,22,22,22,22,23,23,23,23,23,23,23,23,23,23,23,23,24,24,24,24,24,24,24,24,24,24,25,25,25,25,25,25,25,25,25,25,25,25,26,26,26,26,26,27,27,27,27,5,7,7,8,8,8,8,9,9,10,10,10,11,12,12,13,13,14,14,14,14,14,15,15,15,15,15,15,16,16,16,16,16,16,17,17,17,17,17,17,17,17,17,18,18,18,18,18,18,19,19,19,19,19,20,20,20,20,21,21,21,21,22,22,22,22,23,23,23,23,23,23,23,23,23,23,23,23,24,24,24,25,27,27,27,27,5,5,6,6,7,7,8,8,8,8,8,9,9,9,9,10,10,10,10,11,11,12,12,13,13,13,13,14,14,14,14,15,15,15,15,16,16,16,16,17,17,17,17,17,17,17,18,18,18,18,18,19,19,19,20,21,21,21,22,22,22,22,23,23,23,23,23,23,23,23,23,24,24,24,24,25,25,27,27,5,5,6,7,7,8,8,8,8,8,9,9,9,9,10,10,10,10,11,11,12,12,13,13,13,13,14,14,14,14,15,15,16,16,16,16,17,17,17,17,17,17,18,18,18,18,18,19,19,19,20,21,21,21,21,22,22,22,22,23,23,23,23,23,23,23,23,23,24,24,24,25,27,27,5,7,8,8,8,8,9,9,9,10,10,10,11,11,12,13,13,13,14,14,14,14,14,15,15,15,15,15,16,16,16,16,16,16,17,17,17,17,17,17,18,18,18,18,18,19,19,19,19,20,20,20,21,21,21,21,22,22,22,22,23,23,23,23,23,23,23,23,23,23,23,23,24,24,24,24,24,24,24,24,25,25,25,25,25,25,25,25,26,26,26,26,26,27,27,27,27,5,7,8,8,8,8,9,9,10,11,12,13,14,14,14,14,15,15,15,16,16,16,17,17,17,17,17,18,18,18,18,18,18,19,19,19,19,19,19,20,20,20,20,20,21,21,22,22,22,22,22,22,23,23,23,23,23,23,23,23,23,23,23,23,24,24,24,24,24,24,24,24,24,24,25,25,25,25,25,25,25,25,25,25,25,25,26,26,26,26,26,27,27,27,5,7,8,8,9,9,10,10,11,12,12,13,14,14,14,14,14,15,16,16,16,17,17,18,18,19,19,19,19,19,20,20,20,20,21,21,21,21,22,22,22,22,22,22,23,23,23,23,23,23,23,23,24,24,24,24,24,24,24,24,24,24,25,25,25,25,25,25,25,25,25,25,25,25,25,27,27,5,8,8,9,9,10,10,12,12,13,13,14,14,14,14,15,16,16,17,18,18,19,19,20,20,20,21,21,21,22,22,22,22,22,23,23,23,23,23,23,23,23,23,23,23,23,24,24,24,24,24,24,24,24,24,24,24,24,25,25,25,25,25,25,25,25,27,27,6,8,8,8,8,8,9,9,9,10,10,11,11,12,12,12,13,13,13,14,14,14,14,14,15,15,15,15,15,16,16,16,16,17,17,17,17,18,18,18,19,19,19,20,20,20,21,21,22,22,22,22,22,22,22,22,22,22,23,23,23,23,23,23,23,23,23,23,23,23,23,23,23,24,24,24,24,24,24,24,24,24,24,24,24,24,24,24,24,25,26,26,26,26,26,5,8,8,8,9,9,9,9,10,10,10,11,11,12,12,13,13,13,13,13,13,14,14,14,15,15,15,15,16,16,16,16,17,17,17,18,18,18,19,20,20,21,21,22,22,22,23,23,23,23,23,23,23,23,23,23,23,24,24,24,24,24,24,24,24,24,24,24,24,24,24,24,24,24,25,25,25,25,25,26,26,26,26,5,6,8,9,9,9,10,10,10,10,11,12,12,13,13,13,13,14,15,15,15,15,16,16,17,17,17,18,18,18,19,19,19,19,20,20,20,21,21,21,21,22,22,22,22,23,23,23,24,24,24,24,24,24,24,25,25,25,25,25,25,25,25,25,25,25,25,26,26,26,9,9,9,10,10,10,11,11,11,12,12,12,12,12,12,13,13,13,13,13,13,13,14,14,14,14,15,15,16,16,16,17,17,17,17,17,18,18,18,18,19,19,19,19,20,20,20,20,20,21,21,21,21,21,22,22,22,23,23,23,23,23,23,24,24,24,24,24,24,24,24,24,24,25,25,25,25,25,25,7,8,9,9,10,10,11,11,11,12,12,12,12,12,12,12,13,13,13,13,13,13,13,14,14,14,14,14,14,14,14,15,15,15,15,16,16,16,16,17,17,17,17,18,18,18,19,19,19,19,20,20,20,20,21,21,21,21,22,22,22,23,23,23,23,23,23,24,8,8,9,10,11,11,11,12,12,12,12,12,12,12,12,12,13,13,13,13,13,13,14,14,14,14,14,15,15,16,16,16,17,17,17,18,18,19,20,20,21,21,21,22,22,8,8,9,9,10,10,10,10,11,11,11,11,12,12,12,12,12,13,13,14,17,17,18,18,18],\"z\":[20,21,21,0,15,0,15,21,22,21,14,15,15,20,21,17,21,0,1,2,3,15,0,1,2,14,15,0,1,2,14,15,14,15,23,15,21,23,24,14,15,21,15,17,21,21,23,15,21,14,15,15,16,17,18,22,17,17,20,21,21,17,21,0,17,21,0,1,2,3,14,15,21,0,2,3,14,15,17,21,0,2,3,15,17,21,14,15,17,21,14,15,17,21,14,15,17,21,14,15,17,14,15,17,14,15,17,21,20,21,22,23,21,22,23,19,20,21,22,23,24,24,13,14,15,13,14,15,17,2,3,12,13,14,15,2,3,4,13,14,15,17,2,3,13,15,17,13,15,17,12,13,15,17,21,12,13,15,17,12,15,17,12,13,15,17,12,13,14,15,17,12,13,14,15,17,19,20,21,13,14,15,17,19,20,21,22,23,15,19,20,21,22,23,24,15,19,20,21,22,23,24,25,26,23,24,25,26,28,30,17,17,17,12,13,17,12,13,17,17,17,2,3,4,13,17,2,3,13,17,2,13,17,13,17,13,17,12,15,17,12,13,15,17,12,15,17,12,13,15,17,20,15,17,0,17,0,13,22,23,24,25,0,1,2,3,26,27,28,29,30,0,1,2,17,12,13,17,12,13,17,12,13,17,12,17,12,17,2,3,4,12,13,17,4,12,13,17,2,13,17,12,13,15,17,12,15,17,12,17,17,12,17,17,12,13,17,0,1,2,3,4,5,12,13,14,15,17,0,1,2,3,12,13,14,15,17,19,0,1,2,3,26,29,30,31,17,12,13,14,15,17,12,13,17,13,17,17,12,13,15,17,3,12,13,17,3,4,13,15,17,12,13,15,17,12,13,15,17,12,13,15,17,15,17,15,17,12,13,17,12,17,3,4,12,13,21,22,23,25,29,2,3,4,11,12,13,17,0,2,3,12,13,14,15,17,19,20,21,22,23,24,25,26,26,28,29,30,31,17,12,13,17,13,17,13,17,12,13,12,13,2,3,4,12,13,15,2,14,15,17,2,15,17,15,17,12,13,15,17,15,17,12,13,17,3,12,2,3,4,12,13,15,2,3,4,12,13,15,17,19,20,21,22,23,24,2,3,12,14,15,17,21,22,23,24,25,26,20,21,22,23,24,25,26,28,29,30,31,29,30,31,15,17,12,13,13,17,13,13,12,13,12,13,2,3,4,13,15,2,2,17,15,17,12,13,15,17,2,3,4,12,13,15,17,2,3,12,13,17,4,12,13,2,3,4,12,15,17,29,12,13,15,17,19,21,22,12,13,17,19,21,22,23,24,25,26,14,17,19,21,22,23,24,25,26,30,31,17,15,17,12,13,14,13,14,13,12,13,13,2,3,13,15,2,17,2,17,2,3,15,17,2,3,4,13,14,15,17,2,3,4,12,13,15,17,3,4,12,13,17,12,13,12,13,15,17,12,13,14,15,17,19,20,21,22,23,24,31,13,17,19,20,21,22,23,24,25,26,14,17,19,20,21,22,23,24,25,26,28,29,22,23,24,25,26,28,29,30,31,17,13,15,12,13,14,17,13,14,13,14,17,13,13,14,13,14,2,3,4,13,17,2,5,6,11,13,17,2,5,6,11,13,17,2,3,4,5,7,8,11,13,17,2,3,4,13,15,17,2,3,13,15,17,3,12,13,17,12,13,15,17,12,13,15,17,12,13,14,15,17,19,20,21,22,23,24,31,17,25,26,12,27,28,30,31,0,17,0,1,2,13,2,12,13,14,17,2,13,14,17,2,13,14,17,2,17,2,17,2,13,14,17,2,11,13,17,2,11,16,17,2,11,16,17,1,2,5,6,11,13,17,2,13,14,15,17,2,15,17,17,12,13,15,12,13,15,17,13,15,17,19,20,21,22,24,31,17,25,26,27,12,22,30,31,0,17,1,2,13,2,12,13,14,17,2,13,14,17,2,13,14,17,2,17,2,17,2,13,14,17,2,11,13,17,2,17,2,11,16,17,2,5,6,11,13,17,2,13,14,15,17,2,15,17,17,12,13,15,17,12,13,15,17,13,15,17,19,20,21,22,24,31,17,25,27,12,30,31,17,15,12,13,14,17,13,14,17,13,14,17,13,17,17,13,14,17,2,3,4,13,17,2,5,6,13,17,2,5,6,11,13,17,2,3,4,5,13,17,2,4,13,15,17,3,4,15,17,3,13,17,12,13,15,17,12,13,15,17,12,13,14,15,17,19,20,21,22,23,24,31,17,19,20,21,22,23,24,25,12,19,21,22,23,24,25,26,22,23,24,25,26,27,28,30,31,17,15,12,13,14,17,13,14,13,13,13,13,2,3,13,15,2,13,17,2,13,17,2,3,13,15,17,3,4,13,14,15,17,3,4,12,13,15,17,3,4,12,13,17,12,13,3,4,12,13,15,17,12,13,14,15,17,19,20,21,22,23,24,31,13,17,19,20,21,22,23,24,25,26,14,17,19,20,21,22,23,24,25,26,28,29,22,23,24,25,26,28,30,31,17,17,12,13,13,17,12,13,13,12,13,13,2,3,4,13,15,2,2,15,17,15,17,13,17,3,12,13,15,17,3,12,13,17,3,4,12,13,3,4,12,13,15,17,3,12,13,15,17,19,21,22,12,13,17,19,21,22,23,24,25,26,14,17,19,20,21,22,23,24,25,26,28,29,30,30,31,17,12,13,13,17,13,17,12,13,12,13,3,4,12,13,2,2,17,17,12,17,12,17,12,13,17,2,3,12,2,3,4,12,15,2,3,12,13,15,17,19,20,21,22,23,24,2,12,13,14,15,17,21,22,23,24,25,26,19,20,21,22,23,24,25,26,29,30,17,12,13,14,15,17,12,13,17,13,17,13,17,12,13,15,12,13,17,3,4,12,13,15,2,12,13,15,17,12,13,15,17,12,13,15,17,12,15,17,12,15,17,12,13,17,12,13,3,12,13,19,21,22,23,25,26,29,2,3,4,12,13,15,17,19,20,21,22,23,24,25,26,0,2,3,12,13,14,15,17,19,21,22,23,24,25,26,28,26,27,28,29,30,31,17,12,13,17,12,13,14,17,12,13,17,12,17,12,17,2,3,4,12,13,17,12,13,17,2,12,13,17,12,13,15,17,12,15,17,12,15,17,17,12,17,15,17,12,13,17,0,1,2,3,4,5,12,13,14,15,17,0,1,2,3,12,13,14,15,17,19,20,21,22,23,24,25,26,0,1,2,3,26,0,3,30,31,17,17,17,12,13,17,12,13,15,17,17,13,17,2,3,13,17,13,2,13,15,17,13,17,13,15,17,12,15,17,12,13,15,17,12,15,17,12,13,15,17,13,14,15,17,0,15,17,0,2,13,22,23,24,25,0,1,2,3,20,21,25,26,27,28,29,30,0,1,2,13,14,15,13,14,15,13,14,15,2,3,12,13,14,15,2,3,12,13,14,15,17,2,3,13,15,13,15,12,13,15,12,13,14,15,17,12,13,15,17,12,13,15,17,12,13,14,15,17,12,13,14,15,17,14,15,17,15,19,20,21,22,23,14,15,19,20,21,22,23,24,25,26,22,23,24,25,26,30,17,20,17,21,17,21,0,15,21,0,1,2,3,14,15,21,0,2,3,14,15,17,21,0,2,3,13,14,15,17,21,14,15,17,21,14,15,17,21,14,15,17,21,14,15,17,13,14,15,17,14,15,17,21,20,21,22,23,21,22,23,19,20,21,22,23,24,24,20,21,21,21,20,21,22,0,1,2,3,15,20,21,22,24,0,1,2,14,15,21,0,1,14,15,21,14,21,15,21,24,14,15,21,15,21,21,15,21,13,14,15,15,22,20,21,17,21,16,17,21,22,16,21,22,23,0,15,16,21,22,0,15,0,14,15,13,15,16],\"type\":\"scatter3d\"},{\"marker\":{\"color\":\"rgb(105, 128, 155)\",\"line\":{\"color\":\"rgba(217, 217, 217, 0.14)\",\"width\":0.5},\"opacity\":1,\"size\":10},\"mode\":\"markers\",\"x\":[4,4,4,4,4,4,4,4,4,4,4,4,4,5,5,5,5,5,5,5,5,5,5,5,5,5,5,5,5,5,5,5,5,5,6,6,6,6,6,6,6,6,6,6,6,6,6,6,6,6,6,7,7,7,7,7,7,7,7,7,7,7,7,7,7,7,7,7,7,7,7,7,7,7,7,7,7,8,8,8,8,8,8,8,8,8,8,8,8,8,8,8,8,8,8,8,8,8,8,8,8,8,8,8,8,8,8,8,8,8,8,8,8,8,8,9,9,9,9,9,9,9,9,9,9,9,9,9,9,9,9,9,9,9,9,9,9,9,9,9,9,9,9,9,9,9,9,9,9,9,9,9,9,9,9,9,9,9,9,9,9,9,9,9,9,9,9,9,9,9,10,10,10,10,10,10,10,10,10,10,10,10,10,10,10,10,10,10,10,10,10,10,10,10,10,10,10,10,10,10,10,10,10,10,10,10,10,10,10,10,10,10,10,11,11,11,11,11,11,11,11,11,11,11,11,11,11,11,11,11,11,11,11,11,11,11,11,11,11,11,11,11,11,11,11,11,11,11,11,11,11,11,12,12,12,12,12,12,12,12,12,12,12,12,12,12,12,12,12,12,12,12,12,12,12,12,12,12,12,12,12,12,12,12,12,12,12,13,13,13,13,13,13,13,13,13,13,13,13,13,13,13,13,13,13,13,13,13,13,13,13,13,13,13,13,13,13,13,13,13,13,13,13,13,13,14,14,14,14,14,14,14,14,14,14,14,14,14,14,14,14,14,14,14,14,14,14,14,14,14,14,14,14,14,14,14,14,14,14,14,14,14,14,14,14,14,14,14,14,14,14,14,14,14,14,14,14,14,14,14,14,14,14,14,14,14,14,14,14,14,14,14,15,15,15,15,15,15,15,15,15,15,15,15,15,15,15,15,15,15,15,15,15,15,15,15,15,15,15,15,15,15,15,15,15,15,15,15,15,15,15,15,15,15,15,15,15,15,15,15,15,15,15,15,15,15,15,15,15,15,15,15,15,15,15,15,15,15,15,15,15,15,15,15,15,15,15,15,15,15,15,15,15,15,15,15,15,15,15,15,15,15,15,15,15,15,15,15,15,15,15,15,15,15,15,15,15,15,16,16,16,16,16,16,16,16,16,16,16,16,16,16,16,16,16,16,16,16,16,16,16,16,16,16,16,16,16,16,16,16,16,16,16,16,16,16,16,16,16,16,16,16,16,16,16,16,16,16,16,16,16,16,16,16,16,16,16,16,16,16,16,16,16,16,16,16,16,16,16,16,16,16,16,16,16,16,16,16,16,16,16,16,16,16,16,16,16,16,16,16,16,16,16,16,16,16,16,16,16,16,16,16,16,16,17,17,17,17,17,17,17,17,17,17,17,17,17,17,17,17,17,17,17,17,17,17,17,17,17,17,17,17,17,17,17,17,17,17,17,17,17,17,17,17,17,17,17,17,17,17,17,17,18,18,18,18,18,18,18,18,18,18,18,18,18,18,18,18,18,18,18,18,18,18,18,18,18,18,18,18,18,18,18,18,18,18,18,19,19,19,19,19,19,19,19,19,19,19,19,19,19,19,19,19,19,19,19,19,19,19,19,19,19,19,19,19,19,19,19,19,19,19,19,20,20,20,20,20,20,20,20,20,20,20,20,20,20,20,20,20,20,20,20,20,20,20,20,20,20,20,20,20,20,20,20,20,20,20,20,20,20,20,21,21,21,21,21,21,21,21,21,21,21,21,21,21,21,21,21,21,21,21,21,21,21,21,21,21,21,21,21,21,21,21,21,21,22,22,22,22,22,22,22,22,22,22,22,22,22,22,22,22,22,22,22,22,22,22,22,22,22,22,22,22,22,22,22,22,22,22,22,22,22,22,22,22,22,22,22,22,22,22,22,23,23,23,23,23,23,23,23,23,23,23,23,23,23,23,23,23,23,23,23,23,23,23,23,23,23,23,23,23,23,23,23,23,23,23,23,23,23,23,23,24,24,24,24,24,24,24,24,24,24,24,24,24,24,24,24,24,24,24,24,24,24,24,24,24,24,24,24,24,24,24,25,25,25,25,25,25,25,25,25,25,25,25,25,25,25,25,25,25,25,26,26,26,26,26,26,26,26,26,26,26,26,26,26,26,26],\"y\":[9,10,10,10,10,11,11,11,11,12,12,12,13,9,10,10,10,11,11,11,11,12,12,12,13,18,19,19,19,20,20,21,21,21,7,8,10,11,12,13,14,15,16,17,18,19,19,22,23,23,23,9,10,11,12,13,14,15,16,17,18,19,19,20,20,21,21,21,22,22,22,23,23,23,24,24,24,8,9,10,11,12,13,14,15,15,16,18,19,19,20,20,21,21,21,22,22,22,22,22,22,22,22,23,23,23,23,23,23,23,24,24,24,24,24,8,9,10,11,12,13,14,15,15,16,17,18,18,19,19,20,20,21,21,22,22,22,22,22,22,22,23,23,23,23,23,23,23,23,23,23,23,24,24,24,24,24,24,24,24,24,24,24,24,24,25,25,25,25,25,6,7,8,9,10,11,12,13,14,15,15,15,16,17,18,19,19,20,20,21,21,22,22,22,23,23,23,23,23,23,23,23,23,23,24,24,24,24,25,25,25,25,25,7,8,9,9,10,10,11,12,13,14,15,15,15,15,15,16,16,16,17,17,18,18,19,20,21,22,23,23,23,24,24,24,24,25,25,25,25,25,25,7,8,9,10,11,12,13,14,14,15,15,15,15,16,16,16,16,17,17,19,22,23,23,24,24,25,25,25,25,25,25,26,26,26,26,5,6,7,8,9,10,13,13,14,14,15,15,15,15,16,16,16,16,16,17,17,18,20,21,22,22,23,23,24,24,24,25,25,26,26,26,26,26,6,7,10,12,13,13,14,14,15,15,15,15,15,15,15,15,15,16,16,16,16,16,16,16,17,17,18,19,20,21,22,22,23,23,24,24,24,24,24,24,24,24,24,25,25,25,25,25,25,25,25,25,25,25,25,26,26,26,26,26,26,26,26,26,26,26,26,4,4,4,4,5,5,5,6,6,6,7,7,7,8,8,9,9,10,10,10,11,11,11,12,12,12,12,13,13,13,13,14,14,14,15,15,15,15,15,15,15,15,15,15,15,16,16,16,16,16,16,16,16,16,16,16,17,17,17,17,17,17,17,17,18,18,19,19,19,20,20,20,21,22,22,23,23,24,24,24,24,24,24,24,25,25,25,25,25,25,25,25,25,25,26,26,26,26,26,26,26,26,26,26,26,26,4,4,4,4,5,5,5,6,6,6,7,7,8,8,9,9,10,10,10,11,11,11,12,12,12,12,13,13,13,13,14,14,14,15,15,15,15,15,15,15,15,15,15,15,15,15,16,16,16,16,16,16,16,16,16,16,17,17,17,17,17,17,17,17,18,18,19,19,19,20,20,20,21,22,22,23,23,24,24,24,24,24,24,24,25,25,25,25,25,25,25,25,25,25,25,26,26,26,26,26,26,26,26,26,26,26,6,7,8,10,12,12,12,13,13,14,15,15,15,15,15,15,15,16,16,16,16,16,17,17,18,19,19,19,20,21,22,22,23,23,24,24,24,25,25,25,25,26,26,26,26,26,26,26,5,7,8,9,10,12,13,13,14,14,15,15,15,16,16,16,16,17,18,19,20,22,22,23,23,24,24,24,25,25,26,26,26,26,26,7,8,9,10,11,12,13,13,14,14,15,15,15,15,16,16,16,16,16,17,17,18,19,22,23,23,24,24,24,25,25,25,26,26,26,26,7,8,9,10,11,12,13,14,15,15,15,15,15,16,16,16,16,17,18,19,21,21,22,23,23,23,24,24,24,25,25,25,25,25,25,26,26,26,26,6,7,8,9,10,11,12,13,14,15,15,15,16,17,18,19,19,20,20,21,21,22,22,23,23,23,24,24,24,25,25,25,25,25,8,9,10,11,12,13,14,15,15,16,17,18,18,19,19,20,21,21,22,22,22,22,22,22,22,22,23,23,23,23,23,23,23,23,23,23,23,24,24,24,24,24,25,25,25,25,25,9,10,11,12,13,14,15,15,16,19,20,21,21,21,21,22,22,22,22,22,22,22,22,23,23,23,23,23,23,23,23,23,24,24,24,24,24,24,24,24,9,10,11,12,13,14,16,17,19,19,20,20,21,21,21,21,21,22,22,22,22,22,22,22,23,23,23,23,24,24,24,7,8,10,11,12,13,14,15,16,17,18,19,19,20,22,22,23,23,23,9,9,10,10,11,12,16,18,19,19,19,20,20,21,21,22],\"z\":[17,16,17,21,22,16,21,22,23,16,21,22,21,18,16,17,21,16,20,21,22,16,20,21,21,16,16,17,18,17,18,16,17,18,18,18,16,16,16,16,16,16,16,16,16,16,18,17,16,17,18,16,16,16,16,16,16,16,16,16,16,16,18,16,18,16,18,27,16,18,27,16,17,18,16,17,18,16,16,16,16,16,16,16,3,16,16,16,16,18,16,18,16,18,19,16,18,19,20,21,22,23,25,16,18,21,22,23,24,26,26,27,28,29,30,16,16,16,16,16,16,16,3,16,16,16,16,18,16,18,16,18,16,18,16,18,20,21,22,23,26,16,18,19,20,21,22,23,24,25,26,31,16,18,20,21,22,23,24,25,26,27,28,29,30,27,28,29,30,31,16,16,16,16,16,16,16,16,16,3,4,16,16,16,16,16,18,16,18,16,18,16,18,19,16,18,19,20,21,22,23,24,25,30,16,18,27,28,27,28,29,30,31,16,16,16,18,16,18,16,16,16,16,3,4,12,13,16,3,12,13,12,13,16,18,18,18,18,16,16,18,31,16,18,27,28,18,27,28,29,30,31,16,16,16,16,16,16,16,12,16,4,12,13,16,3,4,12,13,12,13,18,16,16,18,18,27,18,27,28,29,30,31,28,29,30,31,16,16,16,16,16,16,12,16,12,16,3,4,12,13,3,4,12,13,16,12,13,12,18,16,16,18,16,18,16,18,27,18,27,27,28,29,30,31,16,16,16,12,12,16,12,16,3,4,7,8,9,10,12,15,16,3,4,7,8,9,12,16,12,15,12,12,18,16,16,18,16,18,16,18,19,20,21,22,23,24,27,18,19,20,21,22,23,24,25,26,27,28,29,16,18,22,23,24,25,26,27,28,29,30,31,0,1,2,3,1,2,3,2,3,16,3,4,16,3,4,3,4,3,4,16,3,4,13,3,4,12,13,3,4,12,16,3,4,12,3,4,5,6,7,8,9,10,12,13,15,3,4,5,6,7,8,9,10,12,13,15,3,4,7,8,9,10,12,15,3,12,3,12,13,12,13,18,16,16,18,16,18,16,18,19,20,21,22,24,18,19,20,21,23,24,25,26,27,29,18,21,22,23,24,25,26,27,28,29,30,31,0,1,2,3,1,2,3,2,3,16,3,16,3,4,3,4,3,4,16,3,4,13,3,4,12,13,3,4,12,16,3,4,12,3,4,5,6,7,8,9,10,11,12,13,15,16,3,4,5,6,7,8,9,12,13,15,3,4,7,8,9,10,12,15,3,12,3,12,13,12,13,18,16,16,18,16,18,16,18,19,20,21,22,24,18,19,20,21,22,23,24,25,26,27,29,21,22,23,24,25,26,27,28,29,30,31,16,16,16,16,12,13,14,12,16,12,3,4,7,8,10,12,15,3,4,7,12,16,12,15,12,12,13,18,12,16,16,18,16,18,16,18,27,18,27,28,29,16,18,27,28,29,30,31,16,16,16,16,16,12,12,16,12,16,3,4,12,3,4,12,16,12,12,18,18,16,18,16,18,16,18,27,18,27,27,28,29,30,31,16,16,16,16,16,16,12,16,12,16,4,12,13,16,3,4,12,13,16,12,13,12,18,16,16,18,16,18,27,16,18,27,28,29,30,31,16,16,16,16,16,16,16,16,3,4,12,13,16,3,4,12,13,12,18,18,16,18,16,16,18,31,16,18,27,18,27,28,29,30,31,28,29,30,31,16,16,16,16,16,16,16,16,16,3,4,16,16,16,16,16,18,16,18,16,18,16,18,16,18,30,16,18,27,27,28,29,30,31,16,16,16,16,16,16,16,3,16,16,16,16,18,16,18,16,16,18,16,18,20,21,22,23,25,26,16,18,19,20,21,22,23,24,25,26,31,16,18,27,28,29,27,28,29,30,31,16,16,16,16,16,16,3,16,16,16,18,16,18,19,20,16,18,19,20,21,22,23,24,16,18,19,20,21,22,23,24,26,16,17,18,26,27,28,29,30,16,16,16,16,16,16,16,16,16,18,16,18,16,18,19,20,21,16,18,19,20,21,22,23,16,17,18,24,16,17,18,18,18,16,16,16,16,16,16,16,16,16,16,18,18,17,18,16,17,18,17,18,16,17,16,16,16,16,16,17,18,17,18,17,18,16],\"type\":\"scatter3d\"}],                        {\"margin\":{\"b\":0,\"l\":0,\"r\":0,\"t\":0},\"scene\":{\"xaxis\":{\"visible\":false},\"yaxis\":{\"visible\":false},\"zaxis\":{\"visible\":false}},\"showlegend\":false,\"template\":{\"data\":{\"barpolar\":[{\"marker\":{\"line\":{\"color\":\"#E5ECF6\",\"width\":0.5},\"pattern\":{\"fillmode\":\"overlay\",\"size\":10,\"solidity\":0.2}},\"type\":\"barpolar\"}],\"bar\":[{\"error_x\":{\"color\":\"#2a3f5f\"},\"error_y\":{\"color\":\"#2a3f5f\"},\"marker\":{\"line\":{\"color\":\"#E5ECF6\",\"width\":0.5},\"pattern\":{\"fillmode\":\"overlay\",\"size\":10,\"solidity\":0.2}},\"type\":\"bar\"}],\"carpet\":[{\"aaxis\":{\"endlinecolor\":\"#2a3f5f\",\"gridcolor\":\"white\",\"linecolor\":\"white\",\"minorgridcolor\":\"white\",\"startlinecolor\":\"#2a3f5f\"},\"baxis\":{\"endlinecolor\":\"#2a3f5f\",\"gridcolor\":\"white\",\"linecolor\":\"white\",\"minorgridcolor\":\"white\",\"startlinecolor\":\"#2a3f5f\"},\"type\":\"carpet\"}],\"choropleth\":[{\"colorbar\":{\"outlinewidth\":0,\"ticks\":\"\"},\"type\":\"choropleth\"}],\"contourcarpet\":[{\"colorbar\":{\"outlinewidth\":0,\"ticks\":\"\"},\"type\":\"contourcarpet\"}],\"contour\":[{\"colorbar\":{\"outlinewidth\":0,\"ticks\":\"\"},\"colorscale\":[[0.0,\"#0d0887\"],[0.1111111111111111,\"#46039f\"],[0.2222222222222222,\"#7201a8\"],[0.3333333333333333,\"#9c179e\"],[0.4444444444444444,\"#bd3786\"],[0.5555555555555556,\"#d8576b\"],[0.6666666666666666,\"#ed7953\"],[0.7777777777777778,\"#fb9f3a\"],[0.8888888888888888,\"#fdca26\"],[1.0,\"#f0f921\"]],\"type\":\"contour\"}],\"heatmapgl\":[{\"colorbar\":{\"outlinewidth\":0,\"ticks\":\"\"},\"colorscale\":[[0.0,\"#0d0887\"],[0.1111111111111111,\"#46039f\"],[0.2222222222222222,\"#7201a8\"],[0.3333333333333333,\"#9c179e\"],[0.4444444444444444,\"#bd3786\"],[0.5555555555555556,\"#d8576b\"],[0.6666666666666666,\"#ed7953\"],[0.7777777777777778,\"#fb9f3a\"],[0.8888888888888888,\"#fdca26\"],[1.0,\"#f0f921\"]],\"type\":\"heatmapgl\"}],\"heatmap\":[{\"colorbar\":{\"outlinewidth\":0,\"ticks\":\"\"},\"colorscale\":[[0.0,\"#0d0887\"],[0.1111111111111111,\"#46039f\"],[0.2222222222222222,\"#7201a8\"],[0.3333333333333333,\"#9c179e\"],[0.4444444444444444,\"#bd3786\"],[0.5555555555555556,\"#d8576b\"],[0.6666666666666666,\"#ed7953\"],[0.7777777777777778,\"#fb9f3a\"],[0.8888888888888888,\"#fdca26\"],[1.0,\"#f0f921\"]],\"type\":\"heatmap\"}],\"histogram2dcontour\":[{\"colorbar\":{\"outlinewidth\":0,\"ticks\":\"\"},\"colorscale\":[[0.0,\"#0d0887\"],[0.1111111111111111,\"#46039f\"],[0.2222222222222222,\"#7201a8\"],[0.3333333333333333,\"#9c179e\"],[0.4444444444444444,\"#bd3786\"],[0.5555555555555556,\"#d8576b\"],[0.6666666666666666,\"#ed7953\"],[0.7777777777777778,\"#fb9f3a\"],[0.8888888888888888,\"#fdca26\"],[1.0,\"#f0f921\"]],\"type\":\"histogram2dcontour\"}],\"histogram2d\":[{\"colorbar\":{\"outlinewidth\":0,\"ticks\":\"\"},\"colorscale\":[[0.0,\"#0d0887\"],[0.1111111111111111,\"#46039f\"],[0.2222222222222222,\"#7201a8\"],[0.3333333333333333,\"#9c179e\"],[0.4444444444444444,\"#bd3786\"],[0.5555555555555556,\"#d8576b\"],[0.6666666666666666,\"#ed7953\"],[0.7777777777777778,\"#fb9f3a\"],[0.8888888888888888,\"#fdca26\"],[1.0,\"#f0f921\"]],\"type\":\"histogram2d\"}],\"histogram\":[{\"marker\":{\"pattern\":{\"fillmode\":\"overlay\",\"size\":10,\"solidity\":0.2}},\"type\":\"histogram\"}],\"mesh3d\":[{\"colorbar\":{\"outlinewidth\":0,\"ticks\":\"\"},\"type\":\"mesh3d\"}],\"parcoords\":[{\"line\":{\"colorbar\":{\"outlinewidth\":0,\"ticks\":\"\"}},\"type\":\"parcoords\"}],\"pie\":[{\"automargin\":true,\"type\":\"pie\"}],\"scatter3d\":[{\"line\":{\"colorbar\":{\"outlinewidth\":0,\"ticks\":\"\"}},\"marker\":{\"colorbar\":{\"outlinewidth\":0,\"ticks\":\"\"}},\"type\":\"scatter3d\"}],\"scattercarpet\":[{\"marker\":{\"colorbar\":{\"outlinewidth\":0,\"ticks\":\"\"}},\"type\":\"scattercarpet\"}],\"scattergeo\":[{\"marker\":{\"colorbar\":{\"outlinewidth\":0,\"ticks\":\"\"}},\"type\":\"scattergeo\"}],\"scattergl\":[{\"marker\":{\"colorbar\":{\"outlinewidth\":0,\"ticks\":\"\"}},\"type\":\"scattergl\"}],\"scattermapbox\":[{\"marker\":{\"colorbar\":{\"outlinewidth\":0,\"ticks\":\"\"}},\"type\":\"scattermapbox\"}],\"scatterpolargl\":[{\"marker\":{\"colorbar\":{\"outlinewidth\":0,\"ticks\":\"\"}},\"type\":\"scatterpolargl\"}],\"scatterpolar\":[{\"marker\":{\"colorbar\":{\"outlinewidth\":0,\"ticks\":\"\"}},\"type\":\"scatterpolar\"}],\"scatter\":[{\"marker\":{\"colorbar\":{\"outlinewidth\":0,\"ticks\":\"\"}},\"type\":\"scatter\"}],\"scatterternary\":[{\"marker\":{\"colorbar\":{\"outlinewidth\":0,\"ticks\":\"\"}},\"type\":\"scatterternary\"}],\"surface\":[{\"colorbar\":{\"outlinewidth\":0,\"ticks\":\"\"},\"colorscale\":[[0.0,\"#0d0887\"],[0.1111111111111111,\"#46039f\"],[0.2222222222222222,\"#7201a8\"],[0.3333333333333333,\"#9c179e\"],[0.4444444444444444,\"#bd3786\"],[0.5555555555555556,\"#d8576b\"],[0.6666666666666666,\"#ed7953\"],[0.7777777777777778,\"#fb9f3a\"],[0.8888888888888888,\"#fdca26\"],[1.0,\"#f0f921\"]],\"type\":\"surface\"}],\"table\":[{\"cells\":{\"fill\":{\"color\":\"#EBF0F8\"},\"line\":{\"color\":\"white\"}},\"header\":{\"fill\":{\"color\":\"#C8D4E3\"},\"line\":{\"color\":\"white\"}},\"type\":\"table\"}]},\"layout\":{\"annotationdefaults\":{\"arrowcolor\":\"#2a3f5f\",\"arrowhead\":0,\"arrowwidth\":1},\"autotypenumbers\":\"strict\",\"coloraxis\":{\"colorbar\":{\"outlinewidth\":0,\"ticks\":\"\"}},\"colorscale\":{\"diverging\":[[0,\"#8e0152\"],[0.1,\"#c51b7d\"],[0.2,\"#de77ae\"],[0.3,\"#f1b6da\"],[0.4,\"#fde0ef\"],[0.5,\"#f7f7f7\"],[0.6,\"#e6f5d0\"],[0.7,\"#b8e186\"],[0.8,\"#7fbc41\"],[0.9,\"#4d9221\"],[1,\"#276419\"]],\"sequential\":[[0.0,\"#0d0887\"],[0.1111111111111111,\"#46039f\"],[0.2222222222222222,\"#7201a8\"],[0.3333333333333333,\"#9c179e\"],[0.4444444444444444,\"#bd3786\"],[0.5555555555555556,\"#d8576b\"],[0.6666666666666666,\"#ed7953\"],[0.7777777777777778,\"#fb9f3a\"],[0.8888888888888888,\"#fdca26\"],[1.0,\"#f0f921\"]],\"sequentialminus\":[[0.0,\"#0d0887\"],[0.1111111111111111,\"#46039f\"],[0.2222222222222222,\"#7201a8\"],[0.3333333333333333,\"#9c179e\"],[0.4444444444444444,\"#bd3786\"],[0.5555555555555556,\"#d8576b\"],[0.6666666666666666,\"#ed7953\"],[0.7777777777777778,\"#fb9f3a\"],[0.8888888888888888,\"#fdca26\"],[1.0,\"#f0f921\"]]},\"colorway\":[\"#636efa\",\"#EF553B\",\"#00cc96\",\"#ab63fa\",\"#FFA15A\",\"#19d3f3\",\"#FF6692\",\"#B6E880\",\"#FF97FF\",\"#FECB52\"],\"font\":{\"color\":\"#2a3f5f\"},\"geo\":{\"bgcolor\":\"white\",\"lakecolor\":\"white\",\"landcolor\":\"#E5ECF6\",\"showlakes\":true,\"showland\":true,\"subunitcolor\":\"white\"},\"hoverlabel\":{\"align\":\"left\"},\"hovermode\":\"closest\",\"mapbox\":{\"style\":\"light\"},\"paper_bgcolor\":\"white\",\"plot_bgcolor\":\"#E5ECF6\",\"polar\":{\"angularaxis\":{\"gridcolor\":\"white\",\"linecolor\":\"white\",\"ticks\":\"\"},\"bgcolor\":\"#E5ECF6\",\"radialaxis\":{\"gridcolor\":\"white\",\"linecolor\":\"white\",\"ticks\":\"\"}},\"scene\":{\"xaxis\":{\"backgroundcolor\":\"#E5ECF6\",\"gridcolor\":\"white\",\"gridwidth\":2,\"linecolor\":\"white\",\"showbackground\":true,\"ticks\":\"\",\"zerolinecolor\":\"white\"},\"yaxis\":{\"backgroundcolor\":\"#E5ECF6\",\"gridcolor\":\"white\",\"gridwidth\":2,\"linecolor\":\"white\",\"showbackground\":true,\"ticks\":\"\",\"zerolinecolor\":\"white\"},\"zaxis\":{\"backgroundcolor\":\"#E5ECF6\",\"gridcolor\":\"white\",\"gridwidth\":2,\"linecolor\":\"white\",\"showbackground\":true,\"ticks\":\"\",\"zerolinecolor\":\"white\"}},\"shapedefaults\":{\"line\":{\"color\":\"#2a3f5f\"}},\"ternary\":{\"aaxis\":{\"gridcolor\":\"white\",\"linecolor\":\"white\",\"ticks\":\"\"},\"baxis\":{\"gridcolor\":\"white\",\"linecolor\":\"white\",\"ticks\":\"\"},\"bgcolor\":\"#E5ECF6\",\"caxis\":{\"gridcolor\":\"white\",\"linecolor\":\"white\",\"ticks\":\"\"}},\"title\":{\"x\":0.05},\"xaxis\":{\"automargin\":true,\"gridcolor\":\"white\",\"linecolor\":\"white\",\"ticks\":\"\",\"title\":{\"standoff\":15},\"zerolinecolor\":\"white\",\"zerolinewidth\":2},\"yaxis\":{\"automargin\":true,\"gridcolor\":\"white\",\"linecolor\":\"white\",\"ticks\":\"\",\"title\":{\"standoff\":15},\"zerolinecolor\":\"white\",\"zerolinewidth\":2}}}},                        {\"responsive\": true}                    ).then(function(){\n",
              "                            \n",
              "var gd = document.getElementById('aa4f11b6-6128-4968-bca3-41a5fd8e12b9');\n",
              "var x = new MutationObserver(function (mutations, observer) {{\n",
              "        var display = window.getComputedStyle(gd).display;\n",
              "        if (!display || display === 'none') {{\n",
              "            console.log([gd, 'removed!']);\n",
              "            Plotly.purge(gd);\n",
              "            observer.disconnect();\n",
              "        }}\n",
              "}});\n",
              "\n",
              "// Listen for the removal of the full notebook cells\n",
              "var notebookContainer = gd.closest('#notebook-container');\n",
              "if (notebookContainer) {{\n",
              "    x.observe(notebookContainer, {childList: true});\n",
              "}}\n",
              "\n",
              "// Listen for the clearing of the current output cell\n",
              "var outputEl = gd.closest('.output');\n",
              "if (outputEl) {{\n",
              "    x.observe(outputEl, {childList: true});\n",
              "}}\n",
              "\n",
              "                        })                };                            </script>        </div>\n",
              "</body>\n",
              "</html>"
            ]
          },
          "metadata": {}
        }
      ]
    },
    {
      "cell_type": "code",
      "source": [
        "model.save('saved_model')"
      ],
      "metadata": {
        "id": "gFE2z72dBzeZ"
      },
      "execution_count": 88,
      "outputs": []
    },
    {
      "cell_type": "code",
      "source": [],
      "metadata": {
        "id": "3NoA9JttDKH2"
      },
      "execution_count": 88,
      "outputs": []
    }
  ]
}