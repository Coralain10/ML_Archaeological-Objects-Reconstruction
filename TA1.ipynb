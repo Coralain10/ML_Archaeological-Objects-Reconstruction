{
  "nbformat": 4,
  "nbformat_minor": 0,
  "metadata": {
    "colab": {
      "provenance": [],
      "collapsed_sections": [],
      "include_colab_link": true
    },
    "kernelspec": {
      "name": "python3",
      "display_name": "Python 3"
    },
    "language_info": {
      "name": "python"
    }
  },
  "cells": [
    {
      "cell_type": "markdown",
      "metadata": {
        "id": "view-in-github",
        "colab_type": "text"
      },
      "source": [
        "<a href=\"https://colab.research.google.com/github/Coralain10/ML_Archaeological-Objects-Reconstruction/blob/main/TA1.ipynb\" target=\"_parent\"><img src=\"https://colab.research.google.com/assets/colab-badge.svg\" alt=\"Open In Colab\"/></a>"
      ]
    },
    {
      "cell_type": "markdown",
      "source": [
        "#Datos"
      ],
      "metadata": {
        "id": "-o7x0gUN7J-e"
      }
    },
    {
      "cell_type": "code",
      "source": [
        "import tarfile\n",
        "import numpy as np\n",
        "import pandas as pd"
      ],
      "metadata": {
        "id": "rrKba-797TJF"
      },
      "execution_count": 1,
      "outputs": []
    },
    {
      "cell_type": "markdown",
      "source": [
        "## Recopilación"
      ],
      "metadata": {
        "id": "ZOxPJF2KQERd"
      }
    },
    {
      "cell_type": "code",
      "source": [
        "!wget -P /content/Data https://github.com/renato145/3D-ORGAN/blob/master/datasets/arq_dataset.tar.gz?raw=true"
      ],
      "metadata": {
        "colab": {
          "base_uri": "https://localhost:8080/"
        },
        "id": "CXupaWsz8dO6",
        "outputId": "8506b1b3-293a-4a3f-d45a-214e23b0e4ea"
      },
      "execution_count": 2,
      "outputs": [
        {
          "output_type": "stream",
          "name": "stdout",
          "text": [
            "--2022-09-28 06:34:46--  https://github.com/renato145/3D-ORGAN/blob/master/datasets/arq_dataset.tar.gz?raw=true\n",
            "Resolving github.com (github.com)... 140.82.112.4\n",
            "Connecting to github.com (github.com)|140.82.112.4|:443... connected.\n",
            "HTTP request sent, awaiting response... 302 Found\n",
            "Location: https://github.com/renato145/3D-ORGAN/raw/master/datasets/arq_dataset.tar.gz [following]\n",
            "--2022-09-28 06:34:46--  https://github.com/renato145/3D-ORGAN/raw/master/datasets/arq_dataset.tar.gz\n",
            "Reusing existing connection to github.com:443.\n",
            "HTTP request sent, awaiting response... 302 Found\n",
            "Location: https://raw.githubusercontent.com/renato145/3D-ORGAN/master/datasets/arq_dataset.tar.gz [following]\n",
            "--2022-09-28 06:34:47--  https://raw.githubusercontent.com/renato145/3D-ORGAN/master/datasets/arq_dataset.tar.gz\n",
            "Resolving raw.githubusercontent.com (raw.githubusercontent.com)... 185.199.108.133, 185.199.109.133, 185.199.110.133, ...\n",
            "Connecting to raw.githubusercontent.com (raw.githubusercontent.com)|185.199.108.133|:443... connected.\n",
            "HTTP request sent, awaiting response... 200 OK\n",
            "Length: 2813924 (2.7M) [application/octet-stream]\n",
            "Saving to: ‘/content/Data/arq_dataset.tar.gz?raw=true’\n",
            "\n",
            "arq_dataset.tar.gz? 100%[===================>]   2.68M  --.-KB/s    in 0.1s    \n",
            "\n",
            "2022-09-28 06:34:47 (26.4 MB/s) - ‘/content/Data/arq_dataset.tar.gz?raw=true’ saved [2813924/2813924]\n",
            "\n"
          ]
        }
      ]
    },
    {
      "cell_type": "code",
      "source": [
        "folder = \"/content/Data/\"\n",
        "file_tar = folder + \"arq_dataset.tar.gz?raw=true\"\n",
        "file_name = \"custom_arq_dataset.npy\""
      ],
      "metadata": {
        "id": "3CFhPB2F7OSE"
      },
      "execution_count": 3,
      "outputs": []
    },
    {
      "cell_type": "code",
      "execution_count": 4,
      "metadata": {
        "id": "tyh8yAz_68jj"
      },
      "outputs": [],
      "source": [
        "file = tarfile.open(file_tar)\n",
        "file.extract(file_name, folder)\n",
        "file.close()"
      ]
    },
    {
      "cell_type": "code",
      "source": [
        "data = np.load(folder+file_name, allow_pickle=True)\n",
        "data = data.reshape(1)"
      ],
      "metadata": {
        "id": "uWqQ49W47gTT"
      },
      "execution_count": 5,
      "outputs": []
    },
    {
      "cell_type": "code",
      "source": [
        "#data"
      ],
      "metadata": {
        "id": "A4J1zI6Q_Ihr"
      },
      "execution_count": 6,
      "outputs": []
    },
    {
      "cell_type": "markdown",
      "source": [
        "## A dataframe"
      ],
      "metadata": {
        "id": "HzsBPLnSQHVg"
      }
    },
    {
      "cell_type": "code",
      "source": [
        "train = data[0][\"train\"] #'labels' 'data'\n",
        "train = [train[\"labels\"],train[\"data\"]]\n",
        "#train\n",
        "#train[0][-1], train[1][0]"
      ],
      "metadata": {
        "id": "40KlN2UjEHvh"
      },
      "execution_count": 7,
      "outputs": []
    },
    {
      "cell_type": "code",
      "source": [
        "df = pd.DataFrame(train)\n",
        "df = df.T\n",
        "df.columns = ['labels','data']\n",
        "df"
      ],
      "metadata": {
        "colab": {
          "base_uri": "https://localhost:8080/",
          "height": 424
        },
        "id": "cjUbx9sXBE6O",
        "outputId": "0040f37e-67e6-45a4-9aa2-c518665f338f"
      },
      "execution_count": 8,
      "outputs": [
        {
          "output_type": "execute_result",
          "data": {
            "text/plain": [
              "       labels                                               data\n",
              "0     bathtub  [[[False, False, False, False, False, False, F...\n",
              "1     bathtub  [[[False, False, False, False, False, False, F...\n",
              "2     bathtub  [[[False, False, False, False, False, False, F...\n",
              "3     bathtub  [[[False, False, False, False, False, False, F...\n",
              "4     bathtub  [[[False, False, False, False, False, False, F...\n",
              "...       ...                                                ...\n",
              "4918      arq  [[[False, False, False, False, False, False, F...\n",
              "4919      arq  [[[False, False, False, False, False, False, F...\n",
              "4920      arq  [[[False, False, False, False, False, False, F...\n",
              "4921      arq  [[[False, False, False, False, False, False, F...\n",
              "4922      arq  [[[False, False, False, False, False, False, F...\n",
              "\n",
              "[4923 rows x 2 columns]"
            ],
            "text/html": [
              "\n",
              "  <div id=\"df-bfa98439-0ef1-48ab-ae20-afb3a828b161\">\n",
              "    <div class=\"colab-df-container\">\n",
              "      <div>\n",
              "<style scoped>\n",
              "    .dataframe tbody tr th:only-of-type {\n",
              "        vertical-align: middle;\n",
              "    }\n",
              "\n",
              "    .dataframe tbody tr th {\n",
              "        vertical-align: top;\n",
              "    }\n",
              "\n",
              "    .dataframe thead th {\n",
              "        text-align: right;\n",
              "    }\n",
              "</style>\n",
              "<table border=\"1\" class=\"dataframe\">\n",
              "  <thead>\n",
              "    <tr style=\"text-align: right;\">\n",
              "      <th></th>\n",
              "      <th>labels</th>\n",
              "      <th>data</th>\n",
              "    </tr>\n",
              "  </thead>\n",
              "  <tbody>\n",
              "    <tr>\n",
              "      <th>0</th>\n",
              "      <td>bathtub</td>\n",
              "      <td>[[[False, False, False, False, False, False, F...</td>\n",
              "    </tr>\n",
              "    <tr>\n",
              "      <th>1</th>\n",
              "      <td>bathtub</td>\n",
              "      <td>[[[False, False, False, False, False, False, F...</td>\n",
              "    </tr>\n",
              "    <tr>\n",
              "      <th>2</th>\n",
              "      <td>bathtub</td>\n",
              "      <td>[[[False, False, False, False, False, False, F...</td>\n",
              "    </tr>\n",
              "    <tr>\n",
              "      <th>3</th>\n",
              "      <td>bathtub</td>\n",
              "      <td>[[[False, False, False, False, False, False, F...</td>\n",
              "    </tr>\n",
              "    <tr>\n",
              "      <th>4</th>\n",
              "      <td>bathtub</td>\n",
              "      <td>[[[False, False, False, False, False, False, F...</td>\n",
              "    </tr>\n",
              "    <tr>\n",
              "      <th>...</th>\n",
              "      <td>...</td>\n",
              "      <td>...</td>\n",
              "    </tr>\n",
              "    <tr>\n",
              "      <th>4918</th>\n",
              "      <td>arq</td>\n",
              "      <td>[[[False, False, False, False, False, False, F...</td>\n",
              "    </tr>\n",
              "    <tr>\n",
              "      <th>4919</th>\n",
              "      <td>arq</td>\n",
              "      <td>[[[False, False, False, False, False, False, F...</td>\n",
              "    </tr>\n",
              "    <tr>\n",
              "      <th>4920</th>\n",
              "      <td>arq</td>\n",
              "      <td>[[[False, False, False, False, False, False, F...</td>\n",
              "    </tr>\n",
              "    <tr>\n",
              "      <th>4921</th>\n",
              "      <td>arq</td>\n",
              "      <td>[[[False, False, False, False, False, False, F...</td>\n",
              "    </tr>\n",
              "    <tr>\n",
              "      <th>4922</th>\n",
              "      <td>arq</td>\n",
              "      <td>[[[False, False, False, False, False, False, F...</td>\n",
              "    </tr>\n",
              "  </tbody>\n",
              "</table>\n",
              "<p>4923 rows × 2 columns</p>\n",
              "</div>\n",
              "      <button class=\"colab-df-convert\" onclick=\"convertToInteractive('df-bfa98439-0ef1-48ab-ae20-afb3a828b161')\"\n",
              "              title=\"Convert this dataframe to an interactive table.\"\n",
              "              style=\"display:none;\">\n",
              "        \n",
              "  <svg xmlns=\"http://www.w3.org/2000/svg\" height=\"24px\"viewBox=\"0 0 24 24\"\n",
              "       width=\"24px\">\n",
              "    <path d=\"M0 0h24v24H0V0z\" fill=\"none\"/>\n",
              "    <path d=\"M18.56 5.44l.94 2.06.94-2.06 2.06-.94-2.06-.94-.94-2.06-.94 2.06-2.06.94zm-11 1L8.5 8.5l.94-2.06 2.06-.94-2.06-.94L8.5 2.5l-.94 2.06-2.06.94zm10 10l.94 2.06.94-2.06 2.06-.94-2.06-.94-.94-2.06-.94 2.06-2.06.94z\"/><path d=\"M17.41 7.96l-1.37-1.37c-.4-.4-.92-.59-1.43-.59-.52 0-1.04.2-1.43.59L10.3 9.45l-7.72 7.72c-.78.78-.78 2.05 0 2.83L4 21.41c.39.39.9.59 1.41.59.51 0 1.02-.2 1.41-.59l7.78-7.78 2.81-2.81c.8-.78.8-2.07 0-2.86zM5.41 20L4 18.59l7.72-7.72 1.47 1.35L5.41 20z\"/>\n",
              "  </svg>\n",
              "      </button>\n",
              "      \n",
              "  <style>\n",
              "    .colab-df-container {\n",
              "      display:flex;\n",
              "      flex-wrap:wrap;\n",
              "      gap: 12px;\n",
              "    }\n",
              "\n",
              "    .colab-df-convert {\n",
              "      background-color: #E8F0FE;\n",
              "      border: none;\n",
              "      border-radius: 50%;\n",
              "      cursor: pointer;\n",
              "      display: none;\n",
              "      fill: #1967D2;\n",
              "      height: 32px;\n",
              "      padding: 0 0 0 0;\n",
              "      width: 32px;\n",
              "    }\n",
              "\n",
              "    .colab-df-convert:hover {\n",
              "      background-color: #E2EBFA;\n",
              "      box-shadow: 0px 1px 2px rgba(60, 64, 67, 0.3), 0px 1px 3px 1px rgba(60, 64, 67, 0.15);\n",
              "      fill: #174EA6;\n",
              "    }\n",
              "\n",
              "    [theme=dark] .colab-df-convert {\n",
              "      background-color: #3B4455;\n",
              "      fill: #D2E3FC;\n",
              "    }\n",
              "\n",
              "    [theme=dark] .colab-df-convert:hover {\n",
              "      background-color: #434B5C;\n",
              "      box-shadow: 0px 1px 3px 1px rgba(0, 0, 0, 0.15);\n",
              "      filter: drop-shadow(0px 1px 2px rgba(0, 0, 0, 0.3));\n",
              "      fill: #FFFFFF;\n",
              "    }\n",
              "  </style>\n",
              "\n",
              "      <script>\n",
              "        const buttonEl =\n",
              "          document.querySelector('#df-bfa98439-0ef1-48ab-ae20-afb3a828b161 button.colab-df-convert');\n",
              "        buttonEl.style.display =\n",
              "          google.colab.kernel.accessAllowed ? 'block' : 'none';\n",
              "\n",
              "        async function convertToInteractive(key) {\n",
              "          const element = document.querySelector('#df-bfa98439-0ef1-48ab-ae20-afb3a828b161');\n",
              "          const dataTable =\n",
              "            await google.colab.kernel.invokeFunction('convertToInteractive',\n",
              "                                                     [key], {});\n",
              "          if (!dataTable) return;\n",
              "\n",
              "          const docLinkHtml = 'Like what you see? Visit the ' +\n",
              "            '<a target=\"_blank\" href=https://colab.research.google.com/notebooks/data_table.ipynb>data table notebook</a>'\n",
              "            + ' to learn more about interactive tables.';\n",
              "          element.innerHTML = '';\n",
              "          dataTable['output_type'] = 'display_data';\n",
              "          await google.colab.output.renderOutput(dataTable, element);\n",
              "          const docLink = document.createElement('div');\n",
              "          docLink.innerHTML = docLinkHtml;\n",
              "          element.appendChild(docLink);\n",
              "        }\n",
              "      </script>\n",
              "    </div>\n",
              "  </div>\n",
              "  "
            ]
          },
          "metadata": {},
          "execution_count": 8
        }
      ]
    },
    {
      "cell_type": "markdown",
      "source": [
        "## Selección de tipo de objeto"
      ],
      "metadata": {
        "id": "4IQmAvIOQOe-"
      }
    },
    {
      "cell_type": "code",
      "source": [
        "tipos = df['labels'].unique()\n",
        "tipos"
      ],
      "metadata": {
        "colab": {
          "base_uri": "https://localhost:8080/"
        },
        "id": "gvjNhGJYQbn9",
        "outputId": "a94dceff-091b-4e77-961a-be9c0d438241"
      },
      "execution_count": 9,
      "outputs": [
        {
          "output_type": "execute_result",
          "data": {
            "text/plain": [
              "array(['bathtub', 'dresser', 'chair', 'night_stand', 'toilet', 'monitor',\n",
              "       'table', 'bed', 'sofa', 'desk', 'arq'], dtype=object)"
            ]
          },
          "metadata": {},
          "execution_count": 9
        }
      ]
    },
    {
      "cell_type": "code",
      "source": [
        "tipo = \"sofa\"  #@param ['bathtub', 'dresser', 'chair', 'night_stand', 'toilet', 'monitor', 'table', 'bed', 'sofa', 'desk', 'arq']\n",
        "data_tipo = df[ df['labels']==tipo ]\n",
        "data_tipo"
      ],
      "metadata": {
        "colab": {
          "base_uri": "https://localhost:8080/",
          "height": 424
        },
        "id": "_t84BfwZQylE",
        "outputId": "ea28c4ad-dda0-480d-bd1e-4db91594d199"
      },
      "execution_count": 10,
      "outputs": [
        {
          "output_type": "execute_result",
          "data": {
            "text/plain": [
              "     labels                                               data\n",
              "3111   sofa  [[[False, False, False, False, False, False, F...\n",
              "3112   sofa  [[[False, False, False, False, False, False, F...\n",
              "3113   sofa  [[[False, False, False, False, False, False, F...\n",
              "3114   sofa  [[[False, False, False, False, False, False, F...\n",
              "3115   sofa  [[[False, False, False, False, False, False, F...\n",
              "...     ...                                                ...\n",
              "3786   sofa  [[[False, False, False, False, False, False, F...\n",
              "3787   sofa  [[[False, False, False, False, False, False, F...\n",
              "3788   sofa  [[[False, False, False, False, False, False, F...\n",
              "3789   sofa  [[[False, False, False, False, False, False, F...\n",
              "3790   sofa  [[[False, False, False, False, False, False, F...\n",
              "\n",
              "[680 rows x 2 columns]"
            ],
            "text/html": [
              "\n",
              "  <div id=\"df-e75fb899-8517-4e31-9b44-57a38db3cc64\">\n",
              "    <div class=\"colab-df-container\">\n",
              "      <div>\n",
              "<style scoped>\n",
              "    .dataframe tbody tr th:only-of-type {\n",
              "        vertical-align: middle;\n",
              "    }\n",
              "\n",
              "    .dataframe tbody tr th {\n",
              "        vertical-align: top;\n",
              "    }\n",
              "\n",
              "    .dataframe thead th {\n",
              "        text-align: right;\n",
              "    }\n",
              "</style>\n",
              "<table border=\"1\" class=\"dataframe\">\n",
              "  <thead>\n",
              "    <tr style=\"text-align: right;\">\n",
              "      <th></th>\n",
              "      <th>labels</th>\n",
              "      <th>data</th>\n",
              "    </tr>\n",
              "  </thead>\n",
              "  <tbody>\n",
              "    <tr>\n",
              "      <th>3111</th>\n",
              "      <td>sofa</td>\n",
              "      <td>[[[False, False, False, False, False, False, F...</td>\n",
              "    </tr>\n",
              "    <tr>\n",
              "      <th>3112</th>\n",
              "      <td>sofa</td>\n",
              "      <td>[[[False, False, False, False, False, False, F...</td>\n",
              "    </tr>\n",
              "    <tr>\n",
              "      <th>3113</th>\n",
              "      <td>sofa</td>\n",
              "      <td>[[[False, False, False, False, False, False, F...</td>\n",
              "    </tr>\n",
              "    <tr>\n",
              "      <th>3114</th>\n",
              "      <td>sofa</td>\n",
              "      <td>[[[False, False, False, False, False, False, F...</td>\n",
              "    </tr>\n",
              "    <tr>\n",
              "      <th>3115</th>\n",
              "      <td>sofa</td>\n",
              "      <td>[[[False, False, False, False, False, False, F...</td>\n",
              "    </tr>\n",
              "    <tr>\n",
              "      <th>...</th>\n",
              "      <td>...</td>\n",
              "      <td>...</td>\n",
              "    </tr>\n",
              "    <tr>\n",
              "      <th>3786</th>\n",
              "      <td>sofa</td>\n",
              "      <td>[[[False, False, False, False, False, False, F...</td>\n",
              "    </tr>\n",
              "    <tr>\n",
              "      <th>3787</th>\n",
              "      <td>sofa</td>\n",
              "      <td>[[[False, False, False, False, False, False, F...</td>\n",
              "    </tr>\n",
              "    <tr>\n",
              "      <th>3788</th>\n",
              "      <td>sofa</td>\n",
              "      <td>[[[False, False, False, False, False, False, F...</td>\n",
              "    </tr>\n",
              "    <tr>\n",
              "      <th>3789</th>\n",
              "      <td>sofa</td>\n",
              "      <td>[[[False, False, False, False, False, False, F...</td>\n",
              "    </tr>\n",
              "    <tr>\n",
              "      <th>3790</th>\n",
              "      <td>sofa</td>\n",
              "      <td>[[[False, False, False, False, False, False, F...</td>\n",
              "    </tr>\n",
              "  </tbody>\n",
              "</table>\n",
              "<p>680 rows × 2 columns</p>\n",
              "</div>\n",
              "      <button class=\"colab-df-convert\" onclick=\"convertToInteractive('df-e75fb899-8517-4e31-9b44-57a38db3cc64')\"\n",
              "              title=\"Convert this dataframe to an interactive table.\"\n",
              "              style=\"display:none;\">\n",
              "        \n",
              "  <svg xmlns=\"http://www.w3.org/2000/svg\" height=\"24px\"viewBox=\"0 0 24 24\"\n",
              "       width=\"24px\">\n",
              "    <path d=\"M0 0h24v24H0V0z\" fill=\"none\"/>\n",
              "    <path d=\"M18.56 5.44l.94 2.06.94-2.06 2.06-.94-2.06-.94-.94-2.06-.94 2.06-2.06.94zm-11 1L8.5 8.5l.94-2.06 2.06-.94-2.06-.94L8.5 2.5l-.94 2.06-2.06.94zm10 10l.94 2.06.94-2.06 2.06-.94-2.06-.94-.94-2.06-.94 2.06-2.06.94z\"/><path d=\"M17.41 7.96l-1.37-1.37c-.4-.4-.92-.59-1.43-.59-.52 0-1.04.2-1.43.59L10.3 9.45l-7.72 7.72c-.78.78-.78 2.05 0 2.83L4 21.41c.39.39.9.59 1.41.59.51 0 1.02-.2 1.41-.59l7.78-7.78 2.81-2.81c.8-.78.8-2.07 0-2.86zM5.41 20L4 18.59l7.72-7.72 1.47 1.35L5.41 20z\"/>\n",
              "  </svg>\n",
              "      </button>\n",
              "      \n",
              "  <style>\n",
              "    .colab-df-container {\n",
              "      display:flex;\n",
              "      flex-wrap:wrap;\n",
              "      gap: 12px;\n",
              "    }\n",
              "\n",
              "    .colab-df-convert {\n",
              "      background-color: #E8F0FE;\n",
              "      border: none;\n",
              "      border-radius: 50%;\n",
              "      cursor: pointer;\n",
              "      display: none;\n",
              "      fill: #1967D2;\n",
              "      height: 32px;\n",
              "      padding: 0 0 0 0;\n",
              "      width: 32px;\n",
              "    }\n",
              "\n",
              "    .colab-df-convert:hover {\n",
              "      background-color: #E2EBFA;\n",
              "      box-shadow: 0px 1px 2px rgba(60, 64, 67, 0.3), 0px 1px 3px 1px rgba(60, 64, 67, 0.15);\n",
              "      fill: #174EA6;\n",
              "    }\n",
              "\n",
              "    [theme=dark] .colab-df-convert {\n",
              "      background-color: #3B4455;\n",
              "      fill: #D2E3FC;\n",
              "    }\n",
              "\n",
              "    [theme=dark] .colab-df-convert:hover {\n",
              "      background-color: #434B5C;\n",
              "      box-shadow: 0px 1px 3px 1px rgba(0, 0, 0, 0.15);\n",
              "      filter: drop-shadow(0px 1px 2px rgba(0, 0, 0, 0.3));\n",
              "      fill: #FFFFFF;\n",
              "    }\n",
              "  </style>\n",
              "\n",
              "      <script>\n",
              "        const buttonEl =\n",
              "          document.querySelector('#df-e75fb899-8517-4e31-9b44-57a38db3cc64 button.colab-df-convert');\n",
              "        buttonEl.style.display =\n",
              "          google.colab.kernel.accessAllowed ? 'block' : 'none';\n",
              "\n",
              "        async function convertToInteractive(key) {\n",
              "          const element = document.querySelector('#df-e75fb899-8517-4e31-9b44-57a38db3cc64');\n",
              "          const dataTable =\n",
              "            await google.colab.kernel.invokeFunction('convertToInteractive',\n",
              "                                                     [key], {});\n",
              "          if (!dataTable) return;\n",
              "\n",
              "          const docLinkHtml = 'Like what you see? Visit the ' +\n",
              "            '<a target=\"_blank\" href=https://colab.research.google.com/notebooks/data_table.ipynb>data table notebook</a>'\n",
              "            + ' to learn more about interactive tables.';\n",
              "          element.innerHTML = '';\n",
              "          dataTable['output_type'] = 'display_data';\n",
              "          await google.colab.output.renderOutput(dataTable, element);\n",
              "          const docLink = document.createElement('div');\n",
              "          docLink.innerHTML = docLinkHtml;\n",
              "          element.appendChild(docLink);\n",
              "        }\n",
              "      </script>\n",
              "    </div>\n",
              "  </div>\n",
              "  "
            ]
          },
          "metadata": {},
          "execution_count": 10
        }
      ]
    },
    {
      "cell_type": "markdown",
      "source": [
        "# Conversión de Binvox a STL"
      ],
      "metadata": {
        "id": "gerwiO3IV91x"
      }
    },
    {
      "cell_type": "code",
      "source": [
        "!pip install voxelfuse"
      ],
      "metadata": {
        "id": "m5JzBbK2WMT4",
        "colab": {
          "base_uri": "https://localhost:8080/"
        },
        "outputId": "f0a4e3f2-2468-4cc5-c455-ce4c38f4947b"
      },
      "execution_count": 15,
      "outputs": [
        {
          "output_type": "stream",
          "name": "stdout",
          "text": [
            "Looking in indexes: https://pypi.org/simple, https://us-python.pkg.dev/colab-wheels/public/simple/\n",
            "Collecting voxelfuse\n",
            "  Downloading voxelfuse-1.2.8-py3-none-any.whl (63.0 MB)\n",
            "\u001b[K     |████████████████████████████████| 63.0 MB 10 kB/s \n",
            "\u001b[?25hRequirement already satisfied: pyopengl>=3.1.5 in /usr/local/lib/python3.7/dist-packages (from voxelfuse) (3.1.6)\n",
            "Collecting pyqtgraph>=0.12.1\n",
            "  Downloading pyqtgraph-0.12.4-py3-none-any.whl (995 kB)\n",
            "\u001b[K     |████████████████████████████████| 995 kB 53.1 MB/s \n",
            "\u001b[?25hRequirement already satisfied: scipy>=1.6.3 in /usr/local/lib/python3.7/dist-packages (from voxelfuse) (1.7.3)\n",
            "Requirement already satisfied: tqdm>=4.60.0 in /usr/local/lib/python3.7/dist-packages (from voxelfuse) (4.64.1)\n",
            "Collecting PyMCubes>=0.1.2\n",
            "  Downloading PyMCubes-0.1.2-cp37-cp37m-manylinux2010_x86_64.whl (265 kB)\n",
            "\u001b[K     |████████████████████████████████| 265 kB 69.2 MB/s \n",
            "\u001b[?25hCollecting pyqt5>=5.15.4\n",
            "  Downloading PyQt5-5.15.7-cp37-abi3-manylinux1_x86_64.whl (8.4 MB)\n",
            "\u001b[K     |████████████████████████████████| 8.4 MB 1.3 MB/s \n",
            "\u001b[?25hCollecting k3d>=2.9.4\n",
            "  Downloading k3d-2.14.5-py2.py3-none-any.whl (15.1 MB)\n",
            "\u001b[K     |████████████████████████████████| 15.1 MB 34.0 MB/s \n",
            "\u001b[?25hCollecting meshio>=4.4.3\n",
            "  Downloading meshio-5.3.4-py3-none-any.whl (167 kB)\n",
            "\u001b[K     |████████████████████████████████| 167 kB 65.0 MB/s \n",
            "\u001b[?25hRequirement already satisfied: numba>=0.53.1 in /usr/local/lib/python3.7/dist-packages (from voxelfuse) (0.56.2)\n",
            "Collecting quad-mesh-simplify>=1.1.4\n",
            "  Downloading quad_mesh_simplify-1.1.5-cp37-cp37m-manylinux_2_5_x86_64.manylinux1_x86_64.manylinux_2_12_x86_64.manylinux2010_x86_64.whl (129 kB)\n",
            "\u001b[K     |████████████████████████████████| 129 kB 47.2 MB/s \n",
            "\u001b[?25hRequirement already satisfied: numpy>=1.20.3 in /usr/local/lib/python3.7/dist-packages (from voxelfuse) (1.21.6)\n",
            "Collecting py-vox-io>=0.1\n",
            "  Downloading py-vox-io-0.1.tar.gz (4.8 kB)\n",
            "Requirement already satisfied: ipywidgets in /usr/local/lib/python3.7/dist-packages (from k3d>=2.9.4->voxelfuse) (7.7.1)\n",
            "Requirement already satisfied: msgpack in /usr/local/lib/python3.7/dist-packages (from k3d>=2.9.4->voxelfuse) (1.0.4)\n",
            "Collecting traittypes\n",
            "  Downloading traittypes-0.2.1-py2.py3-none-any.whl (8.6 kB)\n",
            "Requirement already satisfied: traitlets in /usr/local/lib/python3.7/dist-packages (from k3d>=2.9.4->voxelfuse) (5.1.1)\n",
            "Requirement already satisfied: importlib-metadata in /usr/local/lib/python3.7/dist-packages (from meshio>=4.4.3->voxelfuse) (4.12.0)\n",
            "Collecting rich\n",
            "  Downloading rich-12.5.1-py3-none-any.whl (235 kB)\n",
            "\u001b[K     |████████████████████████████████| 235 kB 56.9 MB/s \n",
            "\u001b[?25hRequirement already satisfied: llvmlite<0.40,>=0.39.0dev0 in /usr/local/lib/python3.7/dist-packages (from numba>=0.53.1->voxelfuse) (0.39.1)\n",
            "Requirement already satisfied: setuptools<60 in /usr/local/lib/python3.7/dist-packages (from numba>=0.53.1->voxelfuse) (57.4.0)\n",
            "Collecting PyQt5-Qt5>=5.15.0\n",
            "  Downloading PyQt5_Qt5-5.15.2-py3-none-manylinux2014_x86_64.whl (59.9 MB)\n",
            "\u001b[K     |████████████████████████████████| 59.9 MB 123 kB/s \n",
            "\u001b[?25hCollecting PyQt5-sip<13,>=12.11\n",
            "  Downloading PyQt5_sip-12.11.0-cp37-cp37m-manylinux1_x86_64.whl (344 kB)\n",
            "\u001b[K     |████████████████████████████████| 344 kB 38.8 MB/s \n",
            "\u001b[?25hRequirement already satisfied: cython in /usr/local/lib/python3.7/dist-packages (from quad-mesh-simplify>=1.1.4->voxelfuse) (0.29.32)\n",
            "Requirement already satisfied: typing-extensions>=3.6.4 in /usr/local/lib/python3.7/dist-packages (from importlib-metadata->meshio>=4.4.3->voxelfuse) (4.1.1)\n",
            "Requirement already satisfied: zipp>=0.5 in /usr/local/lib/python3.7/dist-packages (from importlib-metadata->meshio>=4.4.3->voxelfuse) (3.8.1)\n",
            "Requirement already satisfied: ipython-genutils~=0.2.0 in /usr/local/lib/python3.7/dist-packages (from ipywidgets->k3d>=2.9.4->voxelfuse) (0.2.0)\n",
            "Requirement already satisfied: ipykernel>=4.5.1 in /usr/local/lib/python3.7/dist-packages (from ipywidgets->k3d>=2.9.4->voxelfuse) (5.3.4)\n",
            "Requirement already satisfied: jupyterlab-widgets>=1.0.0 in /usr/local/lib/python3.7/dist-packages (from ipywidgets->k3d>=2.9.4->voxelfuse) (3.0.3)\n",
            "Requirement already satisfied: widgetsnbextension~=3.6.0 in /usr/local/lib/python3.7/dist-packages (from ipywidgets->k3d>=2.9.4->voxelfuse) (3.6.1)\n",
            "Requirement already satisfied: ipython>=4.0.0 in /usr/local/lib/python3.7/dist-packages (from ipywidgets->k3d>=2.9.4->voxelfuse) (7.9.0)\n",
            "Requirement already satisfied: tornado>=4.2 in /usr/local/lib/python3.7/dist-packages (from ipykernel>=4.5.1->ipywidgets->k3d>=2.9.4->voxelfuse) (5.1.1)\n",
            "Requirement already satisfied: jupyter-client in /usr/local/lib/python3.7/dist-packages (from ipykernel>=4.5.1->ipywidgets->k3d>=2.9.4->voxelfuse) (6.1.12)\n",
            "Collecting jedi>=0.10\n",
            "  Downloading jedi-0.18.1-py2.py3-none-any.whl (1.6 MB)\n",
            "\u001b[K     |████████████████████████████████| 1.6 MB 68.8 MB/s \n",
            "\u001b[?25hRequirement already satisfied: prompt-toolkit<2.1.0,>=2.0.0 in /usr/local/lib/python3.7/dist-packages (from ipython>=4.0.0->ipywidgets->k3d>=2.9.4->voxelfuse) (2.0.10)\n",
            "Requirement already satisfied: decorator in /usr/local/lib/python3.7/dist-packages (from ipython>=4.0.0->ipywidgets->k3d>=2.9.4->voxelfuse) (4.4.2)\n",
            "Requirement already satisfied: backcall in /usr/local/lib/python3.7/dist-packages (from ipython>=4.0.0->ipywidgets->k3d>=2.9.4->voxelfuse) (0.2.0)\n",
            "Requirement already satisfied: pexpect in /usr/local/lib/python3.7/dist-packages (from ipython>=4.0.0->ipywidgets->k3d>=2.9.4->voxelfuse) (4.8.0)\n",
            "Requirement already satisfied: pickleshare in /usr/local/lib/python3.7/dist-packages (from ipython>=4.0.0->ipywidgets->k3d>=2.9.4->voxelfuse) (0.7.5)\n",
            "Requirement already satisfied: pygments in /usr/local/lib/python3.7/dist-packages (from ipython>=4.0.0->ipywidgets->k3d>=2.9.4->voxelfuse) (2.6.1)\n",
            "Requirement already satisfied: parso<0.9.0,>=0.8.0 in /usr/local/lib/python3.7/dist-packages (from jedi>=0.10->ipython>=4.0.0->ipywidgets->k3d>=2.9.4->voxelfuse) (0.8.3)\n",
            "Requirement already satisfied: wcwidth in /usr/local/lib/python3.7/dist-packages (from prompt-toolkit<2.1.0,>=2.0.0->ipython>=4.0.0->ipywidgets->k3d>=2.9.4->voxelfuse) (0.2.5)\n",
            "Requirement already satisfied: six>=1.9.0 in /usr/local/lib/python3.7/dist-packages (from prompt-toolkit<2.1.0,>=2.0.0->ipython>=4.0.0->ipywidgets->k3d>=2.9.4->voxelfuse) (1.15.0)\n",
            "Requirement already satisfied: notebook>=4.4.1 in /usr/local/lib/python3.7/dist-packages (from widgetsnbextension~=3.6.0->ipywidgets->k3d>=2.9.4->voxelfuse) (5.3.1)\n",
            "Requirement already satisfied: nbconvert in /usr/local/lib/python3.7/dist-packages (from notebook>=4.4.1->widgetsnbextension~=3.6.0->ipywidgets->k3d>=2.9.4->voxelfuse) (5.6.1)\n",
            "Requirement already satisfied: jinja2 in /usr/local/lib/python3.7/dist-packages (from notebook>=4.4.1->widgetsnbextension~=3.6.0->ipywidgets->k3d>=2.9.4->voxelfuse) (2.11.3)\n",
            "Requirement already satisfied: terminado>=0.8.1 in /usr/local/lib/python3.7/dist-packages (from notebook>=4.4.1->widgetsnbextension~=3.6.0->ipywidgets->k3d>=2.9.4->voxelfuse) (0.13.3)\n",
            "Requirement already satisfied: jupyter-core>=4.4.0 in /usr/local/lib/python3.7/dist-packages (from notebook>=4.4.1->widgetsnbextension~=3.6.0->ipywidgets->k3d>=2.9.4->voxelfuse) (4.11.1)\n",
            "Requirement already satisfied: Send2Trash in /usr/local/lib/python3.7/dist-packages (from notebook>=4.4.1->widgetsnbextension~=3.6.0->ipywidgets->k3d>=2.9.4->voxelfuse) (1.8.0)\n",
            "Requirement already satisfied: nbformat in /usr/local/lib/python3.7/dist-packages (from notebook>=4.4.1->widgetsnbextension~=3.6.0->ipywidgets->k3d>=2.9.4->voxelfuse) (5.4.0)\n",
            "Requirement already satisfied: pyzmq>=13 in /usr/local/lib/python3.7/dist-packages (from jupyter-client->ipykernel>=4.5.1->ipywidgets->k3d>=2.9.4->voxelfuse) (23.2.1)\n",
            "Requirement already satisfied: python-dateutil>=2.1 in /usr/local/lib/python3.7/dist-packages (from jupyter-client->ipykernel>=4.5.1->ipywidgets->k3d>=2.9.4->voxelfuse) (2.8.2)\n",
            "Requirement already satisfied: ptyprocess in /usr/local/lib/python3.7/dist-packages (from terminado>=0.8.1->notebook>=4.4.1->widgetsnbextension~=3.6.0->ipywidgets->k3d>=2.9.4->voxelfuse) (0.7.0)\n",
            "Requirement already satisfied: MarkupSafe>=0.23 in /usr/local/lib/python3.7/dist-packages (from jinja2->notebook>=4.4.1->widgetsnbextension~=3.6.0->ipywidgets->k3d>=2.9.4->voxelfuse) (2.0.1)\n",
            "Requirement already satisfied: testpath in /usr/local/lib/python3.7/dist-packages (from nbconvert->notebook>=4.4.1->widgetsnbextension~=3.6.0->ipywidgets->k3d>=2.9.4->voxelfuse) (0.6.0)\n",
            "Requirement already satisfied: pandocfilters>=1.4.1 in /usr/local/lib/python3.7/dist-packages (from nbconvert->notebook>=4.4.1->widgetsnbextension~=3.6.0->ipywidgets->k3d>=2.9.4->voxelfuse) (1.5.0)\n",
            "Requirement already satisfied: bleach in /usr/local/lib/python3.7/dist-packages (from nbconvert->notebook>=4.4.1->widgetsnbextension~=3.6.0->ipywidgets->k3d>=2.9.4->voxelfuse) (5.0.1)\n",
            "Requirement already satisfied: defusedxml in /usr/local/lib/python3.7/dist-packages (from nbconvert->notebook>=4.4.1->widgetsnbextension~=3.6.0->ipywidgets->k3d>=2.9.4->voxelfuse) (0.7.1)\n",
            "Requirement already satisfied: mistune<2,>=0.8.1 in /usr/local/lib/python3.7/dist-packages (from nbconvert->notebook>=4.4.1->widgetsnbextension~=3.6.0->ipywidgets->k3d>=2.9.4->voxelfuse) (0.8.4)\n",
            "Requirement already satisfied: entrypoints>=0.2.2 in /usr/local/lib/python3.7/dist-packages (from nbconvert->notebook>=4.4.1->widgetsnbextension~=3.6.0->ipywidgets->k3d>=2.9.4->voxelfuse) (0.4)\n",
            "Requirement already satisfied: jsonschema>=2.6 in /usr/local/lib/python3.7/dist-packages (from nbformat->notebook>=4.4.1->widgetsnbextension~=3.6.0->ipywidgets->k3d>=2.9.4->voxelfuse) (4.3.3)\n",
            "Requirement already satisfied: fastjsonschema in /usr/local/lib/python3.7/dist-packages (from nbformat->notebook>=4.4.1->widgetsnbextension~=3.6.0->ipywidgets->k3d>=2.9.4->voxelfuse) (2.16.1)\n",
            "Requirement already satisfied: importlib-resources>=1.4.0 in /usr/local/lib/python3.7/dist-packages (from jsonschema>=2.6->nbformat->notebook>=4.4.1->widgetsnbextension~=3.6.0->ipywidgets->k3d>=2.9.4->voxelfuse) (5.9.0)\n",
            "Requirement already satisfied: pyrsistent!=0.17.0,!=0.17.1,!=0.17.2,>=0.14.0 in /usr/local/lib/python3.7/dist-packages (from jsonschema>=2.6->nbformat->notebook>=4.4.1->widgetsnbextension~=3.6.0->ipywidgets->k3d>=2.9.4->voxelfuse) (0.18.1)\n",
            "Requirement already satisfied: attrs>=17.4.0 in /usr/local/lib/python3.7/dist-packages (from jsonschema>=2.6->nbformat->notebook>=4.4.1->widgetsnbextension~=3.6.0->ipywidgets->k3d>=2.9.4->voxelfuse) (22.1.0)\n",
            "Requirement already satisfied: webencodings in /usr/local/lib/python3.7/dist-packages (from bleach->nbconvert->notebook>=4.4.1->widgetsnbextension~=3.6.0->ipywidgets->k3d>=2.9.4->voxelfuse) (0.5.1)\n",
            "Collecting commonmark<0.10.0,>=0.9.0\n",
            "  Downloading commonmark-0.9.1-py2.py3-none-any.whl (51 kB)\n",
            "\u001b[K     |████████████████████████████████| 51 kB 6.1 MB/s \n",
            "\u001b[?25hBuilding wheels for collected packages: py-vox-io\n",
            "  Building wheel for py-vox-io (setup.py) ... \u001b[?25l\u001b[?25hdone\n",
            "  Created wheel for py-vox-io: filename=py_vox_io-0.1-py3-none-any.whl size=5719 sha256=cf461a5a8edf385e035f1730cdccd4048f1bab5348636405d27613d227680037\n",
            "  Stored in directory: /root/.cache/pip/wheels/65/81/5c/d22c041200951b072c78e0fe0257b8be428739cd0fdab38791\n",
            "Successfully built py-vox-io\n",
            "Installing collected packages: jedi, commonmark, traittypes, rich, PyQt5-sip, PyQt5-Qt5, quad-mesh-simplify, pyqtgraph, pyqt5, PyMCubes, py-vox-io, meshio, k3d, voxelfuse\n",
            "Successfully installed PyMCubes-0.1.2 PyQt5-Qt5-5.15.2 PyQt5-sip-12.11.0 commonmark-0.9.1 jedi-0.18.1 k3d-2.14.5 meshio-5.3.4 py-vox-io-0.1 pyqt5-5.15.7 pyqtgraph-0.12.4 quad-mesh-simplify-1.1.5 rich-12.5.1 traittypes-0.2.1 voxelfuse-1.2.8\n"
          ]
        }
      ]
    },
    {
      "cell_type": "code",
      "source": [
        "\"\"\"\n",
        "IMPORTANTE\n",
        "Para el correcto funcionamiento de los import, es necesario eliminar \n",
        "la linea: \"from quad_mesh_simplify import simplify_mesh\" del \n",
        "archivo mesh.py.\n",
        "\"\"\"\n",
        "from voxelfuse.voxel_model import VoxelModel\n",
        "from voxelfuse.primitives import generateMaterials\n",
        "from voxelfuse.mesh import Mesh"
      ],
      "metadata": {
        "id": "_ZxYZ4Jtzpib"
      },
      "execution_count": 19,
      "outputs": []
    },
    {
      "cell_type": "code",
      "source": [
        "def VoxToSTL(obj):\n",
        "  if __name__=='__main__':\n",
        "    model = VoxelModel(obj, generateMaterials(4))  #4 is aluminium.\n",
        "    mesh = Mesh.fromVoxelModel(model)\n",
        "    mesh.export('mesh.stl')"
      ],
      "metadata": {
        "id": "wAHROp9y0V0d"
      },
      "execution_count": 21,
      "outputs": []
    },
    {
      "cell_type": "code",
      "source": [
        "#Caso de Prueba \n",
        "VoxToSTL(df['data'][0])"
      ],
      "metadata": {
        "colab": {
          "base_uri": "https://localhost:8080/"
        },
        "id": "4SWwkcxy1FIv",
        "outputId": "4ebc6f86-b7df-4b63-84a3-2482339fb6b7"
      },
      "execution_count": 22,
      "outputs": [
        {
          "output_type": "stream",
          "name": "stderr",
          "text": [
            "Finding exterior voxels: 100%|██████████| 16/16 [00:00<00:00, 549.02it/s]\n",
            "Meshing: 100%|██████████| 1742/1742 [00:00<00:00, 4529.54it/s]\n"
          ]
        }
      ]
    }
  ]
}